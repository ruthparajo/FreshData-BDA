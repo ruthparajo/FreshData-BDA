{
 "cells": [
  {
   "cell_type": "code",
   "execution_count": 1,
   "metadata": {},
   "outputs": [],
   "source": [
    "from pyspark.sql import SparkSession\n",
    "import pyspark.sql.functions as F\n",
    "from pyspark.sql.functions import col, expr, lit, min, max"
   ]
  },
  {
   "cell_type": "code",
   "execution_count": 2,
   "metadata": {},
   "outputs": [
    {
     "name": "stderr",
     "output_type": "stream",
     "text": [
      "24/04/22 09:37:29 WARN NativeCodeLoader: Unable to load native-hadoop library for your platform... using builtin-java classes where applicable\n",
      "Setting default log level to \"WARN\".\n",
      "To adjust logging level use sc.setLogLevel(newLevel). For SparkR, use setLogLevel(newLevel).\n",
      "24/04/22 09:37:30 WARN Utils: Service 'SparkUI' could not bind on port 4040. Attempting port 4041.\n"
     ]
    }
   ],
   "source": [
    "spark = SparkSession.builder\\\n",
    "    .config(\"spark.jars\", \"duckdb.jar\") \\\n",
    "    .getOrCreate()"
   ]
  },
  {
   "cell_type": "code",
   "execution_count": 3,
   "metadata": {},
   "outputs": [],
   "source": [
    "DF = spark.read \\\n",
    "  .format(\"jdbc\") \\\n",
    "  .option(\"url\", \"jdbc:duckdb:formatted_zone/freshdata.db\") \\\n",
    "  .option(\"driver\", \"org.duckdb.DuckDBDriver\") \\\n",
    "  .option(\"query\", \"SELECT * FROM rent_price\") \\\n",
    "  .load()"
   ]
  },
  {
   "cell_type": "code",
   "execution_count": 4,
   "metadata": {},
   "outputs": [
    {
     "name": "stdout",
     "output_type": "stream",
     "text": [
      "+----+---------+--------------+--------------------+--------------------+------+\n",
      "|Year|Trimester|      District|       Neighbourhood|       Average _rent| Price|\n",
      "+----+---------+--------------+--------------------+--------------------+------+\n",
      "|2014|        1|  Ciutat Vella|            el Raval|average rent (eur...|589.55|\n",
      "|2014|        1|  Ciutat Vella|      Gothic Quarter|average rent (eur...|712.79|\n",
      "|2014|        1|  Ciutat Vella|      la Barceloneta|average rent (eur...|540.71|\n",
      "|2014|        1|  Ciutat Vella|Sant Pere, Santa ...|average rent (eur...|673.44|\n",
      "|2014|        1|      Eixample|          Fort Pienc|average rent (eur...|736.09|\n",
      "|2014|        1|      Eixample|     Sagrada Familia|average rent (eur...|673.37|\n",
      "|2014|        1|      Eixample|la Dreta de l'Eix...|average rent (eur...| 921.4|\n",
      "|2014|        1|      Eixample|l'Antiga Esquerra...|average rent (eur...|827.87|\n",
      "|2014|        1|      Eixample|la Nova Esquerra ...|average rent (eur...|716.13|\n",
      "|2014|        1|      Eixample|         Sant Antoni|average rent (eur...|693.43|\n",
      "|2014|        1|Sants-Montjuic|        el Poble Sec|average rent (eur...| 568.0|\n",
      "|2014|        1|Sants-Montjuic|   la Marina de Port|average rent (eur...|553.55|\n",
      "|2014|        1|Sants-Montjuic|la Font de la Gua...|average rent (eur...| 631.5|\n",
      "|2014|        1|Sants-Montjuic|         Hostafrancs|average rent (eur...|580.71|\n",
      "|2014|        1|Sants-Montjuic|          la Bordeta|average rent (eur...|604.74|\n",
      "|2014|        1|Sants-Montjuic|       Sants - Badal|average rent (eur...|584.27|\n",
      "|2014|        1|Sants-Montjuic|               Sants|average rent (eur...|605.28|\n",
      "|2014|        1|     Les Corts|           les Corts|average rent (eur...|777.23|\n",
      "|2014|        1|     Les Corts|la Maternitat i S...|average rent (eur...|700.16|\n",
      "|2014|        1|     Les Corts|           Pedralbes|average rent (eur...|1230.0|\n",
      "+----+---------+--------------+--------------------+--------------------+------+\n",
      "only showing top 20 rows\n",
      "\n"
     ]
    }
   ],
   "source": [
    "DF.show()"
   ]
  }
 ],
 "metadata": {
  "kernelspec": {
   "display_name": "Python 3",
   "language": "python",
   "name": "python3"
  },
  "language_info": {
   "codemirror_mode": {
    "name": "ipython",
    "version": 3
   },
   "file_extension": ".py",
   "mimetype": "text/x-python",
   "name": "python",
   "nbconvert_exporter": "python",
   "pygments_lexer": "ipython3",
   "version": "3.10.7"
  }
 },
 "nbformat": 4,
 "nbformat_minor": 2
}
