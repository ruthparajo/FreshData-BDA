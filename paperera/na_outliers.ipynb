{
 "cells": [
  {
   "cell_type": "markdown",
   "metadata": {},
   "source": [
    "## Comprovació absència NA i Outliers df"
   ]
  },
  {
   "cell_type": "code",
   "execution_count": 1,
   "metadata": {},
   "outputs": [],
   "source": [
    "import pyspark\n",
    "from pyspark.sql import SparkSession\n",
    "import pyspark.sql.functions as F\n",
    "from pyspark.sql.functions import col, expr, lit\n",
    "import duckdb"
   ]
  },
  {
   "cell_type": "code",
   "execution_count": 3,
   "metadata": {},
   "outputs": [
    {
     "name": "stderr",
     "output_type": "stream",
     "text": [
      "24/04/16 15:58:18 WARN NativeCodeLoader: Unable to load native-hadoop library for your platform... using builtin-java classes where applicable\n",
      "Setting default log level to \"WARN\".\n",
      "To adjust logging level use sc.setLogLevel(newLevel). For SparkR, use setLogLevel(newLevel).\n"
     ]
    }
   ],
   "source": [
    "spark = SparkSession.builder\\\n",
    "    .config(\"spark.jars\", \"duckdb.jar\") \\\n",
    "    .getOrCreate()"
   ]
  },
  {
   "cell_type": "code",
   "execution_count": 102,
   "metadata": {},
   "outputs": [
    {
     "name": "stdout",
     "output_type": "stream",
     "text": [
      "Hi ha 0 valors duplicats al DataFrame 'formatted_zone/rent_price.db' de 4622 valors totals\n",
      "Hi ha 0 NAs\n",
      "S'ha escalat la columna 'Price' en funció de la columna 'Average _rent'\n",
      "Hi ha 36 outliers detectats per cuartils\n"
     ]
    }
   ],
   "source": [
    "# rent_price\n",
    "DF = spark.read \\\n",
    "  .format(\"jdbc\") \\\n",
    "  .option(\"url\", \"jdbc:duckdb:formatted_zone/rent_price.db\") \\\n",
    "  .option(\"driver\", \"org.duckdb.DuckDBDriver\") \\\n",
    "  .option(\"query\", \"SELECT * FROM RDD\") \\\n",
    "  .load()\n",
    "\n",
    "# verificar duplicats\n",
    "print(f\"Hi ha {DF.count() - DF.distinct().count()} valors duplicats al DataFrame 'formatted_zone/rent_price.db' de {DF.count()} valors totals\")\n",
    "\n",
    "# verificar NA\n",
    "print(f'Hi ha {DF.count() - DF.na.drop().count()} NAs')\n",
    "\n",
    "# escalar obteninint mínim i màxims via query en funció de la unitat\n",
    "min_max = spark.read \\\n",
    "  .format(\"jdbc\") \\\n",
    "  .option(\"url\", \"jdbc:duckdb:formatted_zone/rent_price.db\") \\\n",
    "  .option(\"driver\", \"org.duckdb.DuckDBDriver\") \\\n",
    "  .option(\"query\", 'SELECT \"Average _rent\", min(Price) AS min_price , max(Price) AS max_price FROM RDD GROUP BY \"Average _rent\"') \\\n",
    "  .load().collect()\n",
    "\n",
    "DF = DF.withColumn('Price', F.when(DF['Average _rent'] == min_max[0][0], (DF['Price'] - min_max[0].min_price)/(min_max[0].max_price - min_max[0].min_price)).otherwise((DF['Price'] - min_max[1].min_price)/(min_max[1].max_price - min_max[1].min_price)))\n",
    "\n",
    "print(\"S'ha escalat la columna 'Price' en funció de la columna 'Average _rent'\")\n",
    "\n",
    "# outliers\n",
    "IQR = DF.approxQuantile('Price', [0.25, 0.75], 0.001)\n",
    "IQR_values = IQR[1] - IQR[0]\n",
    "        \n",
    "DF = DF.withColumn('IQR', lit(IQR_values))\n",
    "                \n",
    "not_outliers = DF.filter(col('Price') >= IQR[0] - 1.5 * IQR_values)\\\n",
    "            .filter(col('Price') <= IQR[1] + 1.5 * IQR_values)\n",
    "\n",
    "outliers = DF.subtract(not_outliers)\n",
    "print(f\"Hi ha {outliers.count()} outliers detectats per cuartils\")\n",
    "\n",
    "DF = DF.drop('IQR')"
   ]
  }
 ],
 "metadata": {
  "kernelspec": {
   "display_name": "Python 3",
   "language": "python",
   "name": "python3"
  },
  "language_info": {
   "codemirror_mode": {
    "name": "ipython",
    "version": 3
   },
   "file_extension": ".py",
   "mimetype": "text/x-python",
   "name": "python",
   "nbconvert_exporter": "python",
   "pygments_lexer": "ipython3",
   "version": "3.10.7"
  }
 },
 "nbformat": 4,
 "nbformat_minor": 2
}
