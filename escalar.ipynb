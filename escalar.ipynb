{
 "cells": [
  {
   "cell_type": "markdown",
   "metadata": {},
   "source": [
    "## Escalar variables numèriques dels df\n",
    "\n",
    "FALTA GUARDAR ELS DATAFRAMES NORMALITZATS"
   ]
  },
  {
   "cell_type": "code",
   "execution_count": 5,
   "metadata": {},
   "outputs": [],
   "source": [
    "import pyspark\n",
    "from pyspark.sql import SparkSession\n",
    "\n",
    "sc = SparkSession.builder.getOrCreate()"
   ]
  },
  {
   "cell_type": "code",
   "execution_count": 6,
   "metadata": {},
   "outputs": [],
   "source": [
    "paths = ['data_lake/compravenda_sup.parquet', 'data_lake/rent_price.parquet', 'data_lake/renda.parquet']\n",
    "col_numeriques = {'data_lake/compravenda_sup.parquet': ['Nombre']\n",
    "                  , 'data_lake/renda.parquet': ['Import_Euros']\n",
    "                , 'data_lake/rent_price.parquet': ['Price']}"
   ]
  },
  {
   "cell_type": "code",
   "execution_count": 7,
   "metadata": {},
   "outputs": [],
   "source": [
    "for path in paths:\n",
    "    RDD = sc.read.parquet(path)\n",
    "    for columna in col_numeriques[path]:\n",
    "        valor_min = RDD.rdd.filter(lambda f: '-' not in str(f[columna]))\\\n",
    "            .map(lambda x: (1, x[columna]))\\\n",
    "            .mapValues(lambda x: float(x) if type(x) == str else x)\\\n",
    "            .reduceByKey(lambda x, y: min(x,y)).collect()[0][1]\n",
    "        valor_max = RDD.rdd.filter(lambda f: '-' not in str(f[columna]))\\\n",
    "            .map(lambda x: (1, float(x[columna])))\\\n",
    "            .reduceByKey(lambda x, y: max(x,y)).collect()[0][1]\n",
    "        \n",
    "        RDD = RDD.withColumn(columna, (RDD[columna] - valor_min)/ (valor_max - valor_min))\n",
    "\n",
    "    # falta el RDD.write"
   ]
  },
  {
   "cell_type": "code",
   "execution_count": 8,
   "metadata": {},
   "outputs": [],
   "source": [
    "sc.stop()"
   ]
  }
 ],
 "metadata": {
  "kernelspec": {
   "display_name": "Python 3",
   "language": "python",
   "name": "python3"
  },
  "language_info": {
   "codemirror_mode": {
    "name": "ipython",
    "version": 3
   },
   "file_extension": ".py",
   "mimetype": "text/x-python",
   "name": "python",
   "nbconvert_exporter": "python",
   "pygments_lexer": "ipython3",
   "version": "3.10.7"
  }
 },
 "nbformat": 4,
 "nbformat_minor": 2
}
