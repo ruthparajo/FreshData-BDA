{
 "cells": [
  {
   "cell_type": "code",
   "execution_count": 14,
   "metadata": {},
   "outputs": [],
   "source": [
    "import pandas as pd\n",
    "import requests\n",
    "import csv\n",
    "from io import StringIO\n",
    "import chardet"
   ]
  },
  {
   "cell_type": "code",
   "execution_count": 15,
   "metadata": {},
   "outputs": [],
   "source": [
    "response = requests.get('https://opendata-ajuntament.barcelona.cat/data/es/dataset/est-mercat-immobiliari-compravenda-sup/resource/56b5a20f-078f-40f3-a637-bfa455d0ce1d/download')"
   ]
  },
  {
   "cell_type": "code",
   "execution_count": 16,
   "metadata": {},
   "outputs": [],
   "source": [
    "if response.status_code == 200:\n",
    "    # Detecta automáticamente la codificación del contenido\n",
    "    encoding = chardet.detect(response.content)['encoding']\n",
    "    \n",
    "    # Decodifica el contenido con la codificación detectada\n",
    "    contenido = response.content.decode(encoding)\n",
    "    \n",
    "    # Utilizamos StringIO para convertir el contenido en un archivo que pd.read_csv pueda leer\n",
    "    csv_file = StringIO(contenido)\n",
    "    \n",
    "    # Utilizamos pd.read_csv para leer el contenido CSV\n",
    "    df = pd.read_csv(csv_file)\n",
    "\n",
    "else:\n",
    "    print(\"La solicitud no fue exitosa. Código de estado:\", response.status_code)\n"
   ]
  },
  {
   "cell_type": "code",
   "execution_count": 17,
   "metadata": {},
   "outputs": [],
   "source": [
    "df.to_parquet('data_lake/compravenda_sup.parquet')"
   ]
  },
  {
   "cell_type": "code",
   "execution_count": 18,
   "metadata": {},
   "outputs": [],
   "source": [
    "response = requests.get('https://opendata-ajuntament.barcelona.cat/data/dataset/c9b9b5e5-b02f-4b47-892b-79acf0191802/resource/44916a85-462d-4c1c-b3a5-98d9e161c299/download')"
   ]
  },
  {
   "cell_type": "code",
   "execution_count": 19,
   "metadata": {},
   "outputs": [],
   "source": [
    "if response.status_code == 200:\n",
    "    # Detecta automáticamente la codificación del contenido\n",
    "    encoding = chardet.detect(response.content)['encoding']\n",
    "    \n",
    "    # Decodifica el contenido con la codificación detectada\n",
    "    contenido = response.content.decode(encoding)\n",
    "    \n",
    "    # Utilizamos StringIO para convertir el contenido en un archivo que pd.read_csv pueda leer\n",
    "    csv_file = StringIO(contenido)\n",
    "    \n",
    "    # Utilizamos pd.read_csv para leer el contenido CSV\n",
    "    df = pd.read_csv(csv_file)\n",
    "\n",
    "else:\n",
    "    print(\"La solicitud no fue exitosa. Código de estado:\", response.status_code)"
   ]
  },
  {
   "cell_type": "code",
   "execution_count": 20,
   "metadata": {},
   "outputs": [
    {
     "data": {
      "text/html": [
       "<div>\n",
       "<style scoped>\n",
       "    .dataframe tbody tr th:only-of-type {\n",
       "        vertical-align: middle;\n",
       "    }\n",
       "\n",
       "    .dataframe tbody tr th {\n",
       "        vertical-align: top;\n",
       "    }\n",
       "\n",
       "    .dataframe thead th {\n",
       "        text-align: right;\n",
       "    }\n",
       "</style>\n",
       "<table border=\"1\" class=\"dataframe\">\n",
       "  <thead>\n",
       "    <tr style=\"text-align: right;\">\n",
       "      <th></th>\n",
       "      <th>Any</th>\n",
       "      <th>Codi_Districte</th>\n",
       "      <th>Nom_Districte</th>\n",
       "      <th>Codi_Barri</th>\n",
       "      <th>Nom_Barri</th>\n",
       "      <th>Seccio_Censal</th>\n",
       "      <th>Import_Euros</th>\n",
       "    </tr>\n",
       "  </thead>\n",
       "  <tbody>\n",
       "    <tr>\n",
       "      <th>0</th>\n",
       "      <td>2021</td>\n",
       "      <td>1</td>\n",
       "      <td>Ciutat Vella</td>\n",
       "      <td>1</td>\n",
       "      <td>el Raval</td>\n",
       "      <td>1</td>\n",
       "      <td>28484</td>\n",
       "    </tr>\n",
       "    <tr>\n",
       "      <th>1</th>\n",
       "      <td>2021</td>\n",
       "      <td>1</td>\n",
       "      <td>Ciutat Vella</td>\n",
       "      <td>1</td>\n",
       "      <td>el Raval</td>\n",
       "      <td>2</td>\n",
       "      <td>23611</td>\n",
       "    </tr>\n",
       "    <tr>\n",
       "      <th>2</th>\n",
       "      <td>2021</td>\n",
       "      <td>1</td>\n",
       "      <td>Ciutat Vella</td>\n",
       "      <td>1</td>\n",
       "      <td>el Raval</td>\n",
       "      <td>3</td>\n",
       "      <td>26607</td>\n",
       "    </tr>\n",
       "    <tr>\n",
       "      <th>3</th>\n",
       "      <td>2021</td>\n",
       "      <td>1</td>\n",
       "      <td>Ciutat Vella</td>\n",
       "      <td>1</td>\n",
       "      <td>el Raval</td>\n",
       "      <td>4</td>\n",
       "      <td>28688</td>\n",
       "    </tr>\n",
       "    <tr>\n",
       "      <th>4</th>\n",
       "      <td>2021</td>\n",
       "      <td>1</td>\n",
       "      <td>Ciutat Vella</td>\n",
       "      <td>1</td>\n",
       "      <td>el Raval</td>\n",
       "      <td>5</td>\n",
       "      <td>23769</td>\n",
       "    </tr>\n",
       "    <tr>\n",
       "      <th>...</th>\n",
       "      <td>...</td>\n",
       "      <td>...</td>\n",
       "      <td>...</td>\n",
       "      <td>...</td>\n",
       "      <td>...</td>\n",
       "      <td>...</td>\n",
       "      <td>...</td>\n",
       "    </tr>\n",
       "    <tr>\n",
       "      <th>1063</th>\n",
       "      <td>2021</td>\n",
       "      <td>10</td>\n",
       "      <td>Sant Martí</td>\n",
       "      <td>73</td>\n",
       "      <td>la Verneda i la Pau</td>\n",
       "      <td>143</td>\n",
       "      <td>34553</td>\n",
       "    </tr>\n",
       "    <tr>\n",
       "      <th>1064</th>\n",
       "      <td>2021</td>\n",
       "      <td>10</td>\n",
       "      <td>Sant Martí</td>\n",
       "      <td>65</td>\n",
       "      <td>el Clot</td>\n",
       "      <td>234</td>\n",
       "      <td>38965</td>\n",
       "    </tr>\n",
       "    <tr>\n",
       "      <th>1065</th>\n",
       "      <td>2021</td>\n",
       "      <td>10</td>\n",
       "      <td>Sant Martí</td>\n",
       "      <td>69</td>\n",
       "      <td>Diagonal Mar i el Front Marítim del Poblenou</td>\n",
       "      <td>235</td>\n",
       "      <td>29774</td>\n",
       "    </tr>\n",
       "    <tr>\n",
       "      <th>1066</th>\n",
       "      <td>2021</td>\n",
       "      <td>10</td>\n",
       "      <td>Sant Martí</td>\n",
       "      <td>69</td>\n",
       "      <td>Diagonal Mar i el Front Marítim del Poblenou</td>\n",
       "      <td>236</td>\n",
       "      <td>32925</td>\n",
       "    </tr>\n",
       "    <tr>\n",
       "      <th>1067</th>\n",
       "      <td>2021</td>\n",
       "      <td>10</td>\n",
       "      <td>Sant Martí</td>\n",
       "      <td>71</td>\n",
       "      <td>Provençals del Poblenou</td>\n",
       "      <td>237</td>\n",
       "      <td>30416</td>\n",
       "    </tr>\n",
       "  </tbody>\n",
       "</table>\n",
       "<p>1068 rows × 7 columns</p>\n",
       "</div>"
      ],
      "text/plain": [
       "       Any  Codi_Districte Nom_Districte  Codi_Barri  \\\n",
       "0     2021               1  Ciutat Vella           1   \n",
       "1     2021               1  Ciutat Vella           1   \n",
       "2     2021               1  Ciutat Vella           1   \n",
       "3     2021               1  Ciutat Vella           1   \n",
       "4     2021               1  Ciutat Vella           1   \n",
       "...    ...             ...           ...         ...   \n",
       "1063  2021              10    Sant Martí          73   \n",
       "1064  2021              10    Sant Martí          65   \n",
       "1065  2021              10    Sant Martí          69   \n",
       "1066  2021              10    Sant Martí          69   \n",
       "1067  2021              10    Sant Martí          71   \n",
       "\n",
       "                                         Nom_Barri  Seccio_Censal  \\\n",
       "0                                         el Raval              1   \n",
       "1                                         el Raval              2   \n",
       "2                                         el Raval              3   \n",
       "3                                         el Raval              4   \n",
       "4                                         el Raval              5   \n",
       "...                                            ...            ...   \n",
       "1063                           la Verneda i la Pau            143   \n",
       "1064                                       el Clot            234   \n",
       "1065  Diagonal Mar i el Front Marítim del Poblenou            235   \n",
       "1066  Diagonal Mar i el Front Marítim del Poblenou            236   \n",
       "1067                       Provençals del Poblenou            237   \n",
       "\n",
       "      Import_Euros  \n",
       "0            28484  \n",
       "1            23611  \n",
       "2            26607  \n",
       "3            28688  \n",
       "4            23769  \n",
       "...            ...  \n",
       "1063         34553  \n",
       "1064         38965  \n",
       "1065         29774  \n",
       "1066         32925  \n",
       "1067         30416  \n",
       "\n",
       "[1068 rows x 7 columns]"
      ]
     },
     "execution_count": 20,
     "metadata": {},
     "output_type": "execute_result"
    }
   ],
   "source": [
    "df"
   ]
  },
  {
   "cell_type": "code",
   "execution_count": 21,
   "metadata": {},
   "outputs": [],
   "source": [
    "df.to_parquet('data_lake/renda.parquet')"
   ]
  },
  {
   "cell_type": "code",
   "execution_count": 22,
   "metadata": {},
   "outputs": [],
   "source": [
    "response = requests.get('https://www.kaggle.com/datasets/marshuu/rent-price-in-barcelona-2014-2022/download/datasetVersionNumber=1')"
   ]
  },
  {
   "cell_type": "code",
   "execution_count": 23,
   "metadata": {},
   "outputs": [
    {
     "name": "stdout",
     "output_type": "stream",
     "text": [
      "Warning: Your Kaggle API key is readable by other users on this system! To fix this, you can run 'chmod 600 /Users/estebangatein/.kaggle/kaggle.json'\n",
      "Downloading rent-price-in-barcelona-2014-2022.zip to /Users/estebangatein/Desktop/IA/BDA/FreshData-BDA\n",
      "  0%|                                               | 0.00/33.6k [00:00<?, ?B/s]\n",
      "100%|███████████████████████████████████████| 33.6k/33.6k [00:00<00:00, 453kB/s]\n"
     ]
    }
   ],
   "source": [
    "!kaggle datasets download -d marshuu/rent-price-in-barcelona-2014-2022"
   ]
  },
  {
   "cell_type": "code",
   "execution_count": 24,
   "metadata": {},
   "outputs": [
    {
     "name": "stdout",
     "output_type": "stream",
     "text": [
      "Archive:  rent-price-in-barcelona-2014-2022.zip\n",
      "  inflating: Barcelona_rent_price.csv  \n"
     ]
    }
   ],
   "source": [
    "!unzip rent-price-in-barcelona-2014-2022.zip"
   ]
  },
  {
   "cell_type": "code",
   "execution_count": 25,
   "metadata": {},
   "outputs": [],
   "source": [
    "pd.read_csv('Barcelona_rent_price.csv').to_parquet('data_lake/rent_price.parquet')"
   ]
  },
  {
   "cell_type": "code",
   "execution_count": 26,
   "metadata": {},
   "outputs": [],
   "source": [
    "!rm rent-price-in-barcelona-2014-2022.zip Barcelona_rent_price.csv"
   ]
  }
 ],
 "metadata": {
  "kernelspec": {
   "display_name": "Python 3",
   "language": "python",
   "name": "python3"
  },
  "language_info": {
   "codemirror_mode": {
    "name": "ipython",
    "version": 3
   },
   "file_extension": ".py",
   "mimetype": "text/x-python",
   "name": "python",
   "nbconvert_exporter": "python",
   "pygments_lexer": "ipython3",
   "version": "3.10.7"
  },
  "orig_nbformat": 4
 },
 "nbformat": 4,
 "nbformat_minor": 2
}
