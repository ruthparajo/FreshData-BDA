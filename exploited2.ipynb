{
 "cells": [
  {
   "cell_type": "code",
   "execution_count": null,
   "metadata": {},
   "outputs": [],
   "source": [
    "from pyspark.sql import SparkSession\n",
    "import pyspark.sql.functions as F\n",
    "from pyspark.sql.functions import col, expr, lit, min, max, mean,udf\n",
    "from unidecode import unidecode"
   ]
  },
  {
   "cell_type": "code",
   "execution_count": null,
   "metadata": {},
   "outputs": [],
   "source": [
    "def quitar_acentos_y_L(cadena):\n",
    "    cadena_sin_acentos = unidecode(cadena)\n",
    "    return cadena_sin_acentos.replace(\"L'\", \"\")"
   ]
  },
  {
   "cell_type": "code",
   "execution_count": null,
   "metadata": {},
   "outputs": [],
   "source": [
    "spark = SparkSession.builder\\\n",
    "    .config(\"spark.jars\", \"duckdb.jar\") \\\n",
    "    .getOrCreate()"
   ]
  },
  {
   "cell_type": "code",
   "execution_count": null,
   "metadata": {},
   "outputs": [],
   "source": [
    "DF1 = spark.read \\\n",
    "  .format(\"jdbc\") \\\n",
    "  .option(\"url\", \"jdbc:duckdb:formatted_zone/freshdata.db\") \\\n",
    "  .option(\"driver\", \"org.duckdb.DuckDBDriver\") \\\n",
    "  .option(\"query\", \"SELECT * FROM renda\") \\\n",
    "  .load()\n",
    "DF1.show()"
   ]
  },
  {
   "cell_type": "code",
   "execution_count": null,
   "metadata": {},
   "outputs": [],
   "source": [
    "DF2 = spark.read \\\n",
    "  .format(\"jdbc\") \\\n",
    "  .option(\"url\", \"jdbc:duckdb:formatted_zone/freshdata.db\") \\\n",
    "  .option(\"driver\", \"org.duckdb.DuckDBDriver\") \\\n",
    "  .option(\"query\", \"SELECT * FROM rent_price\") \\\n",
    "  .load()\n",
    "DF2.show()"
   ]
  },
  {
   "cell_type": "code",
   "execution_count": null,
   "metadata": {},
   "outputs": [],
   "source": [
    "quitar_acentos_y_L_udf = udf(quitar_acentos_y_L, StringType())\n",
    "\n",
    "# Aplicar la función UDF a la columna 'texto_con_acentos' y crear una nueva columna\n",
    "DF1 = DF1.withColumn('texto_sin_acentos', quitar_acentos_y_L_udf(DF1['texto_con_acentos']))\n",
    "\n",
    "# Mostrar el DataFrame resultante\n",
    "DF1.show()"
   ]
  },
  {
   "cell_type": "code",
   "execution_count": null,
   "metadata": {},
   "outputs": [],
   "source": [
    "DF1.write \\\n",
    "        .format(\"jdbc\") \\\n",
    "        .option(\"url\", f\"jdbc:duckdb:trusted_zone/freshdata_trusted.db\") \\\n",
    "        .option(\"dbtable\", \"renda\") \\\n",
    "        .option(\"driver\", \"org.duckdb.DuckDBDriver\") \\\n",
    "        .mode(\"overwrite\") \\\n",
    "        .save()"
   ]
  },
  {
   "cell_type": "code",
   "execution_count": null,
   "metadata": {},
   "outputs": [],
   "source": []
  }
 ],
 "metadata": {
  "language_info": {
   "name": "python"
  },
  "orig_nbformat": 4
 },
 "nbformat": 4,
 "nbformat_minor": 2
}
