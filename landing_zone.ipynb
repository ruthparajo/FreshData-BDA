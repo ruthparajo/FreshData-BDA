{
 "cells": [
  {
   "cell_type": "code",
   "execution_count": 1,
   "metadata": {},
   "outputs": [
    {
     "name": "stdout",
     "output_type": "stream",
     "text": [
      "Defaulting to user installation because normal site-packages is not writeable\n",
      "Collecting chardet\n",
      "  Downloading chardet-5.2.0-py3-none-any.whl.metadata (3.4 kB)\n",
      "Downloading chardet-5.2.0-py3-none-any.whl (199 kB)\n",
      "\u001b[2K   \u001b[90m━━━━━━━━━━━━━━━━━━━━━━━━━━━━━━━━━━━━━━━━\u001b[0m \u001b[32m199.4/199.4 kB\u001b[0m \u001b[31m31.9 kB/s\u001b[0m eta \u001b[36m0:00:00\u001b[0m00:01\u001b[0m00:01\u001b[0m\n",
      "\u001b[?25hInstalling collected packages: chardet\n",
      "Successfully installed chardet-5.2.0\n",
      "\n",
      "\u001b[1m[\u001b[0m\u001b[34;49mnotice\u001b[0m\u001b[1;39;49m]\u001b[0m\u001b[39;49m A new release of pip is available: \u001b[0m\u001b[31;49m23.3.1\u001b[0m\u001b[39;49m -> \u001b[0m\u001b[32;49m24.0\u001b[0m\n",
      "\u001b[1m[\u001b[0m\u001b[34;49mnotice\u001b[0m\u001b[1;39;49m]\u001b[0m\u001b[39;49m To update, run: \u001b[0m\u001b[32;49m/Library/Developer/CommandLineTools/usr/bin/python3 -m pip install --upgrade pip\u001b[0m\n",
      "Defaulting to user installation because normal site-packages is not writeable\n",
      "Collecting pyarrow\n",
      "  Downloading pyarrow-15.0.2-cp39-cp39-macosx_11_0_arm64.whl.metadata (3.0 kB)\n",
      "Requirement already satisfied: numpy<2,>=1.16.6 in /Users/ruthparajo/Library/Python/3.9/lib/python/site-packages (from pyarrow) (1.26.0)\n",
      "Downloading pyarrow-15.0.2-cp39-cp39-macosx_11_0_arm64.whl (24.2 MB)\n",
      "\u001b[2K   \u001b[90m━━━━━━━━━━━━━━━━━━━━━━━━━━━━━━━━━━━━━━━━\u001b[0m \u001b[32m24.2/24.2 MB\u001b[0m \u001b[31m330.8 kB/s\u001b[0m eta \u001b[36m0:00:00\u001b[0m00:01\u001b[0m00:04\u001b[0m\n",
      "\u001b[?25hInstalling collected packages: pyarrow\n",
      "Successfully installed pyarrow-15.0.2\n",
      "\n",
      "\u001b[1m[\u001b[0m\u001b[34;49mnotice\u001b[0m\u001b[1;39;49m]\u001b[0m\u001b[39;49m A new release of pip is available: \u001b[0m\u001b[31;49m23.3.1\u001b[0m\u001b[39;49m -> \u001b[0m\u001b[32;49m24.0\u001b[0m\n",
      "\u001b[1m[\u001b[0m\u001b[34;49mnotice\u001b[0m\u001b[1;39;49m]\u001b[0m\u001b[39;49m To update, run: \u001b[0m\u001b[32;49m/Library/Developer/CommandLineTools/usr/bin/python3 -m pip install --upgrade pip\u001b[0m\n",
      "Defaulting to user installation because normal site-packages is not writeable\n",
      "Requirement already satisfied: kaggle in /Users/ruthparajo/Library/Python/3.9/lib/python/site-packages (1.5.16)\n",
      "Requirement already satisfied: six>=1.10 in /Library/Developer/CommandLineTools/Library/Frameworks/Python3.framework/Versions/3.9/lib/python3.9/site-packages (from kaggle) (1.15.0)\n",
      "Requirement already satisfied: certifi in /Users/ruthparajo/Library/Python/3.9/lib/python/site-packages (from kaggle) (2023.7.22)\n",
      "Requirement already satisfied: python-dateutil in /Users/ruthparajo/Library/Python/3.9/lib/python/site-packages (from kaggle) (2.8.2)\n",
      "Requirement already satisfied: requests in /Users/ruthparajo/Library/Python/3.9/lib/python/site-packages (from kaggle) (2.31.0)\n",
      "Requirement already satisfied: tqdm in /Users/ruthparajo/Library/Python/3.9/lib/python/site-packages (from kaggle) (4.66.1)\n",
      "Requirement already satisfied: python-slugify in /Users/ruthparajo/Library/Python/3.9/lib/python/site-packages (from kaggle) (8.0.1)\n",
      "Requirement already satisfied: urllib3 in /Users/ruthparajo/Library/Python/3.9/lib/python/site-packages (from kaggle) (2.0.5)\n",
      "Requirement already satisfied: bleach in /Users/ruthparajo/Library/Python/3.9/lib/python/site-packages (from kaggle) (6.1.0)\n",
      "Requirement already satisfied: webencodings in /Users/ruthparajo/Library/Python/3.9/lib/python/site-packages (from bleach->kaggle) (0.5.1)\n",
      "Requirement already satisfied: text-unidecode>=1.3 in /Users/ruthparajo/Library/Python/3.9/lib/python/site-packages (from python-slugify->kaggle) (1.3)\n",
      "Requirement already satisfied: charset-normalizer<4,>=2 in /Users/ruthparajo/Library/Python/3.9/lib/python/site-packages (from requests->kaggle) (3.2.0)\n",
      "Requirement already satisfied: idna<4,>=2.5 in /Users/ruthparajo/Library/Python/3.9/lib/python/site-packages (from requests->kaggle) (3.4)\n",
      "\n",
      "\u001b[1m[\u001b[0m\u001b[34;49mnotice\u001b[0m\u001b[1;39;49m]\u001b[0m\u001b[39;49m A new release of pip is available: \u001b[0m\u001b[31;49m23.3.1\u001b[0m\u001b[39;49m -> \u001b[0m\u001b[32;49m24.0\u001b[0m\n",
      "\u001b[1m[\u001b[0m\u001b[34;49mnotice\u001b[0m\u001b[1;39;49m]\u001b[0m\u001b[39;49m To update, run: \u001b[0m\u001b[32;49m/Library/Developer/CommandLineTools/usr/bin/python3 -m pip install --upgrade pip\u001b[0m\n"
     ]
    }
   ],
   "source": [
    "# !pip install chardet\n",
    "# !pip install pyarrow\n",
    "# !pip install kaggle"
   ]
  },
  {
   "cell_type": "code",
   "execution_count": 3,
   "metadata": {},
   "outputs": [
    {
     "name": "stderr",
     "output_type": "stream",
     "text": [
      "/Users/oliviapc/Library/Python/3.9/lib/python/site-packages/urllib3/__init__.py:34: NotOpenSSLWarning: urllib3 v2 only supports OpenSSL 1.1.1+, currently the 'ssl' module is compiled with 'LibreSSL 2.8.3'. See: https://github.com/urllib3/urllib3/issues/3020\n",
      "  warnings.warn(\n"
     ]
    }
   ],
   "source": [
    "import pandas as pd\n",
    "import requests\n",
    "from io import StringIO\n",
    "import chardet"
   ]
  },
  {
   "cell_type": "markdown",
   "metadata": {},
   "source": [
    "## Descàrrega API Compravenda"
   ]
  },
  {
   "cell_type": "code",
   "execution_count": 3,
   "metadata": {},
   "outputs": [],
   "source": [
    "response = requests.get('https://opendata-ajuntament.barcelona.cat/data/es/dataset/est-mercat-immobiliari-compravenda-sup/resource/56b5a20f-078f-40f3-a637-bfa455d0ce1d/download')"
   ]
  },
  {
   "cell_type": "code",
   "execution_count": 4,
   "metadata": {},
   "outputs": [],
   "source": [
    "if response.status_code == 200:\n",
    "    # Detecta automáticamente la codificación del contenido\n",
    "    encoding = chardet.detect(response.content)['encoding']\n",
    "    \n",
    "    # Decodifica el contenido con la codificación detectada\n",
    "    contenido = response.content.decode(encoding)\n",
    "    \n",
    "    # Utilizamos StringIO para convertir el contenido en un archivo que pd.read_csv pueda leer\n",
    "    csv_file = StringIO(contenido)\n",
    "    \n",
    "    # Utilizamos pd.read_csv para leer el contenido CSV\n",
    "    df = pd.read_csv(csv_file)\n",
    "\n",
    "else:\n",
    "    print(\"La solicitud no fue exitosa. Código de estado:\", response.status_code)\n"
   ]
  },
  {
   "cell_type": "code",
   "execution_count": 5,
   "metadata": {},
   "outputs": [],
   "source": [
    "#df.to_parquet('data_lake/compravenda_sup.parquet')"
   ]
  },
  {
   "cell_type": "markdown",
   "metadata": {},
   "source": [
    "## Descàrrega API Renda Tributària per llar"
   ]
  },
  {
   "cell_type": "code",
   "execution_count": 1,
   "metadata": {},
   "outputs": [],
   "source": [
    "path = ['https://opendata-ajuntament.barcelona.cat/data/dataset/c9b9b5e5-b02f-4b47-892b-79acf0191802/resource/44916a85-462d-4c1c-b3a5-98d9e161c299/download','https://opendata-ajuntament.barcelona.cat/data/dataset/c9b9b5e5-b02f-4b47-892b-79acf0191802/resource/cb629032-8de5-4a52-ba0a-c5e2410d0911/download', 'https://opendata-ajuntament.barcelona.cat/data/dataset/c9b9b5e5-b02f-4b47-892b-79acf0191802/resource/0d9df8cf-8b95-43c3-b07d-14e11f2ebdaf/download','https://opendata-ajuntament.barcelona.cat/data/dataset/c9b9b5e5-b02f-4b47-892b-79acf0191802/resource/9d30d9b1-bbbe-4431-84f1-bcbf001acc14/download','https://opendata-ajuntament.barcelona.cat/data/dataset/c9b9b5e5-b02f-4b47-892b-79acf0191802/resource/47dabf0e-371d-4739-9206-c81a56666797/download','https://opendata-ajuntament.barcelona.cat/data/dataset/c9b9b5e5-b02f-4b47-892b-79acf0191802/resource/37147963-5686-4746-8b13-9a1349906351/download','https://opendata-ajuntament.barcelona.cat/data/dataset/c9b9b5e5-b02f-4b47-892b-79acf0191802/resource/94d5b7c5-b702-420f-957d-14ce10e3add5/download']"
   ]
  },
  {
   "cell_type": "code",
   "execution_count": 4,
   "metadata": {},
   "outputs": [],
   "source": [
    "renta_global = pd.DataFrame()"
   ]
  },
  {
   "cell_type": "code",
   "execution_count": 5,
   "metadata": {},
   "outputs": [],
   "source": [
    "for i in path:\n",
    "    response = requests.get(i)\n",
    "    if response.status_code == 200:\n",
    "        # Detecta automáticamente la codificación del contenido\n",
    "        encoding = chardet.detect(response.content)['encoding']\n",
    "        \n",
    "        # Decodifica el contenido con la codificación detectada\n",
    "        contenido = response.content.decode(encoding)\n",
    "        \n",
    "        # Utilizamos StringIO para convertir el contenido en un archivo que pd.read_csv pueda leer\n",
    "        csv_file = StringIO(contenido)\n",
    "        \n",
    "        # Utilizamos pd.read_csv para leer el contenido CSV\n",
    "        df = pd.read_csv(csv_file)\n",
    "        if 'Import_Euros ' in df.columns:\n",
    "            df.rename(columns={'Import_Euros ': 'Import_Euros'}, inplace=True)\n",
    "        \n",
    "        # Agregar el contenido al DataFrame global\n",
    "        renta_global = pd.concat([renta_global, df], ignore_index=True)\n",
    "\n",
    "    else:\n",
    "        print(\"La solicitud no fue exitosa. Código de estado:\", response.status_code)"
   ]
  },
  {
   "cell_type": "code",
   "execution_count": 6,
   "metadata": {},
   "outputs": [],
   "source": [
    "renta_global.to_parquet('data_lake/renda.parquet')"
   ]
  },
  {
   "cell_type": "code",
   "execution_count": 7,
   "metadata": {},
   "outputs": [],
   "source": [
    "\"\"\"if response.status_code == 200:\n",
    "    # Detecta automáticamente la codificación del contenido\n",
    "    encoding = chardet.detect(response.content)['encoding']\n",
    "    \n",
    "    # Decodifica el contenido con la codificación detectada\n",
    "    contenido = response.content.decode(encoding)\n",
    "    \n",
    "    # Utilizamos StringIO para convertir el contenido en un archivo que pd.read_csv pueda leer\n",
    "    csv_file = StringIO(contenido)\n",
    "    \n",
    "    # Utilizamos pd.read_csv para leer el contenido CSV\n",
    "    df = pd.read_csv(csv_file)\n",
    "\n",
    "else:\n",
    "    print(\"La solicitud no fue exitosa. Código de estado:\", response.status_code)\"\"\""
   ]
  },
  {
   "cell_type": "code",
   "execution_count": 8,
   "metadata": {},
   "outputs": [
    {
     "data": {
      "text/html": [
       "<div>\n",
       "<style scoped>\n",
       "    .dataframe tbody tr th:only-of-type {\n",
       "        vertical-align: middle;\n",
       "    }\n",
       "\n",
       "    .dataframe tbody tr th {\n",
       "        vertical-align: top;\n",
       "    }\n",
       "\n",
       "    .dataframe thead th {\n",
       "        text-align: right;\n",
       "    }\n",
       "</style>\n",
       "<table border=\"1\" class=\"dataframe\">\n",
       "  <thead>\n",
       "    <tr style=\"text-align: right;\">\n",
       "      <th></th>\n",
       "      <th>Any</th>\n",
       "      <th>Codi_Districte</th>\n",
       "      <th>Nom_Districte</th>\n",
       "      <th>Codi_Barri</th>\n",
       "      <th>Nom_Barri</th>\n",
       "      <th>Seccio_Censal</th>\n",
       "      <th>Import_Euros</th>\n",
       "    </tr>\n",
       "  </thead>\n",
       "  <tbody>\n",
       "    <tr>\n",
       "      <th>0</th>\n",
       "      <td>2021</td>\n",
       "      <td>1</td>\n",
       "      <td>Ciutat Vella</td>\n",
       "      <td>1</td>\n",
       "      <td>el Raval</td>\n",
       "      <td>1</td>\n",
       "      <td>28484</td>\n",
       "    </tr>\n",
       "    <tr>\n",
       "      <th>1</th>\n",
       "      <td>2021</td>\n",
       "      <td>1</td>\n",
       "      <td>Ciutat Vella</td>\n",
       "      <td>1</td>\n",
       "      <td>el Raval</td>\n",
       "      <td>2</td>\n",
       "      <td>23611</td>\n",
       "    </tr>\n",
       "    <tr>\n",
       "      <th>2</th>\n",
       "      <td>2021</td>\n",
       "      <td>1</td>\n",
       "      <td>Ciutat Vella</td>\n",
       "      <td>1</td>\n",
       "      <td>el Raval</td>\n",
       "      <td>3</td>\n",
       "      <td>26607</td>\n",
       "    </tr>\n",
       "    <tr>\n",
       "      <th>3</th>\n",
       "      <td>2021</td>\n",
       "      <td>1</td>\n",
       "      <td>Ciutat Vella</td>\n",
       "      <td>1</td>\n",
       "      <td>el Raval</td>\n",
       "      <td>4</td>\n",
       "      <td>28688</td>\n",
       "    </tr>\n",
       "    <tr>\n",
       "      <th>4</th>\n",
       "      <td>2021</td>\n",
       "      <td>1</td>\n",
       "      <td>Ciutat Vella</td>\n",
       "      <td>1</td>\n",
       "      <td>el Raval</td>\n",
       "      <td>5</td>\n",
       "      <td>23769</td>\n",
       "    </tr>\n",
       "    <tr>\n",
       "      <th>...</th>\n",
       "      <td>...</td>\n",
       "      <td>...</td>\n",
       "      <td>...</td>\n",
       "      <td>...</td>\n",
       "      <td>...</td>\n",
       "      <td>...</td>\n",
       "      <td>...</td>\n",
       "    </tr>\n",
       "    <tr>\n",
       "      <th>1063</th>\n",
       "      <td>2021</td>\n",
       "      <td>10</td>\n",
       "      <td>Sant Martí</td>\n",
       "      <td>73</td>\n",
       "      <td>la Verneda i la Pau</td>\n",
       "      <td>143</td>\n",
       "      <td>34553</td>\n",
       "    </tr>\n",
       "    <tr>\n",
       "      <th>1064</th>\n",
       "      <td>2021</td>\n",
       "      <td>10</td>\n",
       "      <td>Sant Martí</td>\n",
       "      <td>65</td>\n",
       "      <td>el Clot</td>\n",
       "      <td>234</td>\n",
       "      <td>38965</td>\n",
       "    </tr>\n",
       "    <tr>\n",
       "      <th>1065</th>\n",
       "      <td>2021</td>\n",
       "      <td>10</td>\n",
       "      <td>Sant Martí</td>\n",
       "      <td>69</td>\n",
       "      <td>Diagonal Mar i el Front Marítim del Poblenou</td>\n",
       "      <td>235</td>\n",
       "      <td>29774</td>\n",
       "    </tr>\n",
       "    <tr>\n",
       "      <th>1066</th>\n",
       "      <td>2021</td>\n",
       "      <td>10</td>\n",
       "      <td>Sant Martí</td>\n",
       "      <td>69</td>\n",
       "      <td>Diagonal Mar i el Front Marítim del Poblenou</td>\n",
       "      <td>236</td>\n",
       "      <td>32925</td>\n",
       "    </tr>\n",
       "    <tr>\n",
       "      <th>1067</th>\n",
       "      <td>2021</td>\n",
       "      <td>10</td>\n",
       "      <td>Sant Martí</td>\n",
       "      <td>71</td>\n",
       "      <td>Provençals del Poblenou</td>\n",
       "      <td>237</td>\n",
       "      <td>30416</td>\n",
       "    </tr>\n",
       "  </tbody>\n",
       "</table>\n",
       "<p>1068 rows × 7 columns</p>\n",
       "</div>"
      ],
      "text/plain": [
       "       Any  Codi_Districte Nom_Districte  Codi_Barri  \\\n",
       "0     2021               1  Ciutat Vella           1   \n",
       "1     2021               1  Ciutat Vella           1   \n",
       "2     2021               1  Ciutat Vella           1   \n",
       "3     2021               1  Ciutat Vella           1   \n",
       "4     2021               1  Ciutat Vella           1   \n",
       "...    ...             ...           ...         ...   \n",
       "1063  2021              10    Sant Martí          73   \n",
       "1064  2021              10    Sant Martí          65   \n",
       "1065  2021              10    Sant Martí          69   \n",
       "1066  2021              10    Sant Martí          69   \n",
       "1067  2021              10    Sant Martí          71   \n",
       "\n",
       "                                         Nom_Barri  Seccio_Censal  \\\n",
       "0                                         el Raval              1   \n",
       "1                                         el Raval              2   \n",
       "2                                         el Raval              3   \n",
       "3                                         el Raval              4   \n",
       "4                                         el Raval              5   \n",
       "...                                            ...            ...   \n",
       "1063                           la Verneda i la Pau            143   \n",
       "1064                                       el Clot            234   \n",
       "1065  Diagonal Mar i el Front Marítim del Poblenou            235   \n",
       "1066  Diagonal Mar i el Front Marítim del Poblenou            236   \n",
       "1067                       Provençals del Poblenou            237   \n",
       "\n",
       "      Import_Euros  \n",
       "0            28484  \n",
       "1            23611  \n",
       "2            26607  \n",
       "3            28688  \n",
       "4            23769  \n",
       "...            ...  \n",
       "1063         34553  \n",
       "1064         38965  \n",
       "1065         29774  \n",
       "1066         32925  \n",
       "1067         30416  \n",
       "\n",
       "[1068 rows x 7 columns]"
      ]
     },
     "execution_count": 8,
     "metadata": {},
     "output_type": "execute_result"
    }
   ],
   "source": [
    "df"
   ]
  },
  {
   "cell_type": "code",
   "execution_count": 9,
   "metadata": {},
   "outputs": [],
   "source": [
    "\"\"\"df.to_parquet('data_lake/renda.parquet')\"\"\""
   ]
  },
  {
   "cell_type": "markdown",
   "metadata": {},
   "source": [
    "## Descàrrega API preu del lloguer (Kaggle)"
   ]
  },
  {
   "cell_type": "markdown",
   "metadata": {},
   "source": [
    "Abans s'ha de:\n",
    "1. Crear un compte a Kaggle\n",
    "2. Anar a Settings i fer click a Create New API Token\n",
    "3. Guardar el fitxer kaggle.json que acabes de descarregar a la carpeta ~/.kaggle"
   ]
  },
  {
   "cell_type": "code",
   "execution_count": 14,
   "metadata": {},
   "outputs": [],
   "source": [
    "# import ssl\n",
    "# ssl._create_default_https_context = ssl._create_unverified_context"
   ]
  },
  {
   "cell_type": "code",
   "execution_count": 18,
   "metadata": {},
   "outputs": [
    {
     "name": "stdout",
     "output_type": "stream",
     "text": [
      "/Users/ruthparajo/Library/Python/3.9/lib/python/site-packages/urllib3/__init__.py:34: NotOpenSSLWarning: urllib3 v2.0 only supports OpenSSL 1.1.1+, currently the 'ssl' module is compiled with 'LibreSSL 2.8.3'. See: https://github.com/urllib3/urllib3/issues/3020\n",
      "  warnings.warn(\n",
      "Warning: Your Kaggle API key is readable by other users on this system! To fix this, you can run 'chmod 600 /Users/ruthparajo/.kaggle/kaggle.json'\n",
      "Downloading rent-price-in-barcelona-2014-2022.zip to /Users/ruthparajo/Desktop/uni/BDA/projecte final/FreshData-BDA\n",
      "100%|██████████████████████████████████████| 33.6k/33.6k [00:00<00:00, 90.4kB/s]\n",
      "100%|██████████████████████████████████████| 33.6k/33.6k [00:00<00:00, 90.1kB/s]\n"
     ]
    }
   ],
   "source": [
    "!kaggle datasets download -d marshuu/rent-price-in-barcelona-2014-2022"
   ]
  },
  {
   "cell_type": "code",
   "execution_count": 19,
   "metadata": {},
   "outputs": [
    {
     "name": "stdout",
     "output_type": "stream",
     "text": [
      "Archive:  rent-price-in-barcelona-2014-2022.zip\n",
      "  inflating: Barcelona_rent_price.csv  \n"
     ]
    }
   ],
   "source": [
    "!unzip rent-price-in-barcelona-2014-2022.zip"
   ]
  },
  {
   "cell_type": "code",
   "execution_count": 20,
   "metadata": {},
   "outputs": [],
   "source": [
    "pd.read_csv('Barcelona_rent_price.csv').to_parquet('data_lake/rent_price.parquet')"
   ]
  },
  {
   "cell_type": "code",
   "execution_count": 21,
   "metadata": {},
   "outputs": [],
   "source": [
    "!rm rent-price-in-barcelona-2014-2022.zip Barcelona_rent_price.csv"
   ]
  }
 ],
 "metadata": {
  "kernelspec": {
   "display_name": "Python 3",
   "language": "python",
   "name": "python3"
  },
  "language_info": {
   "codemirror_mode": {
    "name": "ipython",
    "version": 3
   },
   "file_extension": ".py",
   "mimetype": "text/x-python",
   "name": "python",
   "nbconvert_exporter": "python",
   "pygments_lexer": "ipython3",
   "version": "3.9.6"
  },
  "orig_nbformat": 4
 },
 "nbformat": 4,
 "nbformat_minor": 2
}
