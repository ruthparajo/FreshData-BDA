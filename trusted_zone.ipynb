{
 "cells": [
  {
   "cell_type": "markdown",
   "metadata": {},
   "source": [
    "## Trusted zone\n",
    "\n",
    "### rent_price"
   ]
  },
  {
   "cell_type": "code",
   "execution_count": 1,
   "metadata": {},
   "outputs": [],
   "source": [
    "from pyspark.sql import SparkSession\n",
    "import pyspark.sql.functions as F\n",
    "from pyspark.sql.functions import col, expr, lit, min, max"
   ]
  },
  {
   "cell_type": "code",
   "execution_count": 2,
   "metadata": {},
   "outputs": [
    {
     "name": "stderr",
     "output_type": "stream",
     "text": [
      "24/04/24 14:24:20 WARN Utils: Your hostname, MacBook-Air-de-Olivia.local resolves to a loopback address: 127.0.0.1; using 10.192.23.148 instead (on interface en0)\n",
      "24/04/24 14:24:20 WARN Utils: Set SPARK_LOCAL_IP if you need to bind to another address\n",
      "24/04/24 14:24:21 WARN NativeCodeLoader: Unable to load native-hadoop library for your platform... using builtin-java classes where applicable\n",
      "Setting default log level to \"WARN\".\n",
      "To adjust logging level use sc.setLogLevel(newLevel). For SparkR, use setLogLevel(newLevel).\n"
     ]
    }
   ],
   "source": [
    "spark = SparkSession.builder\\\n",
    "    .config(\"spark.jars\", \"duckdb.jar\") \\\n",
    "    .getOrCreate()"
   ]
  },
  {
   "cell_type": "code",
   "execution_count": 3,
   "metadata": {},
   "outputs": [
    {
     "name": "stderr",
     "output_type": "stream",
     "text": [
      "                                                                                \r"
     ]
    },
    {
     "name": "stdout",
     "output_type": "stream",
     "text": [
      "Hi ha 0 valors duplicats al DataFrame 'formatted_zone/rent_price.db' de 4622 valors totals\n",
      "Hi ha 0 NAs\n",
      "S'ha escalat la columna 'Price' en funció de la columna 'Average _rent'\n"
     ]
    },
    {
     "name": "stderr",
     "output_type": "stream",
     "text": [
      "                                                                                \r"
     ]
    },
    {
     "name": "stdout",
     "output_type": "stream",
     "text": [
      "Hi ha 5 outliers detectats per cuartils\n"
     ]
    }
   ],
   "source": [
    "# rent_price\n",
    "DF = spark.read \\\n",
    "  .format(\"jdbc\") \\\n",
    "  .option(\"url\", \"jdbc:duckdb:formatted_zone/freshdata.db\") \\\n",
    "  .option(\"driver\", \"org.duckdb.DuckDBDriver\") \\\n",
    "  .option(\"query\", \"SELECT * FROM rent_price\") \\\n",
    "  .load()\n",
    "\n",
    "# verificar duplicats\n",
    "print(f\"Hi ha {DF.count() - DF.distinct().count()} valors duplicats al DataFrame 'formatted_zone/rent_price.db' de {DF.count()} valors totals\")\n",
    "\n",
    "# verificar NA\n",
    "print(f'Hi ha {DF.count() - DF.na.drop().count()} NAs')\n",
    "\n",
    "# escalar obteninint mínim i màxims via query en funció de la unitat\n",
    "min_max = spark.read \\\n",
    "  .format(\"jdbc\") \\\n",
    "  .option(\"url\", \"jdbc:duckdb:formatted_zone/freshdata.db\") \\\n",
    "  .option(\"driver\", \"org.duckdb.DuckDBDriver\") \\\n",
    "  .option(\"query\", 'SELECT \"Average _rent\", min(Price) AS min_price , max(Price) AS max_price FROM rent_price GROUP BY \"Average _rent\"') \\\n",
    "  .load().collect()\n",
    "\n",
    "DF = DF.withColumn('Price_Escalat', F.when(DF['Average _rent'] == min_max[0][0], (DF['Price'] - min_max[0].min_price)/(min_max[0].max_price - min_max[0].min_price)).otherwise((DF['Price'] - min_max[1].min_price)/(min_max[1].max_price - min_max[1].min_price)))\n",
    "\n",
    "print(\"S'ha escalat la columna 'Price' en funció de la columna 'Average _rent'\")\n",
    "\n",
    "# outliers\n",
    "IQR = DF.approxQuantile('Price', [0.25, 0.75], 0.001)\n",
    "IQR_values = IQR[1] - IQR[0]\n",
    "        \n",
    "DF = DF.withColumn('IQR', lit(IQR_values))\n",
    "                \n",
    "not_outliers = DF.filter(col('Price') >= IQR[0] - 1.5 * IQR_values)\\\n",
    "            .filter(col('Price') <= IQR[1] + 1.5 * IQR_values)\n",
    "\n",
    "outliers = DF.subtract(not_outliers)\n",
    "print(f\"Hi ha {outliers.count()} outliers detectats per cuartils\")\n",
    "\n",
    "DF = DF.drop('IQR')"
   ]
  },
  {
   "cell_type": "code",
   "execution_count": 4,
   "metadata": {},
   "outputs": [
    {
     "name": "stderr",
     "output_type": "stream",
     "text": [
      "                                                                                \r"
     ]
    }
   ],
   "source": [
    "DF.write \\\n",
    "        .format(\"jdbc\") \\\n",
    "        .option(\"url\", f\"jdbc:duckdb:trusted_zone/freshdata_trusted.db\") \\\n",
    "        .option(\"dbtable\", \"rent_price\") \\\n",
    "        .option(\"driver\", \"org.duckdb.DuckDBDriver\") \\\n",
    "        .mode(\"overwrite\") \\\n",
    "        .save()"
   ]
  },
  {
   "cell_type": "markdown",
   "metadata": {},
   "source": [
    "### renda"
   ]
  },
  {
   "cell_type": "code",
   "execution_count": 5,
   "metadata": {},
   "outputs": [
    {
     "name": "stderr",
     "output_type": "stream",
     "text": [
      "                                                                                \r"
     ]
    },
    {
     "name": "stdout",
     "output_type": "stream",
     "text": [
      "Hi ha 0 valors duplicats al DataFrame 'formatted_zone/renda.db' de 7476 valors totals\n",
      "Hi ha 0 NAs\n",
      "S'ha escalat la columna 'Import_Euros' en funció de la columna 'Average _rent'\n"
     ]
    },
    {
     "name": "stderr",
     "output_type": "stream",
     "text": [
      "                                                                                \r"
     ]
    },
    {
     "name": "stdout",
     "output_type": "stream",
     "text": [
      "Hi ha 451 outliers detectats per cuartils\n"
     ]
    }
   ],
   "source": [
    "# rent_price\n",
    "DF = spark.read \\\n",
    "  .format(\"jdbc\") \\\n",
    "  .option(\"url\", \"jdbc:duckdb:formatted_zone/freshdata.db\") \\\n",
    "  .option(\"driver\", \"org.duckdb.DuckDBDriver\") \\\n",
    "  .option(\"query\", \"SELECT * FROM renda\") \\\n",
    "  .load()\n",
    "\n",
    "# verificar duplicats\n",
    "print(f\"Hi ha {DF.count() - DF.distinct().count()} valors duplicats al DataFrame 'formatted_zone/renda.db' de {DF.count()} valors totals\")\n",
    "\n",
    "# verificar NA\n",
    "print(f'Hi ha {DF.count() - DF.na.drop().count()} NAs')\n",
    "\n",
    "# escalar obteninint mínim i màxims via query en funció de la unitat\n",
    "min_value = DF.select(min(\"Import_Euros\"), max(\"Import_Euros\")).collect()[0][0]\n",
    "max_value = DF.select(min(\"Import_Euros\"), max(\"Import_Euros\")).collect()[0][1]\n",
    "DF = DF.withColumn('Import_Euros_Escalat', (DF['Import_Euros'] - min_value)/(max_value - min_value))\n",
    "\n",
    "print(\"S'ha escalat la columna 'Import_Euros' en funció de la columna 'Average _rent'\")\n",
    "\n",
    "# outliers\n",
    "IQR = DF.approxQuantile('Import_Euros', [0.25, 0.75], 0.001)\n",
    "IQR_values = IQR[1] - IQR[0]\n",
    "        \n",
    "DF = DF.withColumn('IQR', lit(IQR_values))\n",
    "                \n",
    "not_outliers = DF.filter(col('Import_Euros') >= IQR[0] - 1.5 * IQR_values)\\\n",
    "            .filter(col('Import_Euros') <= IQR[1] + 1.5 * IQR_values)\n",
    "\n",
    "outliers = DF.subtract(not_outliers)\n",
    "print(f\"Hi ha {outliers.count()} outliers detectats per cuartils\")\n",
    "\n",
    "DF = DF.drop('IQR')"
   ]
  },
  {
   "cell_type": "code",
   "execution_count": 6,
   "metadata": {},
   "outputs": [
    {
     "name": "stderr",
     "output_type": "stream",
     "text": [
      "                                                                                \r"
     ]
    }
   ],
   "source": [
    "DF.write \\\n",
    "        .format(\"jdbc\") \\\n",
    "        .option(\"url\", f\"jdbc:duckdb:trusted_zone/freshdata_trusted.db\") \\\n",
    "        .option(\"dbtable\", \"renda\") \\\n",
    "        .option(\"driver\", \"org.duckdb.DuckDBDriver\") \\\n",
    "        .mode(\"overwrite\") \\\n",
    "        .save()"
   ]
  },
  {
   "cell_type": "markdown",
   "metadata": {},
   "source": [
    "### compravenda_sup"
   ]
  },
  {
   "cell_type": "code",
   "execution_count": 7,
   "metadata": {},
   "outputs": [],
   "source": [
    "\n",
    "DF = spark.read \\\n",
    "    .format(\"jdbc\") \\\n",
    "    .option(\"url\", \"jdbc:duckdb:formatted_zone/freshdata.db\") \\\n",
    "    .option(\"driver\", \"org.duckdb.DuckDBDriver\") \\\n",
    "    .option(\"query\", \"SELECT * FROM compravenda_sup\") \\\n",
    "    .load()\n"
   ]
  },
  {
   "cell_type": "code",
   "execution_count": 8,
   "metadata": {},
   "outputs": [
    {
     "name": "stdout",
     "output_type": "stream",
     "text": [
      "Hi ha 0 valors duplicats al DataFrame 'formatted_zone/compravenda_sup.db' de 876 valors totals\n",
      "Hi ha 290 NAs\n",
      "Hi ha 12 NAs en barri\n",
      "Hi ha 12 NAs en districte\n",
      "+-------------+---------+---+---------+--------------+----------+----------------------------------+------+---------------------+-------------------------+\n",
      "|Nom_Districte|Nom_Barri|Any|Trimestre|Codi_Districte|Codi_Barri|Superfície_mitjana_(m2_construïts)|Nombre|mean_nombre_nom_barri|mean_nombre_nom_districte|\n",
      "+-------------+---------+---+---------+--------------+----------+----------------------------------+------+---------------------+-------------------------+\n",
      "+-------------+---------+---+---------+--------------+----------+----------------------------------+------+---------------------+-------------------------+\n",
      "\n"
     ]
    },
    {
     "name": "stderr",
     "output_type": "stream",
     "text": [
      "24/04/24 14:25:05 WARN SparkStringUtils: Truncated the string representation of a plan since it was too large. This behavior can be adjusted by setting 'spark.sql.debug.maxToStringFields'.\n"
     ]
    },
    {
     "name": "stdout",
     "output_type": "stream",
     "text": [
      "Hi ha 109 outliers detectats per quartils\n"
     ]
    }
   ],
   "source": [
    "\n",
    "# verificar duplicats\n",
    "print(f\"Hi ha {DF.count() - DF.distinct().count()} valors duplicats al DataFrame 'formatted_zone/compravenda_sup.db' de {DF.count()} valors totals\")\n",
    "\n",
    "# substituir \"--\" por NA\n",
    "DF = DF.withColumn('Nombre', F.when(col('Nombre') == '--', None).otherwise(col('Nombre')))\n",
    "# verificar NA\n",
    "print(f'Hi ha {DF.count() - DF.na.drop().count()} NAs')\n",
    "# imprimir toda la informació que té un NA\n",
    "valorsnull = DF.filter(DF.Nombre.isNull())\n",
    "\n",
    "# passar a numeric\n",
    "DF = DF.withColumn('Nombre', DF['Nombre'].cast('float'))\n",
    "\n",
    "# Imputar NA de Nombre amb la mitjana de \"Nombre\" per \"Nom_barri\"\n",
    "mean_nombre_nom_barri = DF.groupBy('Nom_barri').agg(F.mean('Nombre').alias('mean_nombre_nom_barri'))\n",
    "\n",
    "DF = DF.join(mean_nombre_nom_barri, on='Nom_barri', how='left')\n",
    "DF = DF.withColumn('Nombre', F.when(DF['Nombre'].isNull(), DF['mean_nombre_nom_barri']).otherwise(DF['Nombre']))\n",
    "# Verificar NAs després de la imputació per barri\n",
    "print(f'Hi ha {DF.count() - DF.na.drop().count()} NAs en barri')\n",
    "\n",
    "# Imputar NA de Nombre amb la mitjana de \"Nombre\" per \"Nom_districte\"\n",
    "mean_nombre_nom_districte = DF.groupBy('Nom_Districte').agg(F.mean('Nombre').alias('mean_nombre_nom_districte'))\n",
    "\n",
    "DF = DF.join(mean_nombre_nom_districte, on='Nom_Districte', how='left')\n",
    "DF = DF.withColumn('Nombre', F.when(DF['Nombre'].isNull(), DF['mean_nombre_nom_districte']).otherwise(DF['Nombre']))\n",
    "\n",
    "# Verificar NAs després de la imputació per districte\n",
    "print(f'Hi ha {DF.count() - DF.na.drop().count()} NAs en districte')\n",
    "\n",
    "# Imprimir totes les files amb NA a la columna \"Nombre\"\n",
    "DF.filter(DF.Nombre.isNull()).show()\n",
    "\n",
    "\n",
    "min_value = DF.groupBy('Superfície_mitjana_(m2_construïts)').agg(F.min('Nombre').alias('min_value'))\n",
    "max_value = DF.groupBy('Superfície_mitjana_(m2_construïts)').agg(F.max('Nombre').alias('max_value'))\n",
    "\n",
    "DF = DF.join(min_value, on='Superfície_mitjana_(m2_construïts)', how='left')\n",
    "DF = DF.join(max_value, on='Superfície_mitjana_(m2_construïts)', how='left')\n",
    "\n",
    "DF = DF.withColumn('Nombre_escalat', F.when(DF['Superfície_mitjana_(m2_construïts)'] == 0, 0).otherwise(DF['Nombre']-DF['min_value'])/(DF['max_value']-DF['min_value']))\n",
    "\n",
    "# outliers\n",
    "IQR = DF.approxQuantile('Nombre', [0.25, 0.75], 0.001)\n",
    "IQR_values = IQR[1] - IQR[0]\n",
    "        \n",
    "DF = DF.withColumn('IQR', lit(IQR_values))\n",
    "                \n",
    "not_outliers = DF.filter(col('Nombre') >= IQR[0] - 1.5 * IQR_values)\\\n",
    "            .filter(col('Nombre') <= IQR[1] + 1.5 * IQR_values)\n",
    "\n",
    "outliers = DF.subtract(not_outliers)\n",
    "print(f\"Hi ha {outliers.count()} outliers detectats per quartils\")\n",
    "  \n",
    "# eliminar columnes auxiliars\n",
    "DF = DF.drop('min_value', 'max_value', 'mean_nombre_nom_barri', 'mean_nombre_nom_districte', 'IQR')"
   ]
  },
  {
   "cell_type": "code",
   "execution_count": 9,
   "metadata": {},
   "outputs": [
    {
     "name": "stderr",
     "output_type": "stream",
     "text": [
      "                                                                                \r"
     ]
    }
   ],
   "source": [
    "DF.write \\\n",
    "        .format(\"jdbc\") \\\n",
    "        .option(\"url\", f\"jdbc:duckdb:trusted_zone/freshdata_trusted.db\") \\\n",
    "        .option(\"dbtable\", \"compravenda_sup\") \\\n",
    "        .option(\"driver\", \"org.duckdb.DuckDBDriver\") \\\n",
    "        .mode(\"overwrite\") \\\n",
    "        .save()"
   ]
  },
  {
   "cell_type": "code",
   "execution_count": 10,
   "metadata": {},
   "outputs": [
    {
     "name": "stdout",
     "output_type": "stream",
     "text": [
      "+----------------------------------+--------------+--------------------+----+---------+--------------+----------+------------------+-------------------+\n",
      "|Superfície_mitjana_(m2_construïts)| Nom_Districte|           Nom_Barri| Any|Trimestre|Codi_Districte|Codi_Barri|            Nombre|     Nombre_escalat|\n",
      "+----------------------------------+--------------+--------------------+----+---------+--------------+----------+------------------+-------------------+\n",
      "|                             Total|     Les Corts|           les Corts|2023|        1|             4|        19|  80.9000015258789|0.16117216998719475|\n",
      "|                             Total|     Les Corts|la Maternitat i S...|2023|        1|             4|        20|              91.0|0.20227920475625832|\n",
      "|                             Total|     Les Corts|           Pedralbes|2023|        1|             4|        21| 145.3000030517578|0.42328043749190036|\n",
      "|                             Total|Sants-Montjuïc|   la Marina de Port|2023|        1|             3|        13|              69.5|0.11477411752288869|\n",
      "|                             Total|Sants-Montjuïc|la Marina del Pra...|2023|        1|             3|        12| 78.69999694824219| 0.1522181424299895|\n",
      "|                             Total|Sants-Montjuïc|       Sants - Badal|2023|        1|             3|        17|62.900001525878906|0.08791209695460624|\n",
      "|                             Total|Sants-Montjuïc|la Font de la Gua...|2023|        1|             3|        14|              78.5|0.15140415403918295|\n",
      "|                             Total|Sants-Montjuïc|        el Poble Sec|2023|        1|             3|        11|61.599998474121094|0.08262107925936372|\n",
      "|                             Total|Sants-Montjuïc|          la Bordeta|2023|        1|             3|        16| 78.69999694824219| 0.1522181424299895|\n",
      "|                             Total|Sants-Montjuïc|         Hostafrancs|2023|        1|             3|        15|              67.5|0.10663410940815662|\n",
      "|                             Total|Sants-Montjuïc|               Sants|2023|        1|             3|        18| 73.19999694824219| 0.1298331201144763|\n",
      "|                             Total|      Eixample|la Dreta de l'Eix...|2023|        1|             2|         7|             116.5|0.30606430821909203|\n",
      "|                             Total|      Eixample|l'Antiga Esquerra...|2023|        1|             2|         8|              99.5|0.23687423924386955|\n",
      "|                             Total|      Eixample|         Sant Antoni|2023|        1|             2|        10| 81.30000305175781| 0.1628001778204745|\n",
      "|                             Total|      Eixample|la Nova Esquerra ...|2023|        1|             2|         9| 74.69999694824219|0.13593812620052537|\n",
      "|                             Total|      Eixample|       el Fort Pienc|2023|        1|             2|         5|  80.5999984741211|0.15995115634931828|\n",
      "|                             Total|      Eixample|  la Sagrada Família|2023|        1|             2|         6|  72.4000015258789|0.12657713549958352|\n",
      "|                             Total|  Ciutat Vella|      el Barri Gòtic|2023|        1|             1|         2|  82.9000015258789| 0.1693121781019268|\n",
      "|                             Total|  Ciutat Vella|Sant Pere, Santa ...|2023|        1|             1|         4|  70.9000015258789|0.12047212941353447|\n",
      "|                             Total|  Ciutat Vella|            el Raval|2023|        1|             1|         1| 63.79999923706055|0.09157509129073566|\n",
      "+----------------------------------+--------------+--------------------+----+---------+--------------+----------+------------------+-------------------+\n",
      "only showing top 20 rows\n",
      "\n"
     ]
    }
   ],
   "source": [
    "DF.show()"
   ]
  }
 ],
 "metadata": {
  "kernelspec": {
   "display_name": "Python 3",
   "language": "python",
   "name": "python3"
  },
  "language_info": {
   "codemirror_mode": {
    "name": "ipython",
    "version": 3
   },
   "file_extension": ".py",
   "mimetype": "text/x-python",
   "name": "python",
   "nbconvert_exporter": "python",
   "pygments_lexer": "ipython3",
   "version": "3.9.6"
  }
 },
 "nbformat": 4,
 "nbformat_minor": 2
}
