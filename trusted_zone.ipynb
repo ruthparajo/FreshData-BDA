{
 "cells": [
  {
   "cell_type": "markdown",
   "metadata": {},
   "source": [
    "# Trusted Zone\n",
    "Fitxer que permet millorar la qualitat de les dades\n",
    "\n",
    "### Taula rent_price\n",
    "Taula que representa el preu del lloguer en dues unitats diferents, en funció del barri, el districte, el trimestre i l'any"
   ]
  },
  {
   "cell_type": "code",
   "execution_count": 32,
   "metadata": {},
   "outputs": [],
   "source": [
    "from pyspark.sql import SparkSession\n",
    "import pyspark.sql.functions as F\n",
    "from pyspark.sql.functions import col, expr, lit, min, max\n",
    "from pyspark.pandas import Series"
   ]
  },
  {
   "cell_type": "code",
   "execution_count": 22,
   "metadata": {},
   "outputs": [],
   "source": [
    "# sessió Spark\n",
    "spark = SparkSession.builder\\\n",
    "    .config(\"spark.jars\", \"duckdb.jar\") \\\n",
    "    .getOrCreate()"
   ]
  },
  {
   "cell_type": "code",
   "execution_count": 23,
   "metadata": {},
   "outputs": [
    {
     "name": "stdout",
     "output_type": "stream",
     "text": [
      "Hi ha 0 valors duplicats al DataFrame 'formatted_zone/rent_price.db' de 4622 valors totals\n",
      "Hi ha 0 NAs\n",
      "S'ha escalat la columna 'Price' en funció de la columna 'Average _rent'\n",
      "Hi ha 5 outliers detectats per cuartils\n"
     ]
    }
   ],
   "source": [
    "# lectura de la taula rent_price\n",
    "DF = spark.read \\\n",
    "  .format(\"jdbc\") \\\n",
    "  .option(\"url\", \"jdbc:duckdb:formatted_zone/freshdata.db\") \\\n",
    "  .option(\"driver\", \"org.duckdb.DuckDBDriver\") \\\n",
    "  .option(\"query\", \"SELECT * FROM rent_price\") \\\n",
    "  .load()\n",
    "\n",
    "# verificar si hi ha files duplicades\n",
    "print(f\"Hi ha {DF.count() - DF.distinct().count()} valors duplicats al DataFrame 'formatted_zone/rent_price.db' de {DF.count()} valors totals\")\n",
    "\n",
    "# verificar que no hi hagi valors nuls\n",
    "print(f'Hi ha {DF.count() - DF.na.drop().count()} NAs')\n",
    "\n",
    "# escalar obteninint mínim i màxim del preu de lloguer via query en funció de la unitat\n",
    "min_max = spark.read \\\n",
    "  .format(\"jdbc\") \\\n",
    "  .option(\"url\", \"jdbc:duckdb:formatted_zone/freshdata.db\") \\\n",
    "  .option(\"driver\", \"org.duckdb.DuckDBDriver\") \\\n",
    "  .option(\"query\", 'SELECT \"Average _rent\", min(Price) AS min_price , max(Price) AS max_price FROM rent_price GROUP BY \"Average _rent\"') \\\n",
    "  .load().collect()\n",
    "\n",
    "DF = DF.withColumn('Price_Escalat', F.when(DF['Average _rent'] == min_max[0][0], (DF['Price'] - min_max[0].min_price)/(min_max[0].max_price - min_max[0].min_price)).otherwise((DF['Price'] - min_max[1].min_price)/(min_max[1].max_price - min_max[1].min_price)))\n",
    "\n",
    "print(\"S'ha escalat la columna 'Price' en funció de la columna 'Average _rent'\")\n",
    "\n",
    "# detecció d'outliers\n",
    "IQR = DF.approxQuantile('Price', [0.25, 0.75], 0.001)\n",
    "IQR_values = IQR[1] - IQR[0]\n",
    "        \n",
    "DF = DF.withColumn('IQR', lit(IQR_values))\n",
    "                \n",
    "not_outliers = DF.filter(col('Price') >= IQR[0] - 1.5 * IQR_values)\\\n",
    "            .filter(col('Price') <= IQR[1] + 1.5 * IQR_values)\n",
    "\n",
    "outliers = DF.subtract(not_outliers)\n",
    "print(f\"Hi ha {outliers.count()} outliers detectats per cuartils\")\n",
    "\n",
    "DF = DF.drop('IQR')\n",
    "\n",
    "# substituïr apòstrofs, comes i espais per _ en els valors de la columna Neighborhood i District\n",
    "DF = DF.withColumn('Neighbourhood', F.regexp_replace('Neighbourhood', ' ', '_'))\n",
    "DF = DF.withColumn('Neighbourhood', F.regexp_replace('Neighbourhood', \"'\", '_'))\n",
    "DF = DF.withColumn('Neighbourhood', F.regexp_replace('Neighbourhood', \",\", '_'))\n",
    "DF = DF.withColumn('District', F.regexp_replace('District', ',', '_'))\n",
    "DF = DF.withColumn('District', F.regexp_replace('District', ' ', '_'))\n",
    "DF = DF.withColumn('District', F.regexp_replace('District', \"'\", '_'))"
   ]
  },
  {
   "cell_type": "code",
   "execution_count": 24,
   "metadata": {},
   "outputs": [
    {
     "name": "stderr",
     "output_type": "stream",
     "text": [
      "                                                                                \r"
     ]
    }
   ],
   "source": [
    "# escripció de la taula rent_price a la Trusted Zone\n",
    "DF.write \\\n",
    "        .format(\"jdbc\") \\\n",
    "        .option(\"url\", f\"jdbc:duckdb:trusted_zone/freshdata_trusted.db\") \\\n",
    "        .option(\"dbtable\", \"rent_price\") \\\n",
    "        .option(\"driver\", \"org.duckdb.DuckDBDriver\") \\\n",
    "        .mode(\"overwrite\") \\\n",
    "        .save()"
   ]
  },
  {
   "cell_type": "markdown",
   "metadata": {},
   "source": [
    "### Taula renda\n",
    "\n",
    "Taula que representa la renda bruta mitja per secció censal, barri, districte i any "
   ]
  },
  {
   "cell_type": "code",
   "execution_count": 25,
   "metadata": {},
   "outputs": [
    {
     "name": "stdout",
     "output_type": "stream",
     "text": [
      "Hi ha 0 valors duplicats al DataFrame 'formatted_zone/renda.db' de 7476 valors totals\n",
      "Hi ha 0 NAs\n",
      "S'ha escalat la columna 'Import_Euros' en funció de la columna 'Average _rent'\n",
      "Hi ha 451 outliers detectats per cuartils\n"
     ]
    }
   ],
   "source": [
    "# lectura de la taula renda\n",
    "DF = spark.read \\\n",
    "  .format(\"jdbc\") \\\n",
    "  .option(\"url\", \"jdbc:duckdb:formatted_zone/freshdata.db\") \\\n",
    "  .option(\"driver\", \"org.duckdb.DuckDBDriver\") \\\n",
    "  .option(\"query\", \"SELECT * FROM renda\") \\\n",
    "  .load()\n",
    "\n",
    "# verificar si hi ha files duplicades\n",
    "print(f\"Hi ha {DF.count() - DF.distinct().count()} valors duplicats al DataFrame 'formatted_zone/renda.db' de {DF.count()} valors totals\")\n",
    "\n",
    "# verificar que no hi hagi valors nuls \n",
    "print(f'Hi ha {DF.count() - DF.na.drop().count()} NAs')\n",
    "\n",
    "# escalar obteninint mínim i màxim via Spark\n",
    "min_value = DF.select(min(\"Import_Euros\"), max(\"Import_Euros\")).collect()[0][0]\n",
    "max_value = DF.select(min(\"Import_Euros\"), max(\"Import_Euros\")).collect()[0][1]\n",
    "DF = DF.withColumn('Import_Euros_Escalat', (DF['Import_Euros'] - min_value)/(max_value - min_value))\n",
    "\n",
    "print(\"S'ha escalat la columna 'Import_Euros' en funció de la columna 'Average _rent'\")\n",
    "\n",
    "# detecció d'outliers\n",
    "IQR = DF.approxQuantile('Import_Euros', [0.25, 0.75], 0.001)\n",
    "IQR_values = IQR[1] - IQR[0]\n",
    "        \n",
    "DF = DF.withColumn('IQR', lit(IQR_values))\n",
    "                \n",
    "not_outliers = DF.filter(col('Import_Euros') >= IQR[0] - 1.5 * IQR_values)\\\n",
    "            .filter(col('Import_Euros') <= IQR[1] + 1.5 * IQR_values)\n",
    "\n",
    "outliers = DF.subtract(not_outliers)\n",
    "print(f\"Hi ha {outliers.count()} outliers detectats per cuartils\")\n",
    "\n",
    "DF = DF.drop('IQR')\n",
    "\n",
    "# substituïr apòstrofs, comes i espais per _ en els valors de la columna Nom_Barri i Nom_Districte\n",
    "DF = DF.withColumn('Nom_Barri', F.regexp_replace('Nom_Barri', ' ', '_'))\n",
    "DF = DF.withColumn('Nom_Barri', F.regexp_replace('Nom_Barri', \"'\", '_'))\n",
    "DF = DF.withColumn('Nom_Barri', F.regexp_replace('Nom_Barri', \",\", '_'))\n",
    "DF = DF.withColumn('Nom_Districte', F.regexp_replace('Nom_Districte', \",\", '_'))\n",
    "DF = DF.withColumn('Nom_Districte', F.regexp_replace('Nom_Districte', \" \", '_'))\n",
    "DF = DF.withColumn('Nom_Districte', F.regexp_replace('Nom_Districte', \"'\", '_'))"
   ]
  },
  {
   "cell_type": "markdown",
   "metadata": {},
   "source": [
    "S'ha près la decisió de no imputar els outliers, ja que representen una gran part de la base de dades i pot correspondre a l'evolució de la renda per causa de la pujada del salari mínim interprofessional. L'augment del sou mínim ha fet dos salts en l'interval de temps que es troben a les dades. "
   ]
  },
  {
   "cell_type": "code",
   "execution_count": 26,
   "metadata": {},
   "outputs": [
    {
     "name": "stderr",
     "output_type": "stream",
     "text": [
      "                                                                                \r"
     ]
    }
   ],
   "source": [
    "# escripció de la taula renda a la Trusted Zone\n",
    "DF.write \\\n",
    "        .format(\"jdbc\") \\\n",
    "        .option(\"url\", f\"jdbc:duckdb:trusted_zone/freshdata_trusted.db\") \\\n",
    "        .option(\"dbtable\", \"renda\") \\\n",
    "        .option(\"driver\", \"org.duckdb.DuckDBDriver\") \\\n",
    "        .mode(\"overwrite\") \\\n",
    "        .save()"
   ]
  },
  {
   "cell_type": "markdown",
   "metadata": {},
   "source": [
    "### Taula compravenda_sup\n",
    "\n",
    "Taula que representa el nombre mig de m2 constuïts en funció del tipus d'habitatge per barri, districte, trimestre i any (veure el significat dels tipus d'habitatge al fitxer README.md)"
   ]
  },
  {
   "cell_type": "code",
   "execution_count": 27,
   "metadata": {},
   "outputs": [],
   "source": [
    "# lectura de la taula compravenda_sup\n",
    "DF = spark.read \\\n",
    "    .format(\"jdbc\") \\\n",
    "    .option(\"url\", \"jdbc:duckdb:formatted_zone/freshdata.db\") \\\n",
    "    .option(\"driver\", \"org.duckdb.DuckDBDriver\") \\\n",
    "    .option(\"query\", \"SELECT * FROM compravenda_sup\") \\\n",
    "    .load()\n"
   ]
  },
  {
   "cell_type": "code",
   "execution_count": 28,
   "metadata": {},
   "outputs": [
    {
     "name": "stdout",
     "output_type": "stream",
     "text": [
      "Hi ha 0 valors duplicats al DataFrame 'formatted_zone/compravenda_sup.db' de 876 valors totals\n",
      "Hi ha 290 NAs\n",
      "Files amb NA a la columna 'Nombre':\n",
      "+-------------+---------+---+---------+--------------+----------+----------------------------------+------+---------------------+-------------------------+\n",
      "|Nom_Districte|Nom_Barri|Any|Trimestre|Codi_Districte|Codi_Barri|Superfície_mitjana_(m2_construïts)|Nombre|mean_nombre_nom_barri|mean_nombre_nom_districte|\n",
      "+-------------+---------+---+---------+--------------+----------+----------------------------------+------+---------------------+-------------------------+\n",
      "+-------------+---------+---+---------+--------------+----------+----------------------------------+------+---------------------+-------------------------+\n",
      "\n",
      "Hi ha 109 outliers detectats per quartils\n"
     ]
    }
   ],
   "source": [
    "# verificar si hi ha files duplicades\n",
    "print(f\"Hi ha {DF.count() - DF.distinct().count()} valors duplicats al DataFrame 'formatted_zone/compravenda_sup.db' de {DF.count()} valors totals\")\n",
    "\n",
    "# substituir els valors \"--\" valors nuls\n",
    "DF = DF.withColumn('Nombre', F.when(col('Nombre') == '--', None).otherwise(col('Nombre')))\n",
    "\n",
    "# observar el nombre de valors nuls\n",
    "print(f'Hi ha {DF.count() - DF.na.drop().count()} NAs')\n",
    "\n",
    "# passar la columna Nombre a numèrica\n",
    "DF = DF.withColumn('Nombre', DF['Nombre'].cast('float'))\n",
    "\n",
    "# Imputar NA de Nombre amb la mitjana de \"Nombre\" per \"Nom_barri\"\n",
    "mean_nombre_nom_barri = DF.groupBy('Nom_barri').agg(F.mean('Nombre').alias('mean_nombre_nom_barri'))\n",
    "\n",
    "DF = DF.join(mean_nombre_nom_barri, on='Nom_barri', how='left')\n",
    "DF = DF.withColumn('Nombre', F.when(DF['Nombre'].isNull(), DF['mean_nombre_nom_barri']).otherwise(DF['Nombre']))\n",
    "\n",
    "\n",
    "# Imputar NA de Nombre amb la mitjana de \"Nombre\" per \"Nom_districte\"\n",
    "mean_nombre_nom_districte = DF.groupBy('Nom_Districte').agg(F.mean('Nombre').alias('mean_nombre_nom_districte'))\n",
    "\n",
    "DF = DF.join(mean_nombre_nom_districte, on='Nom_Districte', how='left')\n",
    "DF = DF.withColumn('Nombre', F.when(DF['Nombre'].isNull(), DF['mean_nombre_nom_districte']).otherwise(DF['Nombre']))\n",
    "\n",
    "# Imprimir totes les files amb NA a la columna \"Nombre\"\n",
    "print(\"Files amb NA a la columna 'Nombre':\")\n",
    "DF.filter(DF.Nombre.isNull()).show()\n",
    "\n",
    "\n",
    "min_value = DF.groupBy('Superfície_mitjana_(m2_construïts)').agg(F.min('Nombre').alias('min_value'))\n",
    "max_value = DF.groupBy('Superfície_mitjana_(m2_construïts)').agg(F.max('Nombre').alias('max_value'))\n",
    "\n",
    "DF = DF.join(min_value, on='Superfície_mitjana_(m2_construïts)', how='left')\n",
    "DF = DF.join(max_value, on='Superfície_mitjana_(m2_construïts)', how='left')\n",
    "\n",
    "DF = DF.withColumn('Nombre_escalat', F.when(DF['Superfície_mitjana_(m2_construïts)'] == 0, 0).otherwise(DF['Nombre']-DF['min_value'])/(DF['max_value']-DF['min_value']))\n",
    "\n",
    "# outliers\n",
    "IQR = DF.approxQuantile('Nombre', [0.25, 0.75], 0.001)\n",
    "IQR_values = IQR[1] - IQR[0]\n",
    "        \n",
    "DF = DF.withColumn('IQR', lit(IQR_values))\n",
    "                \n",
    "not_outliers = DF.filter(col('Nombre') >= IQR[0] - 1.5 * IQR_values)\\\n",
    "            .filter(col('Nombre') <= IQR[1] + 1.5 * IQR_values)\n",
    "\n",
    "outliers = DF.subtract(not_outliers)\n",
    "print(f\"Hi ha {outliers.count()} outliers detectats per quartils\")\n",
    "  \n",
    "# eliminar columnes auxiliars\n",
    "DF = DF.drop('min_value', 'max_value', 'mean_nombre_nom_barri', 'mean_nombre_nom_districte', 'IQR')\n",
    "\n",
    "# substituïr apostrof i espacios por _ en los valores de la columna Neighborhood\n",
    "DF = DF.withColumn('Nom_Barri', F.regexp_replace('Nom_Barri', ' ', '_'))\n",
    "DF = DF.withColumn('Nom_Barri', F.regexp_replace('Nom_Barri', \"'\", '_'))\n",
    "DF = DF.withColumn('Nom_Barri', F.regexp_replace('Nom_Barri', \",\", '_'))\n",
    "DF = DF.withColumn('Nom_Districte', F.regexp_replace('Nom_Districte', \",\", '_'))\n",
    "DF = DF.withColumn('Nom_Districte', F.regexp_replace('Nom_Districte', \" \", '_'))\n",
    "DF = DF.withColumn('Nom_Districte', F.regexp_replace('Nom_Districte', \"'\", '_'))"
   ]
  },
  {
   "cell_type": "markdown",
   "metadata": {},
   "source": [
    "Surten molts outliers, observarem la distribució amb un boxplot:"
   ]
  },
  {
   "cell_type": "code",
   "execution_count": 35,
   "metadata": {},
   "outputs": [
    {
     "data": {
      "text/plain": [
       "<AxesSubplot:ylabel='Frequency'>"
      ]
     },
     "execution_count": 35,
     "metadata": {},
     "output_type": "execute_result"
    },
    {
     "data": {
      "image/png": "[encoded data removed]",
      "text/plain": [
       "<Figure size 640x480 with 1 Axes>"
      ]
     },
     "metadata": {},
     "output_type": "display_data"
    }
   ],
   "source": [
    "DF.toPandas()['Nombre'].plot(kind='hist')"
   ]
  },
  {
   "cell_type": "markdown",
   "metadata": {},
   "source": [
    "Sí que hi ha algun outlier, però la distribució no és normal. Per tant, no es tractaran els 109 outliers."
   ]
  },
  {
   "cell_type": "code",
   "execution_count": 29,
   "metadata": {},
   "outputs": [],
   "source": [
    "DF.write \\\n",
    "        .format(\"jdbc\") \\\n",
    "        .option(\"url\", f\"jdbc:duckdb:trusted_zone/freshdata_trusted.db\") \\\n",
    "        .option(\"dbtable\", \"compravenda_sup\") \\\n",
    "        .option(\"driver\", \"org.duckdb.DuckDBDriver\") \\\n",
    "        .mode(\"overwrite\") \\\n",
    "        .save()"
   ]
  },
  {
   "cell_type": "code",
   "execution_count": 30,
   "metadata": {},
   "outputs": [
    {
     "name": "stdout",
     "output_type": "stream",
     "text": [
      "+----------------------------------+--------------+--------------------+----+---------+--------------+----------+------------------+-------------------+\n",
      "|Superfície_mitjana_(m2_construïts)| Nom_Districte|           Nom_Barri| Any|Trimestre|Codi_Districte|Codi_Barri|            Nombre|     Nombre_escalat|\n",
      "+----------------------------------+--------------+--------------------+----+---------+--------------+----------+------------------+-------------------+\n",
      "|                             Total|     Les_Corts|           les_Corts|2023|        1|             4|        19|  80.9000015258789|0.16117216998719475|\n",
      "|                             Total|     Les_Corts|la_Maternitat_i_S...|2023|        1|             4|        20|              91.0|0.20227920475625832|\n",
      "|                             Total|     Les_Corts|           Pedralbes|2023|        1|             4|        21| 145.3000030517578|0.42328043749190036|\n",
      "|                             Total|Sants-Montjuïc|   la_Marina_de_Port|2023|        1|             3|        13|              69.5|0.11477411752288869|\n",
      "|                             Total|Sants-Montjuïc|la_Marina_del_Pra...|2023|        1|             3|        12| 78.69999694824219| 0.1522181424299895|\n",
      "|                             Total|Sants-Montjuïc|       Sants_-_Badal|2023|        1|             3|        17|62.900001525878906|0.08791209695460624|\n",
      "|                             Total|Sants-Montjuïc|la_Font_de_la_Gua...|2023|        1|             3|        14|              78.5|0.15140415403918295|\n",
      "|                             Total|Sants-Montjuïc|        el_Poble_Sec|2023|        1|             3|        11|61.599998474121094|0.08262107925936372|\n",
      "|                             Total|Sants-Montjuïc|          la_Bordeta|2023|        1|             3|        16| 78.69999694824219| 0.1522181424299895|\n",
      "|                             Total|Sants-Montjuïc|         Hostafrancs|2023|        1|             3|        15|              67.5|0.10663410940815662|\n",
      "|                             Total|Sants-Montjuïc|               Sants|2023|        1|             3|        18| 73.19999694824219| 0.1298331201144763|\n",
      "|                             Total|      Eixample|la_Dreta_de_l_Eix...|2023|        1|             2|         7|             116.5|0.30606430821909203|\n",
      "|                             Total|      Eixample|l_Antiga_Esquerra...|2023|        1|             2|         8|              99.5|0.23687423924386955|\n",
      "|                             Total|      Eixample|         Sant_Antoni|2023|        1|             2|        10| 81.30000305175781| 0.1628001778204745|\n",
      "|                             Total|      Eixample|la_Nova_Esquerra_...|2023|        1|             2|         9| 74.69999694824219|0.13593812620052537|\n",
      "|                             Total|      Eixample|       el_Fort_Pienc|2023|        1|             2|         5|  80.5999984741211|0.15995115634931828|\n",
      "|                             Total|      Eixample|  la_Sagrada_Família|2023|        1|             2|         6|  72.4000015258789|0.12657713549958352|\n",
      "|                             Total|  Ciutat_Vella|      el_Barri_Gòtic|2023|        1|             1|         2|  82.9000015258789| 0.1693121781019268|\n",
      "|                             Total|  Ciutat_Vella|Sant_Pere__Santa_...|2023|        1|             1|         4|  70.9000015258789|0.12047212941353447|\n",
      "|                             Total|  Ciutat_Vella|            el_Raval|2023|        1|             1|         1| 63.79999923706055|0.09157509129073566|\n",
      "+----------------------------------+--------------+--------------------+----+---------+--------------+----------+------------------+-------------------+\n",
      "only showing top 20 rows\n",
      "\n"
     ]
    }
   ],
   "source": [
    "DF.show()"
   ]
  }
 ],
 "metadata": {
  "kernelspec": {
   "display_name": "Python 3",
   "language": "python",
   "name": "python3"
  },
  "language_info": {
   "codemirror_mode": {
    "name": "ipython",
    "version": 3
   },
   "file_extension": ".py",
   "mimetype": "text/x-python",
   "name": "python",
   "nbconvert_exporter": "python",
   "pygments_lexer": "ipython3",
   "version": "3.10.7"
  }
 },
 "nbformat": 4,
 "nbformat_minor": 2
}
