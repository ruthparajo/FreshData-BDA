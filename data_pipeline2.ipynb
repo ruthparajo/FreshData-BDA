{
 "cells": [
  {
   "cell_type": "code",
   "execution_count": 1,
   "metadata": {},
   "outputs": [],
   "source": [
    "import pandas as pd\n",
    "import numpy as np\n",
    "import matplotlib.pyplot as plt\n",
    "from pmdarima.arima import auto_arima\n",
    "from sklearn.metrics import mean_squared_error\n",
    "from pyspark.sql import SparkSession\n",
    "import pyspark.sql.functions as F\n",
    "from pyspark.sql.functions import col, expr, lit, min, max, mean"
   ]
  },
  {
   "cell_type": "code",
   "execution_count": 2,
   "metadata": {},
   "outputs": [
    {
     "name": "stderr",
     "output_type": "stream",
     "text": [
      "24/04/25 09:04:28 WARN NativeCodeLoader: Unable to load native-hadoop library for your platform... using builtin-java classes where applicable\n",
      "Setting default log level to \"WARN\".\n",
      "To adjust logging level use sc.setLogLevel(newLevel). For SparkR, use setLogLevel(newLevel).\n"
     ]
    }
   ],
   "source": [
    "spark = SparkSession.builder\\\n",
    "    .config(\"spark.jars\", \"duckdb.jar\") \\\n",
    "    .getOrCreate()"
   ]
  },
  {
   "cell_type": "code",
   "execution_count": 3,
   "metadata": {},
   "outputs": [],
   "source": [
    "districtes = spark.read \\\n",
    "    .format(\"jdbc\") \\\n",
    "    .option(\"url\", \"jdbc:duckdb:trusted_zone/freshdata_trusted.db\") \\\n",
    "    .option(\"driver\", \"org.duckdb.DuckDBDriver\") \\\n",
    "    .option(\"query\", '''\n",
    "        SELECT DISTINCT b.District \n",
    "        FROM rent_price b\n",
    "    ''') \\\n",
    "    .load()\n",
    "\n",
    "districtes = [i[0] for i in districtes.collect()]"
   ]
  },
  {
   "cell_type": "code",
   "execution_count": 4,
   "metadata": {},
   "outputs": [
    {
     "data": {
      "text/plain": [
       "['Eixample',\n",
       " 'Gracia',\n",
       " 'Horta-Guinardo',\n",
       " 'Nou_Barris',\n",
       " 'Sants-Montjuic',\n",
       " 'Sarria-Sant_Gervasi',\n",
       " 'Sant_Marti',\n",
       " 'Sant_Andreu',\n",
       " 'Ciutat_Vella',\n",
       " 'Les_Corts']"
      ]
     },
     "execution_count": 4,
     "metadata": {},
     "output_type": "execute_result"
    }
   ],
   "source": [
    "districtes"
   ]
  },
  {
   "cell_type": "code",
   "execution_count": null,
   "metadata": {},
   "outputs": [],
   "source": [
    "# Dividir datos en entrenamiento y prueba\n",
    "train_size = int(len(data) * 0.9)  # Usaremos el 70% de los datos como entrenamiento\n",
    "train, test = data[:train_size], data[train_size:]\n",
    "\n",
    "# Configurar y ajustar el modelo ARIMA automáticamente\n",
    "model = auto_arima(train, start_p=0, start_q=0, max_p=3, max_q=3, seasonal=False, trace=True)\n",
    "model.fit(train)\n",
    "\n",
    "# Hacer predicciones\n",
    "predictions = model.predict(n_periods=len(test))\n",
    "\n",
    "# Calcular el error\n",
    "error = np.sqrt(mean_squared_error(test, predictions))\n",
    "\n",
    "print(f'Predicción del siguiente valor: {model.predict(n_periods=1)[0]:.2f}')\n",
    "print(f'Error RMSE en conjunto de prueba: {error:.2f}')\n",
    "\n",
    "# Visualizar resultados\n",
    "plt.figure(figsize=(10, 6))\n",
    "plt.plot(data, label='Serie Original')\n",
    "plt.plot(np.arange(train_size, len(data)), predictions, label='Predicciones', linestyle='--')\n",
    "plt.title(f'AutoARIMA Prediction (RMSE={error:.2f})')\n",
    "plt.xlabel('Índice de Tiempo')\n",
    "plt.ylabel('Valor')\n",
    "plt.legend()\n",
    "plt.show()\n"
   ]
  }
 ],
 "metadata": {
  "kernelspec": {
   "display_name": "Python 3",
   "language": "python",
   "name": "python3"
  },
  "language_info": {
   "codemirror_mode": {
    "name": "ipython",
    "version": 3
   },
   "file_extension": ".py",
   "mimetype": "text/x-python",
   "name": "python",
   "nbconvert_exporter": "python",
   "pygments_lexer": "ipython3",
   "version": "3.10.7"
  }
 },
 "nbformat": 4,
 "nbformat_minor": 2
}
