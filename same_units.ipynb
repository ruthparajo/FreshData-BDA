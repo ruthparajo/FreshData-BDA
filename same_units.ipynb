{
 "cells": [
  {
   "cell_type": "code",
   "execution_count": 2,
   "metadata": {},
   "outputs": [
    {
     "name": "stderr",
     "output_type": "stream",
     "text": [
      "24/04/10 15:32:26 WARN Utils: Your hostname, Ruths-MacBook-Air-2.local resolves to a loopback address: 127.0.0.1; using 10.192.238.85 instead (on interface en0)\n",
      "24/04/10 15:32:26 WARN Utils: Set SPARK_LOCAL_IP if you need to bind to another address\n",
      "Setting default log level to \"WARN\".\n",
      "To adjust logging level use sc.setLogLevel(newLevel). For SparkR, use setLogLevel(newLevel).\n",
      "24/04/10 15:32:26 WARN NativeCodeLoader: Unable to load native-hadoop library for your platform... using builtin-java classes where applicable\n"
     ]
    }
   ],
   "source": [
    "import pyspark\n",
    "from pyspark.sql import SparkSession\n",
    "from pyspark.sql.functions import udf\n",
    "from pyspark.sql.types import StringType\n",
    "\n",
    "sc = SparkSession.builder.getOrCreate()"
   ]
  },
  {
   "cell_type": "code",
   "execution_count": 3,
   "metadata": {},
   "outputs": [],
   "source": [
    "paths = ['data_lake/compravenda_sup.parquet', 'data_lake/rent_price.parquet', 'data_lake/renda.parquet']\n",
    "col_numeriques = {'data_lake/compravenda_sup.parquet': ['Nombre']\n",
    "                  , 'data_lake/renda.parquet': ['Import_Euros']\n",
    "                , 'data_lake/rent_price.parquet': ['Price']}"
   ]
  },
  {
   "cell_type": "code",
   "execution_count": 4,
   "metadata": {},
   "outputs": [
    {
     "name": "stderr",
     "output_type": "stream",
     "text": [
      "                                                                                \r"
     ]
    },
    {
     "name": "stdout",
     "output_type": "stream",
     "text": [
      "root\n",
      " |-- Any: long (nullable = true)\n",
      " |-- Trimestre: long (nullable = true)\n",
      " |-- Codi_Districte: long (nullable = true)\n",
      " |-- Nom_Districte: string (nullable = true)\n",
      " |-- Codi_Barri: long (nullable = true)\n",
      " |-- Nom_Barri: string (nullable = true)\n",
      " |-- Superfície_mitjana_(m2_construïts): string (nullable = true)\n",
      " |-- Nombre: string (nullable = true)\n",
      "\n",
      "root\n",
      " |-- Year: long (nullable = true)\n",
      " |-- Trimester: long (nullable = true)\n",
      " |-- District: string (nullable = true)\n",
      " |-- Neighbourhood: string (nullable = true)\n",
      " |-- Average _rent: string (nullable = true)\n",
      " |-- Price: double (nullable = true)\n",
      "\n",
      "root\n",
      " |-- Any: long (nullable = true)\n",
      " |-- Codi_Districte: long (nullable = true)\n",
      " |-- Nom_Districte: string (nullable = true)\n",
      " |-- Codi_Barri: long (nullable = true)\n",
      " |-- Nom_Barri: string (nullable = true)\n",
      " |-- Seccio_Censal: long (nullable = true)\n",
      " |-- Import_Euros: long (nullable = true)\n",
      "\n"
     ]
    }
   ],
   "source": [
    "for path in paths:\n",
    "    RDD = sc.read.parquet(path)\n",
    "    RDD.printSchema()"
   ]
  },
  {
   "cell_type": "code",
   "execution_count": null,
   "metadata": {},
   "outputs": [],
   "source": [
    "# Definir la función que convierte las variables a m2 si están en una magnitud diferente\n",
    "def convertir_a_m2(magnitud, valor):\n",
    "    if magnitud.lower() == \"m2\":\n",
    "        return valor\n",
    "    elif magnitud.lower() == \"m\":\n",
    "        return valor * valor\n",
    "    elif magnitud.lower() == \"cm2\":\n",
    "        return valor / 10000\n",
    "    elif magnitud.lower() == \"mm2\":\n",
    "        return valor / 1000000\n",
    "    elif magnitud.lower() == \"km2\":\n",
    "        return valor * 1000000\n",
    "    else:\n",
    "        return valor\n",
    "\n",
    "# Registrar la función definida como una función Spark UDF (User Defined Function)\n",
    "convertir_a_m2_udf = udf(convertir_a_m2, StringType())"
   ]
  },
  {
   "cell_type": "code",
   "execution_count": null,
   "metadata": {},
   "outputs": [],
   "source": [
    "for path in paths:\n",
    "    RDD = sc.read.parquet(path)\n",
    "    RDD.printSchema()\n",
    "    df_converted = RDD.withColumn(\"valor_en_m2\", convertir_a_m2_udf(\"magnitud\", \"valor\"))"
   ]
  }
 ],
 "metadata": {
  "kernelspec": {
   "display_name": "Python 3",
   "language": "python",
   "name": "python3"
  },
  "language_info": {
   "codemirror_mode": {
    "name": "ipython",
    "version": 3
   },
   "file_extension": ".py",
   "mimetype": "text/x-python",
   "name": "python",
   "nbconvert_exporter": "python",
   "pygments_lexer": "ipython3",
   "version": "3.9.6"
  },
  "orig_nbformat": 4
 },
 "nbformat": 4,
 "nbformat_minor": 2
}
