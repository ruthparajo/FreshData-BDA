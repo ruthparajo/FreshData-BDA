{
 "cells": [
  {
   "cell_type": "code",
   "execution_count": 1,
   "metadata": {},
   "outputs": [],
   "source": [
    "import pandas as pd\n",
    "import numpy as np\n",
    "import matplotlib.pyplot as plt\n",
    "from pmdarima.arima import auto_arima\n",
    "from sklearn.metrics import mean_squared_error\n",
    "from pyspark.sql import SparkSession\n",
    "import pyspark.sql.functions as F\n",
    "from pyspark.sql.functions import col, expr, lit, min, max, mean"
   ]
  },
  {
   "cell_type": "code",
   "execution_count": 2,
   "metadata": {},
   "outputs": [
    {
     "name": "stderr",
     "output_type": "stream",
     "text": [
      "24/04/25 18:07:56 WARN Utils: Your hostname, MacBook-Air-de-Esteban-2.local resolves to a loopback address: 127.0.0.1; using 192.168.1.133 instead (on interface en0)\n",
      "24/04/25 18:07:56 WARN Utils: Set SPARK_LOCAL_IP if you need to bind to another address\n",
      "24/04/25 18:07:56 WARN NativeCodeLoader: Unable to load native-hadoop library for your platform... using builtin-java classes where applicable\n",
      "Setting default log level to \"WARN\".\n",
      "To adjust logging level use sc.setLogLevel(newLevel). For SparkR, use setLogLevel(newLevel).\n"
     ]
    }
   ],
   "source": [
    "spark = SparkSession.builder\\\n",
    "    .config(\"spark.jars\", \"duckdb.jar\") \\\n",
    "    .getOrCreate()"
   ]
  },
  {
   "cell_type": "code",
   "execution_count": 5,
   "metadata": {},
   "outputs": [],
   "source": [
    "districtes = spark.read \\\n",
    "    .format(\"jdbc\") \\\n",
    "    .option(\"url\", \"jdbc:duckdb:../exploited_zone/freshdata_exploited2.db\") \\\n",
    "    .option(\"driver\", \"org.duckdb.DuckDBDriver\") \\\n",
    "    .option(\"query\", '''\n",
    "        SELECT *\n",
    "        FROM nova_base\n",
    "    ''') \\\n",
    "    .load()\n"
   ]
  },
  {
   "cell_type": "code",
   "execution_count": 9,
   "metadata": {},
   "outputs": [
    {
     "name": "stdout",
     "output_type": "stream",
     "text": [
      "+----+---------+-------------+--------------------+----------------------------------+------------------+\n",
      "| Any|Trimestre|Nom_Districte|           Nom_Barri|Superfície_mitjana_(m2_construïts)|            Nombre|\n",
      "+----+---------+-------------+--------------------+----------------------------------+------------------+\n",
      "|2023|        1|       Gràcia|   la_Vila_de_Gràcia|                             Total|              80.5|\n",
      "|2023|        2|       Gràcia|   la_Vila_de_Gràcia|                             Total| 81.30000305175781|\n",
      "|2023|        3|       Gràcia|   la_Vila_de_Gràcia|                             Total|  83.0999984741211|\n",
      "|2023|        1|       Gràcia|el_Camp_d_en_Gras...|                             Total| 77.30000305175781|\n",
      "|2023|        2|       Gràcia|el_Camp_d_en_Gras...|                             Total|  71.4000015258789|\n",
      "|2023|        3|       Gràcia|el_Camp_d_en_Gras...|                             Total|              68.5|\n",
      "|2023|        1|       Gràcia|             el_Coll|                             Total| 66.69999694824219|\n",
      "|2023|        2|       Gràcia|             el_Coll|                             Total| 73.19999694824219|\n",
      "|2023|        3|       Gràcia|             el_Coll|                             Total|  64.5999984741211|\n",
      "|2023|        1|       Gràcia|Vallcarca_i_els_P...|                             Total|  85.4000015258789|\n",
      "|2023|        2|       Gràcia|Vallcarca_i_els_P...|                             Total|  88.0999984741211|\n",
      "|2023|        3|       Gràcia|Vallcarca_i_els_P...|                             Total|              93.5|\n",
      "|2023|        1|       Gràcia|            la_Salut|                             Total| 82.30000305175781|\n",
      "|2023|        2|       Gràcia|            la_Salut|                             Total|  88.5999984741211|\n",
      "|2023|        3|       Gràcia|            la_Salut|                             Total| 79.19999694824219|\n",
      "|2023|        1|   Sant_Martí|         el_Poblenou|                             Total|  72.9000015258789|\n",
      "|2023|        2|   Sant_Martí|         el_Poblenou|                             Total| 72.80000305175781|\n",
      "|2023|        3|   Sant_Martí|         el_Poblenou|                             Total|  70.5999984741211|\n",
      "|2023|        1|   Sant_Martí|el_Besòs_i_el_Mar...|                             Total|62.900001525878906|\n",
      "|2023|        2|   Sant_Martí|el_Besòs_i_el_Mar...|                             Total| 62.70000076293945|\n",
      "+----+---------+-------------+--------------------+----------------------------------+------------------+\n",
      "only showing top 20 rows\n",
      "\n"
     ]
    }
   ],
   "source": [
    "districtes.show()"
   ]
  }
 ],
 "metadata": {
  "kernelspec": {
   "display_name": "Python 3",
   "language": "python",
   "name": "python3"
  },
  "language_info": {
   "codemirror_mode": {
    "name": "ipython",
    "version": 3
   },
   "file_extension": ".py",
   "mimetype": "text/x-python",
   "name": "python",
   "nbconvert_exporter": "python",
   "pygments_lexer": "ipython3",
   "version": "3.10.7"
  }
 },
 "nbformat": 4,
 "nbformat_minor": 2
}
