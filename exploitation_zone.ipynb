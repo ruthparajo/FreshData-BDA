{
 "cells": [
  {
   "cell_type": "markdown",
   "metadata": {},
   "source": [
    "# Explotation Zone\n",
    "Script on es combinen les diverses bases de dades per obtenir un format adequat i necessari pels models triats en la següent fase."
   ]
  },
  {
   "cell_type": "markdown",
   "metadata": {},
   "source": [
    "Requeriments previs per a utilitzar aquest script:"
   ]
  },
  {
   "cell_type": "code",
   "execution_count": 22,
   "metadata": {},
   "outputs": [],
   "source": [
    "from pyspark.sql import SparkSession\n",
    "import pyspark.sql.functions as F\n",
    "from pyspark.sql.functions import col, expr, lit, min, max, mean,udf,regexp_replace\n",
    "from pyspark.sql.types import StringType\n",
    "from unidecode import unidecode"
   ]
  },
  {
   "cell_type": "code",
   "execution_count": 23,
   "metadata": {},
   "outputs": [],
   "source": [
    "# Funció per treure els accents i la L de les paraules\n",
    "def treure_accents_L(cadena):\n",
    "    cadena_sense_accents = unidecode(cadena)\n",
    "    return cadena_sense_accents.replace(\"L'\", \"\")"
   ]
  },
  {
   "cell_type": "code",
   "execution_count": null,
   "metadata": {},
   "outputs": [],
   "source": [
    "# Sessió Spark\n",
    "spark = SparkSession.builder\\\n",
    "    .config(\"spark.jars\", \"duckdb.jar\") \\\n",
    "    .getOrCreate()"
   ]
  },
  {
   "cell_type": "markdown",
   "metadata": {},
   "source": [
    "### Preparació pel primer pipeline (KNN + KMeans)"
   ]
  },
  {
   "cell_type": "markdown",
   "metadata": {},
   "source": [
    "Es vol ajuntar per districtes les variables de lloguer per mes, lloguer per m^2 i import de renda. Les variables de lloguer es troben juntes en renda i per poder separar-les s'ha de filtar pel tipus euro/mes per una banda i euro/m2 per l'altre. Per les 3 bases s'obtenir la mitjana per any per tal de tenir una única observació per districtes i any."
   ]
  },
  {
   "cell_type": "code",
   "execution_count": 25,
   "metadata": {},
   "outputs": [
    {
     "name": "stdout",
     "output_type": "stream",
     "text": [
      "+----+-------------------+-------------------+\n",
      "|Year|           District|   Year_Price_month|\n",
      "+----+-------------------+-------------------+\n",
      "|2014|           Eixample|  0.333091261995637|\n",
      "|2015|             Gracia|0.28993265174502825|\n",
      "|2016|     Sants-Montjuic| 0.2749316692108045|\n",
      "|2018|     Horta-Guinardo|0.32171624393389936|\n",
      "|2018|         Nou_Barris|  0.267811108220087|\n",
      "|2019|           Eixample|0.49606870861218894|\n",
      "|2020|           Eixample|  0.487231673063165|\n",
      "|2021|           Eixample| 0.4536786913786479|\n",
      "|2022|     Sants-Montjuic| 0.3929317812573789|\n",
      "|2014|             Gracia|0.26889980229005206|\n",
      "|2015|           Eixample|0.36026206259757737|\n",
      "|2016|Sarria-Sant_Gervasi| 0.5516446753997372|\n",
      "|2016|         Sant_Marti| 0.3478377456836853|\n",
      "|2017|        Sant_Andreu|0.27965781377203086|\n",
      "|2018|       Ciutat_Vella| 0.4159131397819904|\n",
      "|2018|          Les_Corts| 0.5793778127852433|\n",
      "|2019|             Gracia|  0.414363574849603|\n",
      "|2020|             Gracia|0.42102174809426635|\n",
      "|2021|             Gracia| 0.3885079771206242|\n",
      "|2022|Sarria-Sant_Gervasi|  0.614641813715643|\n",
      "+----+-------------------+-------------------+\n",
      "only showing top 20 rows\n",
      "\n"
     ]
    }
   ],
   "source": [
    "# Llegir la taula de rent_price\n",
    "DF1 = spark.read \\\n",
    "  .format(\"jdbc\") \\\n",
    "  .option(\"url\", \"jdbc:duckdb:trusted_zone/freshdata_trusted.db\") \\\n",
    "  .option(\"driver\", \"org.duckdb.DuckDBDriver\") \\\n",
    "  .option(\"query\", '''SELECT Year, District, AVG(Price_Escalat) AS Year_Price_month FROM rent_price WHERE \"Average _Rent\" = 'average rent (euro/month)' GROUP BY Year ,District''') \\\n",
    "  .load()\n",
    "DF1.show()"
   ]
  },
  {
   "cell_type": "code",
   "execution_count": 26,
   "metadata": {},
   "outputs": [
    {
     "name": "stdout",
     "output_type": "stream",
     "text": [
      "+----+-------------------+-------------------+\n",
      "|Year|           District|      Year_Price_m2|\n",
      "+----+-------------------+-------------------+\n",
      "|2014|       Ciutat_Vella| 0.4785458057395143|\n",
      "|2014|          Les_Corts| 0.4477097130242826|\n",
      "|2015|     Horta-Guinardo|0.36386151940989603|\n",
      "|2015|         Nou_Barris| 0.2866209397666351|\n",
      "|2016|        Sant_Andreu| 0.3477457972491085|\n",
      "|2017|Sarria-Sant_Gervasi| 0.7045851729212657|\n",
      "|2017|         Sant_Marti| 0.5433774834437085|\n",
      "|2018|             Gracia|   0.56401766004415|\n",
      "|2019|       Ciutat_Vella| 0.6685292494481235|\n",
      "|2019|          Les_Corts| 0.6541574687270052|\n",
      "|2020|       Ciutat_Vella| 0.6471440397350993|\n",
      "|2020|          Les_Corts| 0.6444996320824136|\n",
      "|2021|       Ciutat_Vella| 0.5847130242825607|\n",
      "|2021|          Les_Corts| 0.5975901398086828|\n",
      "|2022|        Sant_Andreu|0.47065857247976456|\n",
      "|2014|Sarria-Sant_Gervasi| 0.4780629139072848|\n",
      "|2014|         Sant_Marti|0.37310982339955845|\n",
      "|2015|     Sants-Montjuic|0.38754598969830756|\n",
      "|2016|             Gracia| 0.5072847682119205|\n",
      "|2017|       Ciutat_Vella|  0.702469646799117|\n",
      "+----+-------------------+-------------------+\n",
      "only showing top 20 rows\n",
      "\n"
     ]
    }
   ],
   "source": [
    "# Llegir la taula de compravenda_sup\n",
    "DF2 = spark.read \\\n",
    "  .format(\"jdbc\") \\\n",
    "  .option(\"url\", \"jdbc:duckdb:trusted_zone/freshdata_trusted.db\") \\\n",
    "  .option(\"driver\", \"org.duckdb.DuckDBDriver\") \\\n",
    "  .option(\"query\", '''SELECT Year, District, AVG(Price_Escalat) AS Year_Price_m2 FROM rent_price WHERE \"Average _Rent\" = 'average rent per surface (euro/m2)' GROUP BY Year ,District''') \\\n",
    "  .load()\n",
    "DF2.show()"
   ]
  },
  {
   "cell_type": "code",
   "execution_count": 27,
   "metadata": {},
   "outputs": [
    {
     "name": "stdout",
     "output_type": "stream",
     "text": [
      "+----+-------------------+-------------------+\n",
      "| Any|      Nom_Districte|    District_Income|\n",
      "+----+-------------------+-------------------+\n",
      "|2018|       Ciutat_Vella|0.11546314814814815|\n",
      "|2018|     Sants-Montjuïc|0.20847428205128204|\n",
      "|2018|          Les_Corts|0.47042419298245614|\n",
      "|2017|        Sant_Andreu|0.21254642105263158|\n",
      "|2016|             Gràcia| 0.2653363563218391|\n",
      "|2016|         Sant_Martí|0.21905444217687076|\n",
      "|2015|           Eixample|0.29212261849710985|\n",
      "|2019|           Eixample| 0.3578624161849711|\n",
      "|2018|         Nou_Barris|0.14967166666666668|\n",
      "|2017|     Horta-Guinardó|0.20365434146341463|\n",
      "|2016|Sarrià-Sant_Gervasi| 0.5873470102040816|\n",
      "|2021|         Nou_Barris|0.17628994871794873|\n",
      "|2020|         Nou_Barris| 0.1632850170940171|\n",
      "|2019|         Nou_Barris| 0.1655876923076923|\n",
      "|2018|           Eixample|0.33227485549132946|\n",
      "|2017|Sarrià-Sant_Gervasi| 0.6134964693877552|\n",
      "|2016|     Horta-Guinardó|0.19813920325203252|\n",
      "|2015|       Ciutat_Vella|0.08592322222222222|\n",
      "|2015|     Sants-Montjuïc| 0.1763603247863248|\n",
      "|2015|          Les_Corts| 0.4122089122807018|\n",
      "+----+-------------------+-------------------+\n",
      "only showing top 20 rows\n",
      "\n"
     ]
    }
   ],
   "source": [
    "# Llegir la taula de renda\n",
    "DF3 = spark.read \\\n",
    "  .format(\"jdbc\") \\\n",
    "  .option(\"url\", \"jdbc:duckdb:trusted_zone/freshdata_trusted.db\") \\\n",
    "  .option(\"driver\", \"org.duckdb.DuckDBDriver\") \\\n",
    "  .option(\"query\", \"SELECT \\\"Any\\\", Nom_Districte, AVG(Import_Euros_Escalat) AS District_Income FROM renda GROUP BY \\\"Any\\\",Nom_Districte\") \\\n",
    "  .load()\n",
    "DF3.show()"
   ]
  },
  {
   "cell_type": "code",
   "execution_count": 28,
   "metadata": {},
   "outputs": [
    {
     "name": "stdout",
     "output_type": "stream",
     "text": [
      "+----+-------------------+-------------------+\n",
      "| Any|      Nom_Districte|    District_Income|\n",
      "+----+-------------------+-------------------+\n",
      "|2021|       Ciutat_Vella|0.13931579629629628|\n",
      "|2021|     Sants-Montjuic|0.24206200854700854|\n",
      "|2021|          Les_Corts| 0.4859704561403509|\n",
      "|2020|       Ciutat_Vella|0.12283433333333334|\n",
      "|2020|     Sants-Montjuic|0.22588576923076922|\n",
      "|2020|          Les_Corts|0.47797108771929825|\n",
      "|2019|       Ciutat_Vella|0.13657272222222222|\n",
      "|2019|     Sants-Montjuic| 0.2292812393162393|\n",
      "|2019|          Les_Corts| 0.4899912280701754|\n",
      "|2017|             Gracia| 0.2726322298850575|\n",
      "|2017|         Sant_Marti| 0.2257753673469388|\n",
      "|2016|        Sant_Andreu|0.20619405263157894|\n",
      "|2015|         Nou_Barris|0.12353695726495727|\n",
      "|2019|           Eixample| 0.3578624161849711|\n",
      "|2018|         Nou_Barris|0.14967166666666668|\n",
      "|2017|     Horta-Guinardo|0.20365434146341463|\n",
      "|2016|Sarria-Sant_Gervasi| 0.5873470102040816|\n",
      "|2021|Sarria-Sant_Gervasi| 0.6646924591836735|\n",
      "|2020|Sarria-Sant_Gervasi| 0.6536076020408164|\n",
      "|2019|Sarria-Sant_Gervasi| 0.6854480408163265|\n",
      "+----+-------------------+-------------------+\n",
      "only showing top 20 rows\n",
      "\n"
     ]
    }
   ],
   "source": [
    "# Crear una columna 'Nom_Districte' en DF3 que no conté accents ni la L\n",
    "treure_accents_L_udf = udf(treure_accents_L, StringType())\n",
    "\n",
    "DF3 = DF3.withColumn('Nom_Districte', treure_accents_L_udf(DF3['Nom_Districte']))\n",
    "\n",
    "# Mostrem el nou DF3\n",
    "DF3.show()"
   ]
  },
  {
   "cell_type": "code",
   "execution_count": 29,
   "metadata": {},
   "outputs": [],
   "source": [
    "# Renombrar columnes\n",
    "DF3 = DF3.withColumnRenamed(\"Nom_Districte\", \"District\")\n",
    "DF3 = DF3.withColumnRenamed(\"Any\", \"Year\")"
   ]
  },
  {
   "cell_type": "code",
   "execution_count": 30,
   "metadata": {},
   "outputs": [],
   "source": [
    "# Utilitzem la funció createOrReplaceTempView per a poder fer consultes SQL de manera més familiar\n",
    "DF1.createOrReplaceTempView(\"taula1\")\n",
    "DF2.createOrReplaceTempView(\"taula2\")\n",
    "DF3.createOrReplaceTempView(\"taula3\")"
   ]
  },
  {
   "cell_type": "code",
   "execution_count": 32,
   "metadata": {},
   "outputs": [
    {
     "name": "stdout",
     "output_type": "stream",
     "text": [
      "+----+-------------------+-------------------+-------------------+-------------------+\n",
      "|Year|           District|   Year_Price_month|      Year_Price_m2|    District_Income|\n",
      "+----+-------------------+-------------------+-------------------+-------------------+\n",
      "|2015|     Horta-Guinardo|0.23929853325366826|0.36386151940989603|0.18996447967479674|\n",
      "|2021|          Les_Corts| 0.5665535385146733| 0.5975901398086828| 0.4859704561403509|\n",
      "|2016|     Sants-Montjuic| 0.2749316692108045| 0.4447362411509477| 0.1827870170940171|\n",
      "|2015|     Sants-Montjuic|  0.247910301005466|0.38754598969830756| 0.1763603247863248|\n",
      "|2019|     Sants-Montjuic|0.36016970316529145| 0.5404201872573647| 0.2292812393162393|\n",
      "|2021|Sarria-Sant_Gervasi|  0.596762896080691| 0.6530077262693158| 0.6646924591836735|\n",
      "|2020|          Les_Corts| 0.5927254369178394| 0.6444996320824136|0.47797108771929825|\n",
      "|2016|         Nou_Barris|  0.204482600232365|0.32688251165072363| 0.1293284017094017|\n",
      "|2020|        Sant_Andreu| 0.3302538511148938|0.48520971302428245|0.24971932631578947|\n",
      "|2019|          Les_Corts| 0.6237784097917526| 0.6541574687270052| 0.4899912280701754|\n",
      "|2016|             Gracia|0.32450651808464515| 0.5072847682119205| 0.2653363563218391|\n",
      "|2016|         Sant_Marti| 0.3478377456836853|  0.478131898454746|0.21905444217687076|\n",
      "|2021|     Sants-Montjuic| 0.3470983912844501| 0.5242037212235889|0.24206200854700854|\n",
      "|2018|     Sants-Montjuic| 0.3475609479806851| 0.5233561967833491|0.20847428205128204|\n",
      "|2021|         Sant_Marti| 0.4092225875685906| 0.5662251655629139| 0.2802281836734694|\n",
      "|2019|           Eixample|0.49606870861218894| 0.6129966887417218| 0.3578624161849711|\n",
      "|2017|     Sants-Montjuic|0.32670115136969635| 0.5182119205298013|0.18894796581196582|\n",
      "|2018|        Sant_Andreu|0.31129018956894994| 0.4469757174392936|0.23147096842105264|\n",
      "|2019|     Horta-Guinardo| 0.3457545224828986|  0.517798013245033|0.23875332520325204|\n",
      "|2015|        Sant_Andreu| 0.2161922450240647|0.31211675251410353| 0.1974228842105263|\n",
      "+----+-------------------+-------------------+-------------------+-------------------+\n",
      "only showing top 20 rows\n",
      "\n"
     ]
    }
   ],
   "source": [
    "# En aquesta query fem un join de les tres taules per a obtenir la informació que volem entre Year i district\n",
    "DF = spark.sql(\"\"\"\n",
    "    SELECT t1.Year,t1.District, t1.Year_Price_month, t2.Year_Price_m2, t3.District_Income\n",
    "    FROM taula1 t1, taula2 t2, taula3 t3\n",
    "    WHERE t1.District = t2.District AND t1.District = t3.District and t1.Year = t2.Year and t1.Year = t3.Year\n",
    "\"\"\")\n",
    "DF.show()"
   ]
  },
  {
   "cell_type": "code",
   "execution_count": 33,
   "metadata": {},
   "outputs": [
    {
     "name": "stdout",
     "output_type": "stream",
     "text": [
      "CodeCache: size=131072Kb used=28158Kb max_used=28158Kb free=102913Kb\n",
      " bounds [0x00000001091e0000, 0x000000010ad90000, 0x00000001111e0000]\n",
      " total_blobs=11029 nmethods=10085 adapters=855\n",
      " compilation: disabled (not enough contiguous free space left)\n"
     ]
    },
    {
     "name": "stderr",
     "output_type": "stream",
     "text": [
      "Java HotSpot(TM) 64-Bit Server VM warning: CodeCache is full. Compiler has been disabled.\n",
      "Java HotSpot(TM) 64-Bit Server VM warning: Try increasing the code cache size using -XX:ReservedCodeCacheSize=\n"
     ]
    }
   ],
   "source": [
    "# Sobreescrivim la taula nova_base amb la nova informació\n",
    "DF.write \\\n",
    "        .format(\"jdbc\") \\\n",
    "        .option(\"url\", f\"jdbc:duckdb:exploited_zone/freshdata_exploited1.db\") \\\n",
    "        .option(\"dbtable\", \"nova_base\") \\\n",
    "        .option(\"driver\", \"org.duckdb.DuckDBDriver\") \\\n",
    "        .mode(\"overwrite\") \\\n",
    "        .save()"
   ]
  },
  {
   "cell_type": "markdown",
   "metadata": {},
   "source": [
    "### Preparació per al segon pipeline (Anàlisi descriptiu)"
   ]
  },
  {
   "cell_type": "code",
   "execution_count": 34,
   "metadata": {},
   "outputs": [],
   "source": [
    "spark = SparkSession.builder\\\n",
    "    .config(\"spark.jars\", \"duckdb.jar\") \\\n",
    "    .getOrCreate()"
   ]
  },
  {
   "cell_type": "code",
   "execution_count": 35,
   "metadata": {},
   "outputs": [
    {
     "name": "stdout",
     "output_type": "stream",
     "text": [
      "+----+---------+-------------+--------------------+----------------------------------+------------------+\n",
      "| Any|Trimestre|Nom_Districte|           Nom_Barri|Superfície_mitjana_(m2_construïts)|            Nombre|\n",
      "+----+---------+-------------+--------------------+----------------------------------+------------------+\n",
      "|2023|        1|       Gràcia|   la_Vila_de_Gràcia|                             Total|              80.5|\n",
      "|2023|        2|       Gràcia|   la_Vila_de_Gràcia|                             Total| 81.30000305175781|\n",
      "|2023|        3|       Gràcia|   la_Vila_de_Gràcia|                             Total|  83.0999984741211|\n",
      "|2023|        1|       Gràcia|el_Camp_d_en_Gras...|                             Total| 77.30000305175781|\n",
      "|2023|        2|       Gràcia|el_Camp_d_en_Gras...|                             Total|  71.4000015258789|\n",
      "|2023|        3|       Gràcia|el_Camp_d_en_Gras...|                             Total|              68.5|\n",
      "|2023|        1|       Gràcia|             el_Coll|                             Total| 66.69999694824219|\n",
      "|2023|        2|       Gràcia|             el_Coll|                             Total| 73.19999694824219|\n",
      "|2023|        3|       Gràcia|             el_Coll|                             Total|  64.5999984741211|\n",
      "|2023|        1|       Gràcia|Vallcarca_i_els_P...|                             Total|  85.4000015258789|\n",
      "|2023|        2|       Gràcia|Vallcarca_i_els_P...|                             Total|  88.0999984741211|\n",
      "|2023|        3|       Gràcia|Vallcarca_i_els_P...|                             Total|              93.5|\n",
      "|2023|        1|       Gràcia|            la_Salut|                             Total| 82.30000305175781|\n",
      "|2023|        2|       Gràcia|            la_Salut|                             Total|  88.5999984741211|\n",
      "|2023|        3|       Gràcia|            la_Salut|                             Total| 79.19999694824219|\n",
      "|2023|        1|   Sant_Martí|         el_Poblenou|                             Total|  72.9000015258789|\n",
      "|2023|        2|   Sant_Martí|         el_Poblenou|                             Total| 72.80000305175781|\n",
      "|2023|        3|   Sant_Martí|         el_Poblenou|                             Total|  70.5999984741211|\n",
      "|2023|        1|   Sant_Martí|el_Besòs_i_el_Mar...|                             Total|62.900001525878906|\n",
      "|2023|        2|   Sant_Martí|el_Besòs_i_el_Mar...|                             Total| 62.70000076293945|\n",
      "+----+---------+-------------+--------------------+----------------------------------+------------------+\n",
      "only showing top 20 rows\n",
      "\n"
     ]
    }
   ],
   "source": [
    "# En aquesta query necessitem només les columnes seleccionades per realitzar l'anàlisi descriptiu\n",
    "DF1 = spark.read \\\n",
    "  .format(\"jdbc\") \\\n",
    "  .option(\"url\", \"jdbc:duckdb:trusted_zone/freshdata_trusted.db\") \\\n",
    "  .option(\"driver\", \"org.duckdb.DuckDBDriver\") \\\n",
    "  .option(\"query\", '''SELECT b.Any, b.Trimestre, b.Nom_Districte, b.Nom_Barri, b.\"Superfície_mitjana_(m2_construïts)\", b.Nombre  FROM compravenda_sup b''') \\\n",
    "  .load()\n",
    "DF1.show()"
   ]
  },
  {
   "cell_type": "code",
   "execution_count": 36,
   "metadata": {},
   "outputs": [],
   "source": [
    "# Sobreescriure la taula nova_base amb la nova informació\n",
    "DF1.write \\\n",
    "        .format(\"jdbc\") \\\n",
    "        .option(\"url\", f\"jdbc:duckdb:exploited_zone/freshdata_exploited2.db\") \\\n",
    "        .option(\"dbtable\", \"nova_base\") \\\n",
    "        .option(\"driver\", \"org.duckdb.DuckDBDriver\") \\\n",
    "        .mode(\"overwrite\") \\\n",
    "        .save()"
   ]
  }
 ],
 "metadata": {
  "kernelspec": {
   "display_name": "Python 3",
   "language": "python",
   "name": "python3"
  },
  "language_info": {
   "codemirror_mode": {
    "name": "ipython",
    "version": 3
   },
   "file_extension": ".py",
   "mimetype": "text/x-python",
   "name": "python",
   "nbconvert_exporter": "python",
   "pygments_lexer": "ipython3",
   "version": "3.10.7"
  },
  "orig_nbformat": 4
 },
 "nbformat": 4,
 "nbformat_minor": 2
}
