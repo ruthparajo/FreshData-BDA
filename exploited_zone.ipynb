{
 "cells": [
  {
   "cell_type": "code",
   "execution_count": 1,
   "metadata": {},
   "outputs": [],
   "source": [
    "from pyspark.sql import SparkSession\n",
    "import pyspark.sql.functions as F\n",
    "from pyspark.sql.functions import col, expr, lit, min, max, mean"
   ]
  },
  {
   "cell_type": "code",
   "execution_count": 2,
   "metadata": {},
   "outputs": [
    {
     "name": "stderr",
     "output_type": "stream",
     "text": [
      "24/04/24 18:30:36 WARN NativeCodeLoader: Unable to load native-hadoop library for your platform... using builtin-java classes where applicable\n",
      "Setting default log level to \"WARN\".\n",
      "To adjust logging level use sc.setLogLevel(newLevel). For SparkR, use setLogLevel(newLevel).\n"
     ]
    }
   ],
   "source": [
    "spark = SparkSession.builder\\\n",
    "    .config(\"spark.jars\", \"duckdb.jar\") \\\n",
    "    .getOrCreate()"
   ]
  },
  {
   "cell_type": "code",
   "execution_count": 12,
   "metadata": {},
   "outputs": [],
   "source": [
    "DF = spark.read \\\n",
    "    .format(\"jdbc\") \\\n",
    "    .option(\"url\", \"jdbc:duckdb:trusted_zone/freshdata_trusted.db\") \\\n",
    "    .option(\"driver\", \"org.duckdb.DuckDBDriver\") \\\n",
    "    .option(\"query\", '''\n",
    "        SELECT b.Price_Escalat\n",
    "        FROM rent_price b\n",
    "        WHERE b.Year > 2014\n",
    "        AND b.\"Average _rent\" = 'average rent (euro/month)'\n",
    "    ''') \\\n",
    "    .load()\n"
   ]
  },
  {
   "cell_type": "code",
   "execution_count": 3,
   "metadata": {},
   "outputs": [],
   "source": [
    "barris = spark.read \\\n",
    "    .format(\"jdbc\") \\\n",
    "    .option(\"url\", \"jdbc:duckdb:trusted_zone/freshdata_trusted.db\") \\\n",
    "    .option(\"driver\", \"org.duckdb.DuckDBDriver\") \\\n",
    "    .option(\"query\", '''\n",
    "        SELECT DISTINCT b.Neighbourhood \n",
    "        FROM rent_price b \n",
    "        WHERE b.\"Average _rent\" = 'average rent (euro/month)'\n",
    "    ''') \\\n",
    "    .load()"
   ]
  },
  {
   "cell_type": "code",
   "execution_count": null,
   "metadata": {},
   "outputs": [],
   "source": [
    "b"
   ]
  },
  {
   "cell_type": "code",
   "execution_count": 90,
   "metadata": {},
   "outputs": [
    {
     "name": "stdout",
     "output_type": "stream",
     "text": [
      "+------+\n",
      "| Price|\n",
      "+------+\n",
      "|605.28|\n",
      "| 618.8|\n",
      "|624.78|\n",
      "|647.14|\n",
      "|616.05|\n",
      "|627.86|\n",
      "| 701.0|\n",
      "|658.42|\n",
      "|664.66|\n",
      "|681.39|\n",
      "| 740.5|\n",
      "|740.28|\n",
      "|737.27|\n",
      "|780.27|\n",
      "|812.48|\n",
      "|806.56|\n",
      "|802.64|\n",
      "|811.74|\n",
      "|856.57|\n",
      "|834.64|\n",
      "+------+\n",
      "only showing top 20 rows\n",
      "\n"
     ]
    }
   ],
   "source": [
    "DF.show()"
   ]
  },
  {
   "cell_type": "code",
   "execution_count": 93,
   "metadata": {},
   "outputs": [
    {
     "ename": "Py4JJavaError",
     "evalue": "An error occurred while calling o307.load.\n: java.sql.SQLException: java.sql.SQLException: Parser Error: syntax error at or near \"\"la Dreta de l'Eixample\"\"\n\tat org.duckdb.DuckDBPreparedStatement.prepare(DuckDBPreparedStatement.java:122)\n\tat org.duckdb.DuckDBPreparedStatement.<init>(DuckDBPreparedStatement.java:76)\n\tat org.duckdb.DuckDBConnection.prepareStatement(DuckDBConnection.java:76)\n\tat org.duckdb.DuckDBConnection.prepareStatement(DuckDBConnection.java:188)\n\tat org.apache.spark.sql.execution.datasources.jdbc.JDBCRDD$.getQueryOutputSchema(JDBCRDD.scala:65)\n\tat org.apache.spark.sql.execution.datasources.jdbc.JDBCRDD$.resolveTable(JDBCRDD.scala:58)\n\tat org.apache.spark.sql.execution.datasources.jdbc.JDBCRelation$.getSchema(JDBCRelation.scala:241)\n\tat org.apache.spark.sql.execution.datasources.jdbc.JdbcRelationProvider.createRelation(JdbcRelationProvider.scala:37)\n\tat org.apache.spark.sql.execution.datasources.DataSource.resolveRelation(DataSource.scala:346)\n\tat org.apache.spark.sql.DataFrameReader.loadV1Source(DataFrameReader.scala:229)\n\tat org.apache.spark.sql.DataFrameReader.$anonfun$load$2(DataFrameReader.scala:211)\n\tat scala.Option.getOrElse(Option.scala:189)\n\tat org.apache.spark.sql.DataFrameReader.load(DataFrameReader.scala:211)\n\tat org.apache.spark.sql.DataFrameReader.load(DataFrameReader.scala:172)\n\tat sun.reflect.GeneratedMethodAccessor37.invoke(Unknown Source)\n\tat sun.reflect.DelegatingMethodAccessorImpl.invoke(DelegatingMethodAccessorImpl.java:43)\n\tat java.lang.reflect.Method.invoke(Method.java:498)\n\tat py4j.reflection.MethodInvoker.invoke(MethodInvoker.java:244)\n\tat py4j.reflection.ReflectionEngine.invoke(ReflectionEngine.java:374)\n\tat py4j.Gateway.invoke(Gateway.java:282)\n\tat py4j.commands.AbstractCommand.invokeMethod(AbstractCommand.java:132)\n\tat py4j.commands.CallCommand.execute(CallCommand.java:79)\n\tat py4j.ClientServerConnection.waitForCommands(ClientServerConnection.java:182)\n\tat py4j.ClientServerConnection.run(ClientServerConnection.java:106)\n\tat java.lang.Thread.run(Thread.java:750)\nCaused by: java.sql.SQLException: Parser Error: syntax error at or near \"\"la Dreta de l'Eixample\"\"\n\tat org.duckdb.DuckDBNative.duckdb_jdbc_prepare(Native Method)\n\tat org.duckdb.DuckDBPreparedStatement.prepare(DuckDBPreparedStatement.java:116)\n\t... 24 more\n",
     "output_type": "error",
     "traceback": [
      "\u001b[0;31m---------------------------------------------------------------------------\u001b[0m",
      "\u001b[0;31mPy4JJavaError\u001b[0m                             Traceback (most recent call last)",
      "Cell \u001b[0;32mIn [93], line 15\u001b[0m\n\u001b[1;32m      1\u001b[0m data \u001b[38;5;241m=\u001b[39m []\n\u001b[1;32m      3\u001b[0m \u001b[38;5;28;01mfor\u001b[39;00m barri \u001b[38;5;129;01min\u001b[39;00m barris:\n\u001b[1;32m      4\u001b[0m     DF \u001b[38;5;241m=\u001b[39m \u001b[43mspark\u001b[49m\u001b[38;5;241;43m.\u001b[39;49m\u001b[43mread\u001b[49m\u001b[43m \u001b[49m\u001b[43m\\\u001b[49m\n\u001b[1;32m      5\u001b[0m \u001b[43m        \u001b[49m\u001b[38;5;241;43m.\u001b[39;49m\u001b[43mformat\u001b[49m\u001b[43m(\u001b[49m\u001b[38;5;124;43m\"\u001b[39;49m\u001b[38;5;124;43mjdbc\u001b[39;49m\u001b[38;5;124;43m\"\u001b[39;49m\u001b[43m)\u001b[49m\u001b[43m \u001b[49m\u001b[43m\\\u001b[49m\n\u001b[1;32m      6\u001b[0m \u001b[43m        \u001b[49m\u001b[38;5;241;43m.\u001b[39;49m\u001b[43moption\u001b[49m\u001b[43m(\u001b[49m\u001b[38;5;124;43m\"\u001b[39;49m\u001b[38;5;124;43murl\u001b[39;49m\u001b[38;5;124;43m\"\u001b[39;49m\u001b[43m,\u001b[49m\u001b[43m \u001b[49m\u001b[38;5;124;43m\"\u001b[39;49m\u001b[38;5;124;43mjdbc:duckdb:trusted_zone/freshdata_trusted.db\u001b[39;49m\u001b[38;5;124;43m\"\u001b[39;49m\u001b[43m)\u001b[49m\u001b[43m \u001b[49m\u001b[43m\\\u001b[49m\n\u001b[1;32m      7\u001b[0m \u001b[43m        \u001b[49m\u001b[38;5;241;43m.\u001b[39;49m\u001b[43moption\u001b[49m\u001b[43m(\u001b[49m\u001b[38;5;124;43m\"\u001b[39;49m\u001b[38;5;124;43mdriver\u001b[39;49m\u001b[38;5;124;43m\"\u001b[39;49m\u001b[43m,\u001b[49m\u001b[43m \u001b[49m\u001b[38;5;124;43m\"\u001b[39;49m\u001b[38;5;124;43morg.duckdb.DuckDBDriver\u001b[39;49m\u001b[38;5;124;43m\"\u001b[39;49m\u001b[43m)\u001b[49m\u001b[43m \u001b[49m\u001b[43m\\\u001b[49m\n\u001b[1;32m      8\u001b[0m \u001b[43m        \u001b[49m\u001b[38;5;241;43m.\u001b[39;49m\u001b[43moption\u001b[49m\u001b[43m(\u001b[49m\u001b[38;5;124;43m\"\u001b[39;49m\u001b[38;5;124;43mquery\u001b[39;49m\u001b[38;5;124;43m\"\u001b[39;49m\u001b[43m,\u001b[49m\u001b[43m \u001b[49m\u001b[38;5;124;43mf\u001b[39;49m\u001b[38;5;124;43m'''\u001b[39;49m\n\u001b[1;32m      9\u001b[0m \u001b[38;5;124;43m            SELECT b.Price AS Price_\u001b[39;49m\u001b[38;5;124;43m\"\u001b[39;49m\u001b[38;5;132;43;01m{\u001b[39;49;00m\u001b[43mbarri\u001b[49m\u001b[38;5;132;43;01m}\u001b[39;49;00m\u001b[38;5;124;43m\"\u001b[39;49m\n\u001b[1;32m     10\u001b[0m \u001b[38;5;124;43m            FROM rent_price b \u001b[39;49m\n\u001b[1;32m     11\u001b[0m \u001b[38;5;124;43m            WHERE b.Neighbourhood = \u001b[39;49m\u001b[38;5;124;43m\"\u001b[39;49m\u001b[38;5;132;43;01m{\u001b[39;49;00m\u001b[43mbarri\u001b[49m\u001b[38;5;132;43;01m}\u001b[39;49;00m\u001b[38;5;124;43m\"\u001b[39;49m\n\u001b[1;32m     12\u001b[0m \u001b[38;5;124;43m            AND b.\u001b[39;49m\u001b[38;5;124;43m\"\u001b[39;49m\u001b[38;5;124;43mAverage _rent\u001b[39;49m\u001b[38;5;124;43m\"\u001b[39;49m\u001b[38;5;124;43m = \u001b[39;49m\u001b[38;5;124;43m'\u001b[39;49m\u001b[38;5;124;43maverage rent (euro/month)\u001b[39;49m\u001b[38;5;124;43m'\u001b[39;49m\n\u001b[1;32m     13\u001b[0m \u001b[38;5;124;43m            ORDER BY Year, Trimester\u001b[39;49m\n\u001b[1;32m     14\u001b[0m \u001b[38;5;124;43m        \u001b[39;49m\u001b[38;5;124;43m'''\u001b[39;49m\u001b[43m)\u001b[49m\u001b[43m \u001b[49m\u001b[43m\\\u001b[49m\n\u001b[0;32m---> 15\u001b[0m \u001b[43m        \u001b[49m\u001b[38;5;241;43m.\u001b[39;49m\u001b[43mload\u001b[49m\u001b[43m(\u001b[49m\u001b[43m)\u001b[49m\n\u001b[1;32m     16\u001b[0m     data\u001b[38;5;241m.\u001b[39mappend(DF)\n",
      "File \u001b[0;32m/Library/Frameworks/Python.framework/Versions/3.10/lib/python3.10/site-packages/pyspark/sql/readwriter.py:314\u001b[0m, in \u001b[0;36mDataFrameReader.load\u001b[0;34m(self, path, format, schema, **options)\u001b[0m\n\u001b[1;32m    312\u001b[0m     \u001b[38;5;28;01mreturn\u001b[39;00m \u001b[38;5;28mself\u001b[39m\u001b[38;5;241m.\u001b[39m_df(\u001b[38;5;28mself\u001b[39m\u001b[38;5;241m.\u001b[39m_jreader\u001b[38;5;241m.\u001b[39mload(\u001b[38;5;28mself\u001b[39m\u001b[38;5;241m.\u001b[39m_spark\u001b[38;5;241m.\u001b[39m_sc\u001b[38;5;241m.\u001b[39m_jvm\u001b[38;5;241m.\u001b[39mPythonUtils\u001b[38;5;241m.\u001b[39mtoSeq(path)))\n\u001b[1;32m    313\u001b[0m \u001b[38;5;28;01melse\u001b[39;00m:\n\u001b[0;32m--> 314\u001b[0m     \u001b[38;5;28;01mreturn\u001b[39;00m \u001b[38;5;28mself\u001b[39m\u001b[38;5;241m.\u001b[39m_df(\u001b[38;5;28;43mself\u001b[39;49m\u001b[38;5;241;43m.\u001b[39;49m\u001b[43m_jreader\u001b[49m\u001b[38;5;241;43m.\u001b[39;49m\u001b[43mload\u001b[49m\u001b[43m(\u001b[49m\u001b[43m)\u001b[49m)\n",
      "File \u001b[0;32m/Library/Frameworks/Python.framework/Versions/3.10/lib/python3.10/site-packages/py4j/java_gateway.py:1322\u001b[0m, in \u001b[0;36mJavaMember.__call__\u001b[0;34m(self, *args)\u001b[0m\n\u001b[1;32m   1316\u001b[0m command \u001b[38;5;241m=\u001b[39m proto\u001b[38;5;241m.\u001b[39mCALL_COMMAND_NAME \u001b[38;5;241m+\u001b[39m\\\n\u001b[1;32m   1317\u001b[0m     \u001b[38;5;28mself\u001b[39m\u001b[38;5;241m.\u001b[39mcommand_header \u001b[38;5;241m+\u001b[39m\\\n\u001b[1;32m   1318\u001b[0m     args_command \u001b[38;5;241m+\u001b[39m\\\n\u001b[1;32m   1319\u001b[0m     proto\u001b[38;5;241m.\u001b[39mEND_COMMAND_PART\n\u001b[1;32m   1321\u001b[0m answer \u001b[38;5;241m=\u001b[39m \u001b[38;5;28mself\u001b[39m\u001b[38;5;241m.\u001b[39mgateway_client\u001b[38;5;241m.\u001b[39msend_command(command)\n\u001b[0;32m-> 1322\u001b[0m return_value \u001b[38;5;241m=\u001b[39m \u001b[43mget_return_value\u001b[49m\u001b[43m(\u001b[49m\n\u001b[1;32m   1323\u001b[0m \u001b[43m    \u001b[49m\u001b[43manswer\u001b[49m\u001b[43m,\u001b[49m\u001b[43m \u001b[49m\u001b[38;5;28;43mself\u001b[39;49m\u001b[38;5;241;43m.\u001b[39;49m\u001b[43mgateway_client\u001b[49m\u001b[43m,\u001b[49m\u001b[43m \u001b[49m\u001b[38;5;28;43mself\u001b[39;49m\u001b[38;5;241;43m.\u001b[39;49m\u001b[43mtarget_id\u001b[49m\u001b[43m,\u001b[49m\u001b[43m \u001b[49m\u001b[38;5;28;43mself\u001b[39;49m\u001b[38;5;241;43m.\u001b[39;49m\u001b[43mname\u001b[49m\u001b[43m)\u001b[49m\n\u001b[1;32m   1325\u001b[0m \u001b[38;5;28;01mfor\u001b[39;00m temp_arg \u001b[38;5;129;01min\u001b[39;00m temp_args:\n\u001b[1;32m   1326\u001b[0m     \u001b[38;5;28;01mif\u001b[39;00m \u001b[38;5;28mhasattr\u001b[39m(temp_arg, \u001b[38;5;124m\"\u001b[39m\u001b[38;5;124m_detach\u001b[39m\u001b[38;5;124m\"\u001b[39m):\n",
      "File \u001b[0;32m/Library/Frameworks/Python.framework/Versions/3.10/lib/python3.10/site-packages/pyspark/errors/exceptions/captured.py:179\u001b[0m, in \u001b[0;36mcapture_sql_exception.<locals>.deco\u001b[0;34m(*a, **kw)\u001b[0m\n\u001b[1;32m    177\u001b[0m \u001b[38;5;28;01mdef\u001b[39;00m \u001b[38;5;21mdeco\u001b[39m(\u001b[38;5;241m*\u001b[39ma: Any, \u001b[38;5;241m*\u001b[39m\u001b[38;5;241m*\u001b[39mkw: Any) \u001b[38;5;241m-\u001b[39m\u001b[38;5;241m>\u001b[39m Any:\n\u001b[1;32m    178\u001b[0m     \u001b[38;5;28;01mtry\u001b[39;00m:\n\u001b[0;32m--> 179\u001b[0m         \u001b[38;5;28;01mreturn\u001b[39;00m \u001b[43mf\u001b[49m\u001b[43m(\u001b[49m\u001b[38;5;241;43m*\u001b[39;49m\u001b[43ma\u001b[49m\u001b[43m,\u001b[49m\u001b[43m \u001b[49m\u001b[38;5;241;43m*\u001b[39;49m\u001b[38;5;241;43m*\u001b[39;49m\u001b[43mkw\u001b[49m\u001b[43m)\u001b[49m\n\u001b[1;32m    180\u001b[0m     \u001b[38;5;28;01mexcept\u001b[39;00m Py4JJavaError \u001b[38;5;28;01mas\u001b[39;00m e:\n\u001b[1;32m    181\u001b[0m         converted \u001b[38;5;241m=\u001b[39m convert_exception(e\u001b[38;5;241m.\u001b[39mjava_exception)\n",
      "File \u001b[0;32m/Library/Frameworks/Python.framework/Versions/3.10/lib/python3.10/site-packages/py4j/protocol.py:326\u001b[0m, in \u001b[0;36mget_return_value\u001b[0;34m(answer, gateway_client, target_id, name)\u001b[0m\n\u001b[1;32m    324\u001b[0m value \u001b[38;5;241m=\u001b[39m OUTPUT_CONVERTER[\u001b[38;5;28mtype\u001b[39m](answer[\u001b[38;5;241m2\u001b[39m:], gateway_client)\n\u001b[1;32m    325\u001b[0m \u001b[38;5;28;01mif\u001b[39;00m answer[\u001b[38;5;241m1\u001b[39m] \u001b[38;5;241m==\u001b[39m REFERENCE_TYPE:\n\u001b[0;32m--> 326\u001b[0m     \u001b[38;5;28;01mraise\u001b[39;00m Py4JJavaError(\n\u001b[1;32m    327\u001b[0m         \u001b[38;5;124m\"\u001b[39m\u001b[38;5;124mAn error occurred while calling \u001b[39m\u001b[38;5;132;01m{0}\u001b[39;00m\u001b[38;5;132;01m{1}\u001b[39;00m\u001b[38;5;132;01m{2}\u001b[39;00m\u001b[38;5;124m.\u001b[39m\u001b[38;5;130;01m\\n\u001b[39;00m\u001b[38;5;124m\"\u001b[39m\u001b[38;5;241m.\u001b[39m\n\u001b[1;32m    328\u001b[0m         \u001b[38;5;28mformat\u001b[39m(target_id, \u001b[38;5;124m\"\u001b[39m\u001b[38;5;124m.\u001b[39m\u001b[38;5;124m\"\u001b[39m, name), value)\n\u001b[1;32m    329\u001b[0m \u001b[38;5;28;01melse\u001b[39;00m:\n\u001b[1;32m    330\u001b[0m     \u001b[38;5;28;01mraise\u001b[39;00m Py4JError(\n\u001b[1;32m    331\u001b[0m         \u001b[38;5;124m\"\u001b[39m\u001b[38;5;124mAn error occurred while calling \u001b[39m\u001b[38;5;132;01m{0}\u001b[39;00m\u001b[38;5;132;01m{1}\u001b[39;00m\u001b[38;5;132;01m{2}\u001b[39;00m\u001b[38;5;124m. Trace:\u001b[39m\u001b[38;5;130;01m\\n\u001b[39;00m\u001b[38;5;132;01m{3}\u001b[39;00m\u001b[38;5;130;01m\\n\u001b[39;00m\u001b[38;5;124m\"\u001b[39m\u001b[38;5;241m.\u001b[39m\n\u001b[1;32m    332\u001b[0m         \u001b[38;5;28mformat\u001b[39m(target_id, \u001b[38;5;124m\"\u001b[39m\u001b[38;5;124m.\u001b[39m\u001b[38;5;124m\"\u001b[39m, name, value))\n",
      "\u001b[0;31mPy4JJavaError\u001b[0m: An error occurred while calling o307.load.\n: java.sql.SQLException: java.sql.SQLException: Parser Error: syntax error at or near \"\"la Dreta de l'Eixample\"\"\n\tat org.duckdb.DuckDBPreparedStatement.prepare(DuckDBPreparedStatement.java:122)\n\tat org.duckdb.DuckDBPreparedStatement.<init>(DuckDBPreparedStatement.java:76)\n\tat org.duckdb.DuckDBConnection.prepareStatement(DuckDBConnection.java:76)\n\tat org.duckdb.DuckDBConnection.prepareStatement(DuckDBConnection.java:188)\n\tat org.apache.spark.sql.execution.datasources.jdbc.JDBCRDD$.getQueryOutputSchema(JDBCRDD.scala:65)\n\tat org.apache.spark.sql.execution.datasources.jdbc.JDBCRDD$.resolveTable(JDBCRDD.scala:58)\n\tat org.apache.spark.sql.execution.datasources.jdbc.JDBCRelation$.getSchema(JDBCRelation.scala:241)\n\tat org.apache.spark.sql.execution.datasources.jdbc.JdbcRelationProvider.createRelation(JdbcRelationProvider.scala:37)\n\tat org.apache.spark.sql.execution.datasources.DataSource.resolveRelation(DataSource.scala:346)\n\tat org.apache.spark.sql.DataFrameReader.loadV1Source(DataFrameReader.scala:229)\n\tat org.apache.spark.sql.DataFrameReader.$anonfun$load$2(DataFrameReader.scala:211)\n\tat scala.Option.getOrElse(Option.scala:189)\n\tat org.apache.spark.sql.DataFrameReader.load(DataFrameReader.scala:211)\n\tat org.apache.spark.sql.DataFrameReader.load(DataFrameReader.scala:172)\n\tat sun.reflect.GeneratedMethodAccessor37.invoke(Unknown Source)\n\tat sun.reflect.DelegatingMethodAccessorImpl.invoke(DelegatingMethodAccessorImpl.java:43)\n\tat java.lang.reflect.Method.invoke(Method.java:498)\n\tat py4j.reflection.MethodInvoker.invoke(MethodInvoker.java:244)\n\tat py4j.reflection.ReflectionEngine.invoke(ReflectionEngine.java:374)\n\tat py4j.Gateway.invoke(Gateway.java:282)\n\tat py4j.commands.AbstractCommand.invokeMethod(AbstractCommand.java:132)\n\tat py4j.commands.CallCommand.execute(CallCommand.java:79)\n\tat py4j.ClientServerConnection.waitForCommands(ClientServerConnection.java:182)\n\tat py4j.ClientServerConnection.run(ClientServerConnection.java:106)\n\tat java.lang.Thread.run(Thread.java:750)\nCaused by: java.sql.SQLException: Parser Error: syntax error at or near \"\"la Dreta de l'Eixample\"\"\n\tat org.duckdb.DuckDBNative.duckdb_jdbc_prepare(Native Method)\n\tat org.duckdb.DuckDBPreparedStatement.prepare(DuckDBPreparedStatement.java:116)\n\t... 24 more\n"
     ]
    }
   ],
   "source": [
    "data = []\n",
    "\n",
    "for barri in barris:\n",
    "    DF = spark.read \\\n",
    "        .format(\"jdbc\") \\\n",
    "        .option(\"url\", \"jdbc:duckdb:trusted_zone/freshdata_trusted.db\") \\\n",
    "        .option(\"driver\", \"org.duckdb.DuckDBDriver\") \\\n",
    "        .option(\"query\", f'''\n",
    "            SELECT b.Price AS Price_\"{barri}\"\n",
    "            FROM rent_price b \n",
    "            WHERE b.Neighbourhood = \"{barri}\"\n",
    "            AND b.\"Average _rent\" = 'average rent (euro/month)'\n",
    "            ORDER BY Year, Trimester\n",
    "        ''') \\\n",
    "        .load()\n",
    "    data.append(DF)"
   ]
  },
  {
   "cell_type": "code",
   "execution_count": 4,
   "metadata": {},
   "outputs": [],
   "source": [
    "barris = [i[0] for i in barris.collect()]"
   ]
  },
  {
   "cell_type": "code",
   "execution_count": 5,
   "metadata": {},
   "outputs": [
    {
     "data": {
      "text/plain": [
       "['Gothic_Quarter',\n",
       " 'Sants_-_Badal',\n",
       " 'les_Corts',\n",
       " 'Sarria',\n",
       " 'Sant_Gervasi_-_la_Bonanova',\n",
       " 'Can_Baro',\n",
       " 'la_Teixonera',\n",
       " 'el_Turo_de_la_Peira',\n",
       " 'Navas',\n",
       " 'el_Besos_i_el_Maresme',\n",
       " 'la_Verneda_i_la_Pau',\n",
       " 'Baro_de_Viver',\n",
       " 'la_Sagrada_Familia',\n",
       " 'la_Nova_Esquerra_de_l_Eixample',\n",
       " 'el_Poble_Sec',\n",
       " 'Vallcarca_i_els_Penitents',\n",
       " 'Montbau',\n",
       " 'Vilapicina_i_la_Torre_Llobeta',\n",
       " 'la_Prosperitat',\n",
       " 'Ciutat_Meridiana',\n",
       " 'el_Poblenou',\n",
       " 'Vallbona',\n",
       " 'Sant_Pere__Santa_Caterina_i_la_Ribera',\n",
       " 'l_Antiga_Esquerra_de_l_Eixample',\n",
       " 'Sants',\n",
       " 'Pedralbes',\n",
       " 'el_Carmel',\n",
       " 'la_Trinitat_Vella',\n",
       " 'el_Congres_i_els_Indians',\n",
       " 'el_Clot',\n",
       " 'Sagrada_Familia',\n",
       " 'Sant_Antoni',\n",
       " 'la_Maternitat_i_Sant_Ramon',\n",
       " 'Vallvidrera__el_Tibidabo_i_les_Planes',\n",
       " 'el_Putxet_i_el_Farro',\n",
       " 'la_Font_d_en_Fargues',\n",
       " 'la_Vall_d_Hebron',\n",
       " 'Can_Peguera',\n",
       " 'Canyelles',\n",
       " 'Verdun',\n",
       " 'el_Parc_i_la_Llacuna_del_Poblenou',\n",
       " 'Diagonal_Mar_i_el_Front_Maritim_del_Poblenou',\n",
       " 'Provencals_del_Poblenou',\n",
       " 'Sant_Marti_de_Provencals',\n",
       " 'la_Marina_del_Prat_Vermell',\n",
       " 'Sant_Martíide_Provencals',\n",
       " 'la_Marina_de_Port',\n",
       " 'Hostafrancs',\n",
       " 'Horta',\n",
       " 'la_Trinitat_Nova',\n",
       " 'el_Camp_de_l_Arpa_del_Clot',\n",
       " 'Torre_Baro',\n",
       " 'la_Barceloneta',\n",
       " 'la_Bordeta',\n",
       " 'la_Salut',\n",
       " 'el_Baix_Guinardo',\n",
       " 'Porta',\n",
       " 'les_Roquetes',\n",
       " 'el_Bon_Pastor',\n",
       " 'la_Vila_Olimpica_del_Poblenou',\n",
       " 'el_Raval',\n",
       " 'Fort_Pienc',\n",
       " 'la_Dreta_de_l_Eixample',\n",
       " 'les_Tres_Torres',\n",
       " 'Sant_Gervasi_-_Galvany',\n",
       " 'la_Guineueta',\n",
       " 'la_Font_de_la_Guatlla',\n",
       " 'el_Coll',\n",
       " 'la_Vila_de_Gracia',\n",
       " 'el_Camp_d_en_Grassot_i_Gracia_Nova',\n",
       " 'el_Guinardo',\n",
       " 'Sant_Genis_dels_Agudells',\n",
       " 'Sant_Andreu',\n",
       " 'la_Sagrera',\n",
       " 'la_Clota']"
      ]
     },
     "execution_count": 5,
     "metadata": {},
     "output_type": "execute_result"
    }
   ],
   "source": [
    "barris"
   ]
  },
  {
   "cell_type": "code",
   "execution_count": 83,
   "metadata": {},
   "outputs": [],
   "source": [
    "columnas_sql = ', '.join([\n",
    "    f\"MAX(CASE WHEN b.Neighbourhood = '{barrio}' THEN b.Price ELSE NULL END) AS \\\"{barrio}_Price\\\"\"\n",
    "    for barrio in barris\n",
    "])\n",
    "\n",
    "# Consulta SQL completa\n",
    "sql_query = f\"\"\"\n",
    "    SELECT {columnas_sql}\n",
    "    FROM rent_price b\n",
    "    WHERE b.\"Average_rent\" = 'average rent (euro/month)'\n",
    "    GROUP BY b.Year, b.Trimester\n",
    "    ORDER BY b.Year, b.Trimester;\n",
    "    \"\"\"\n"
   ]
  },
  {
   "cell_type": "code",
   "execution_count": 86,
   "metadata": {},
   "outputs": [
    {
     "data": {
      "text/plain": [
       "'\\n'"
      ]
     },
     "execution_count": 86,
     "metadata": {},
     "output_type": "execute_result"
    }
   ],
   "source": [
    "sql_query[0]"
   ]
  },
  {
   "cell_type": "code",
   "execution_count": 80,
   "metadata": {},
   "outputs": [
    {
     "ename": "Py4JJavaError",
     "evalue": "An error occurred while calling o272.load.\n: java.sql.SQLException: java.sql.SQLException: Parser Error: syntax error at or near \"Eixample\"\n\tat org.duckdb.DuckDBPreparedStatement.prepare(DuckDBPreparedStatement.java:122)\n\tat org.duckdb.DuckDBPreparedStatement.<init>(DuckDBPreparedStatement.java:76)\n\tat org.duckdb.DuckDBConnection.prepareStatement(DuckDBConnection.java:76)\n\tat org.duckdb.DuckDBConnection.prepareStatement(DuckDBConnection.java:188)\n\tat org.apache.spark.sql.execution.datasources.jdbc.JDBCRDD$.getQueryOutputSchema(JDBCRDD.scala:65)\n\tat org.apache.spark.sql.execution.datasources.jdbc.JDBCRDD$.resolveTable(JDBCRDD.scala:58)\n\tat org.apache.spark.sql.execution.datasources.jdbc.JDBCRelation$.getSchema(JDBCRelation.scala:241)\n\tat org.apache.spark.sql.execution.datasources.jdbc.JdbcRelationProvider.createRelation(JdbcRelationProvider.scala:37)\n\tat org.apache.spark.sql.execution.datasources.DataSource.resolveRelation(DataSource.scala:346)\n\tat org.apache.spark.sql.DataFrameReader.loadV1Source(DataFrameReader.scala:229)\n\tat org.apache.spark.sql.DataFrameReader.$anonfun$load$2(DataFrameReader.scala:211)\n\tat scala.Option.getOrElse(Option.scala:189)\n\tat org.apache.spark.sql.DataFrameReader.load(DataFrameReader.scala:211)\n\tat org.apache.spark.sql.DataFrameReader.load(DataFrameReader.scala:172)\n\tat sun.reflect.GeneratedMethodAccessor37.invoke(Unknown Source)\n\tat sun.reflect.DelegatingMethodAccessorImpl.invoke(DelegatingMethodAccessorImpl.java:43)\n\tat java.lang.reflect.Method.invoke(Method.java:498)\n\tat py4j.reflection.MethodInvoker.invoke(MethodInvoker.java:244)\n\tat py4j.reflection.ReflectionEngine.invoke(ReflectionEngine.java:374)\n\tat py4j.Gateway.invoke(Gateway.java:282)\n\tat py4j.commands.AbstractCommand.invokeMethod(AbstractCommand.java:132)\n\tat py4j.commands.CallCommand.execute(CallCommand.java:79)\n\tat py4j.ClientServerConnection.waitForCommands(ClientServerConnection.java:182)\n\tat py4j.ClientServerConnection.run(ClientServerConnection.java:106)\n\tat java.lang.Thread.run(Thread.java:750)\nCaused by: java.sql.SQLException: Parser Error: syntax error at or near \"Eixample\"\n\tat org.duckdb.DuckDBNative.duckdb_jdbc_prepare(Native Method)\n\tat org.duckdb.DuckDBPreparedStatement.prepare(DuckDBPreparedStatement.java:116)\n\t... 24 more\n",
     "output_type": "error",
     "traceback": [
      "\u001b[0;31m---------------------------------------------------------------------------\u001b[0m",
      "\u001b[0;31mPy4JJavaError\u001b[0m                             Traceback (most recent call last)",
      "Cell \u001b[0;32mIn [80], line 6\u001b[0m\n\u001b[1;32m      1\u001b[0m DF \u001b[38;5;241m=\u001b[39m \u001b[43mspark\u001b[49m\u001b[38;5;241;43m.\u001b[39;49m\u001b[43mread\u001b[49m\u001b[43m \u001b[49m\u001b[43m\\\u001b[49m\n\u001b[1;32m      2\u001b[0m \u001b[43m    \u001b[49m\u001b[38;5;241;43m.\u001b[39;49m\u001b[43mformat\u001b[49m\u001b[43m(\u001b[49m\u001b[38;5;124;43m\"\u001b[39;49m\u001b[38;5;124;43mjdbc\u001b[39;49m\u001b[38;5;124;43m\"\u001b[39;49m\u001b[43m)\u001b[49m\u001b[43m \u001b[49m\u001b[43m\\\u001b[49m\n\u001b[1;32m      3\u001b[0m \u001b[43m    \u001b[49m\u001b[38;5;241;43m.\u001b[39;49m\u001b[43moption\u001b[49m\u001b[43m(\u001b[49m\u001b[38;5;124;43m\"\u001b[39;49m\u001b[38;5;124;43murl\u001b[39;49m\u001b[38;5;124;43m\"\u001b[39;49m\u001b[43m,\u001b[49m\u001b[43m \u001b[49m\u001b[38;5;124;43m\"\u001b[39;49m\u001b[38;5;124;43mjdbc:duckdb:trusted_zone/freshdata_trusted.db\u001b[39;49m\u001b[38;5;124;43m\"\u001b[39;49m\u001b[43m)\u001b[49m\u001b[43m \u001b[49m\u001b[43m\\\u001b[49m\n\u001b[1;32m      4\u001b[0m \u001b[43m    \u001b[49m\u001b[38;5;241;43m.\u001b[39;49m\u001b[43moption\u001b[49m\u001b[43m(\u001b[49m\u001b[38;5;124;43m\"\u001b[39;49m\u001b[38;5;124;43mdriver\u001b[39;49m\u001b[38;5;124;43m\"\u001b[39;49m\u001b[43m,\u001b[49m\u001b[43m \u001b[49m\u001b[38;5;124;43m\"\u001b[39;49m\u001b[38;5;124;43morg.duckdb.DuckDBDriver\u001b[39;49m\u001b[38;5;124;43m\"\u001b[39;49m\u001b[43m)\u001b[49m\u001b[43m \u001b[49m\u001b[43m\\\u001b[49m\n\u001b[1;32m      5\u001b[0m \u001b[43m    \u001b[49m\u001b[38;5;241;43m.\u001b[39;49m\u001b[43moption\u001b[49m\u001b[43m(\u001b[49m\u001b[38;5;124;43m\"\u001b[39;49m\u001b[38;5;124;43mquery\u001b[39;49m\u001b[38;5;124;43m\"\u001b[39;49m\u001b[43m,\u001b[49m\u001b[43m \u001b[49m\u001b[43msql_query\u001b[49m\u001b[43m)\u001b[49m\u001b[43m \u001b[49m\u001b[43m\\\u001b[49m\n\u001b[0;32m----> 6\u001b[0m \u001b[43m    \u001b[49m\u001b[38;5;241;43m.\u001b[39;49m\u001b[43mload\u001b[49m\u001b[43m(\u001b[49m\u001b[43m)\u001b[49m\n",
      "File \u001b[0;32m/Library/Frameworks/Python.framework/Versions/3.10/lib/python3.10/site-packages/pyspark/sql/readwriter.py:314\u001b[0m, in \u001b[0;36mDataFrameReader.load\u001b[0;34m(self, path, format, schema, **options)\u001b[0m\n\u001b[1;32m    312\u001b[0m     \u001b[38;5;28;01mreturn\u001b[39;00m \u001b[38;5;28mself\u001b[39m\u001b[38;5;241m.\u001b[39m_df(\u001b[38;5;28mself\u001b[39m\u001b[38;5;241m.\u001b[39m_jreader\u001b[38;5;241m.\u001b[39mload(\u001b[38;5;28mself\u001b[39m\u001b[38;5;241m.\u001b[39m_spark\u001b[38;5;241m.\u001b[39m_sc\u001b[38;5;241m.\u001b[39m_jvm\u001b[38;5;241m.\u001b[39mPythonUtils\u001b[38;5;241m.\u001b[39mtoSeq(path)))\n\u001b[1;32m    313\u001b[0m \u001b[38;5;28;01melse\u001b[39;00m:\n\u001b[0;32m--> 314\u001b[0m     \u001b[38;5;28;01mreturn\u001b[39;00m \u001b[38;5;28mself\u001b[39m\u001b[38;5;241m.\u001b[39m_df(\u001b[38;5;28;43mself\u001b[39;49m\u001b[38;5;241;43m.\u001b[39;49m\u001b[43m_jreader\u001b[49m\u001b[38;5;241;43m.\u001b[39;49m\u001b[43mload\u001b[49m\u001b[43m(\u001b[49m\u001b[43m)\u001b[49m)\n",
      "File \u001b[0;32m/Library/Frameworks/Python.framework/Versions/3.10/lib/python3.10/site-packages/py4j/java_gateway.py:1322\u001b[0m, in \u001b[0;36mJavaMember.__call__\u001b[0;34m(self, *args)\u001b[0m\n\u001b[1;32m   1316\u001b[0m command \u001b[38;5;241m=\u001b[39m proto\u001b[38;5;241m.\u001b[39mCALL_COMMAND_NAME \u001b[38;5;241m+\u001b[39m\\\n\u001b[1;32m   1317\u001b[0m     \u001b[38;5;28mself\u001b[39m\u001b[38;5;241m.\u001b[39mcommand_header \u001b[38;5;241m+\u001b[39m\\\n\u001b[1;32m   1318\u001b[0m     args_command \u001b[38;5;241m+\u001b[39m\\\n\u001b[1;32m   1319\u001b[0m     proto\u001b[38;5;241m.\u001b[39mEND_COMMAND_PART\n\u001b[1;32m   1321\u001b[0m answer \u001b[38;5;241m=\u001b[39m \u001b[38;5;28mself\u001b[39m\u001b[38;5;241m.\u001b[39mgateway_client\u001b[38;5;241m.\u001b[39msend_command(command)\n\u001b[0;32m-> 1322\u001b[0m return_value \u001b[38;5;241m=\u001b[39m \u001b[43mget_return_value\u001b[49m\u001b[43m(\u001b[49m\n\u001b[1;32m   1323\u001b[0m \u001b[43m    \u001b[49m\u001b[43manswer\u001b[49m\u001b[43m,\u001b[49m\u001b[43m \u001b[49m\u001b[38;5;28;43mself\u001b[39;49m\u001b[38;5;241;43m.\u001b[39;49m\u001b[43mgateway_client\u001b[49m\u001b[43m,\u001b[49m\u001b[43m \u001b[49m\u001b[38;5;28;43mself\u001b[39;49m\u001b[38;5;241;43m.\u001b[39;49m\u001b[43mtarget_id\u001b[49m\u001b[43m,\u001b[49m\u001b[43m \u001b[49m\u001b[38;5;28;43mself\u001b[39;49m\u001b[38;5;241;43m.\u001b[39;49m\u001b[43mname\u001b[49m\u001b[43m)\u001b[49m\n\u001b[1;32m   1325\u001b[0m \u001b[38;5;28;01mfor\u001b[39;00m temp_arg \u001b[38;5;129;01min\u001b[39;00m temp_args:\n\u001b[1;32m   1326\u001b[0m     \u001b[38;5;28;01mif\u001b[39;00m \u001b[38;5;28mhasattr\u001b[39m(temp_arg, \u001b[38;5;124m\"\u001b[39m\u001b[38;5;124m_detach\u001b[39m\u001b[38;5;124m\"\u001b[39m):\n",
      "File \u001b[0;32m/Library/Frameworks/Python.framework/Versions/3.10/lib/python3.10/site-packages/pyspark/errors/exceptions/captured.py:179\u001b[0m, in \u001b[0;36mcapture_sql_exception.<locals>.deco\u001b[0;34m(*a, **kw)\u001b[0m\n\u001b[1;32m    177\u001b[0m \u001b[38;5;28;01mdef\u001b[39;00m \u001b[38;5;21mdeco\u001b[39m(\u001b[38;5;241m*\u001b[39ma: Any, \u001b[38;5;241m*\u001b[39m\u001b[38;5;241m*\u001b[39mkw: Any) \u001b[38;5;241m-\u001b[39m\u001b[38;5;241m>\u001b[39m Any:\n\u001b[1;32m    178\u001b[0m     \u001b[38;5;28;01mtry\u001b[39;00m:\n\u001b[0;32m--> 179\u001b[0m         \u001b[38;5;28;01mreturn\u001b[39;00m \u001b[43mf\u001b[49m\u001b[43m(\u001b[49m\u001b[38;5;241;43m*\u001b[39;49m\u001b[43ma\u001b[49m\u001b[43m,\u001b[49m\u001b[43m \u001b[49m\u001b[38;5;241;43m*\u001b[39;49m\u001b[38;5;241;43m*\u001b[39;49m\u001b[43mkw\u001b[49m\u001b[43m)\u001b[49m\n\u001b[1;32m    180\u001b[0m     \u001b[38;5;28;01mexcept\u001b[39;00m Py4JJavaError \u001b[38;5;28;01mas\u001b[39;00m e:\n\u001b[1;32m    181\u001b[0m         converted \u001b[38;5;241m=\u001b[39m convert_exception(e\u001b[38;5;241m.\u001b[39mjava_exception)\n",
      "File \u001b[0;32m/Library/Frameworks/Python.framework/Versions/3.10/lib/python3.10/site-packages/py4j/protocol.py:326\u001b[0m, in \u001b[0;36mget_return_value\u001b[0;34m(answer, gateway_client, target_id, name)\u001b[0m\n\u001b[1;32m    324\u001b[0m value \u001b[38;5;241m=\u001b[39m OUTPUT_CONVERTER[\u001b[38;5;28mtype\u001b[39m](answer[\u001b[38;5;241m2\u001b[39m:], gateway_client)\n\u001b[1;32m    325\u001b[0m \u001b[38;5;28;01mif\u001b[39;00m answer[\u001b[38;5;241m1\u001b[39m] \u001b[38;5;241m==\u001b[39m REFERENCE_TYPE:\n\u001b[0;32m--> 326\u001b[0m     \u001b[38;5;28;01mraise\u001b[39;00m Py4JJavaError(\n\u001b[1;32m    327\u001b[0m         \u001b[38;5;124m\"\u001b[39m\u001b[38;5;124mAn error occurred while calling \u001b[39m\u001b[38;5;132;01m{0}\u001b[39;00m\u001b[38;5;132;01m{1}\u001b[39;00m\u001b[38;5;132;01m{2}\u001b[39;00m\u001b[38;5;124m.\u001b[39m\u001b[38;5;130;01m\\n\u001b[39;00m\u001b[38;5;124m\"\u001b[39m\u001b[38;5;241m.\u001b[39m\n\u001b[1;32m    328\u001b[0m         \u001b[38;5;28mformat\u001b[39m(target_id, \u001b[38;5;124m\"\u001b[39m\u001b[38;5;124m.\u001b[39m\u001b[38;5;124m\"\u001b[39m, name), value)\n\u001b[1;32m    329\u001b[0m \u001b[38;5;28;01melse\u001b[39;00m:\n\u001b[1;32m    330\u001b[0m     \u001b[38;5;28;01mraise\u001b[39;00m Py4JError(\n\u001b[1;32m    331\u001b[0m         \u001b[38;5;124m\"\u001b[39m\u001b[38;5;124mAn error occurred while calling \u001b[39m\u001b[38;5;132;01m{0}\u001b[39;00m\u001b[38;5;132;01m{1}\u001b[39;00m\u001b[38;5;132;01m{2}\u001b[39;00m\u001b[38;5;124m. Trace:\u001b[39m\u001b[38;5;130;01m\\n\u001b[39;00m\u001b[38;5;132;01m{3}\u001b[39;00m\u001b[38;5;130;01m\\n\u001b[39;00m\u001b[38;5;124m\"\u001b[39m\u001b[38;5;241m.\u001b[39m\n\u001b[1;32m    332\u001b[0m         \u001b[38;5;28mformat\u001b[39m(target_id, \u001b[38;5;124m\"\u001b[39m\u001b[38;5;124m.\u001b[39m\u001b[38;5;124m\"\u001b[39m, name, value))\n",
      "\u001b[0;31mPy4JJavaError\u001b[0m: An error occurred while calling o272.load.\n: java.sql.SQLException: java.sql.SQLException: Parser Error: syntax error at or near \"Eixample\"\n\tat org.duckdb.DuckDBPreparedStatement.prepare(DuckDBPreparedStatement.java:122)\n\tat org.duckdb.DuckDBPreparedStatement.<init>(DuckDBPreparedStatement.java:76)\n\tat org.duckdb.DuckDBConnection.prepareStatement(DuckDBConnection.java:76)\n\tat org.duckdb.DuckDBConnection.prepareStatement(DuckDBConnection.java:188)\n\tat org.apache.spark.sql.execution.datasources.jdbc.JDBCRDD$.getQueryOutputSchema(JDBCRDD.scala:65)\n\tat org.apache.spark.sql.execution.datasources.jdbc.JDBCRDD$.resolveTable(JDBCRDD.scala:58)\n\tat org.apache.spark.sql.execution.datasources.jdbc.JDBCRelation$.getSchema(JDBCRelation.scala:241)\n\tat org.apache.spark.sql.execution.datasources.jdbc.JdbcRelationProvider.createRelation(JdbcRelationProvider.scala:37)\n\tat org.apache.spark.sql.execution.datasources.DataSource.resolveRelation(DataSource.scala:346)\n\tat org.apache.spark.sql.DataFrameReader.loadV1Source(DataFrameReader.scala:229)\n\tat org.apache.spark.sql.DataFrameReader.$anonfun$load$2(DataFrameReader.scala:211)\n\tat scala.Option.getOrElse(Option.scala:189)\n\tat org.apache.spark.sql.DataFrameReader.load(DataFrameReader.scala:211)\n\tat org.apache.spark.sql.DataFrameReader.load(DataFrameReader.scala:172)\n\tat sun.reflect.GeneratedMethodAccessor37.invoke(Unknown Source)\n\tat sun.reflect.DelegatingMethodAccessorImpl.invoke(DelegatingMethodAccessorImpl.java:43)\n\tat java.lang.reflect.Method.invoke(Method.java:498)\n\tat py4j.reflection.MethodInvoker.invoke(MethodInvoker.java:244)\n\tat py4j.reflection.ReflectionEngine.invoke(ReflectionEngine.java:374)\n\tat py4j.Gateway.invoke(Gateway.java:282)\n\tat py4j.commands.AbstractCommand.invokeMethod(AbstractCommand.java:132)\n\tat py4j.commands.CallCommand.execute(CallCommand.java:79)\n\tat py4j.ClientServerConnection.waitForCommands(ClientServerConnection.java:182)\n\tat py4j.ClientServerConnection.run(ClientServerConnection.java:106)\n\tat java.lang.Thread.run(Thread.java:750)\nCaused by: java.sql.SQLException: Parser Error: syntax error at or near \"Eixample\"\n\tat org.duckdb.DuckDBNative.duckdb_jdbc_prepare(Native Method)\n\tat org.duckdb.DuckDBPreparedStatement.prepare(DuckDBPreparedStatement.java:116)\n\t... 24 more\n"
     ]
    }
   ],
   "source": [
    "DF = spark.read \\\n",
    "    .format(\"jdbc\") \\\n",
    "    .option(\"url\", \"jdbc:duckdb:trusted_zone/freshdata_trusted.db\") \\\n",
    "    .option(\"driver\", \"org.duckdb.DuckDBDriver\") \\\n",
    "    .option(\"query\", sql_query) \\\n",
    "    .load()"
   ]
  },
  {
   "cell_type": "code",
   "execution_count": 43,
   "metadata": {},
   "outputs": [],
   "source": [
    "data = [i[0] for i in DF.collect()]"
   ]
  },
  {
   "cell_type": "code",
   "execution_count": 45,
   "metadata": {},
   "outputs": [
    {
     "name": "stdout",
     "output_type": "stream",
     "text": [
      "Performing stepwise search to minimize aic\n",
      " ARIMA(0,1,0)(0,0,0)[0] intercept   : AIC=276.856, Time=0.01 sec\n",
      " ARIMA(1,1,0)(0,0,0)[0] intercept   : AIC=277.721, Time=0.01 sec\n",
      " ARIMA(0,1,1)(0,0,0)[0] intercept   : AIC=277.499, Time=0.01 sec\n",
      " ARIMA(0,1,0)(0,0,0)[0]             : AIC=276.914, Time=0.00 sec\n",
      " ARIMA(1,1,1)(0,0,0)[0] intercept   : AIC=279.497, Time=0.01 sec\n",
      "\n",
      "Best model:  ARIMA(0,1,0)(0,0,0)[0] intercept\n",
      "Total fit time: 0.052 seconds\n",
      "Predicción del siguiente valor: 822.65\n",
      "Error RMSE en conjunto de prueba: 22.70\n"
     ]
    },
    {
     "data": {
      "image/png": "[encoded data removed]",
      "text/plain": [
       "<Figure size 1000x600 with 1 Axes>"
      ]
     },
     "metadata": {},
     "output_type": "display_data"
    }
   ],
   "source": [
    "import pandas as pd\n",
    "import numpy as np\n",
    "import matplotlib.pyplot as plt\n",
    "from pmdarima.arima import auto_arima\n",
    "from sklearn.metrics import mean_squared_error\n",
    "\n",
    "# Datos de la serie temporal (números del 1 al 10)\n",
    "\n",
    "\n",
    "# Dividir datos en entrenamiento y prueba\n",
    "train_size = int(len(data) * 0.9)  # Usaremos el 70% de los datos como entrenamiento\n",
    "train, test = data[:train_size], data[train_size:]\n",
    "\n",
    "# Configurar y ajustar el modelo ARIMA automáticamente\n",
    "model = auto_arima(train, start_p=0, start_q=0, max_p=3, max_q=3, seasonal=False, trace=True)\n",
    "model.fit(train)\n",
    "\n",
    "# Hacer predicciones\n",
    "predictions = model.predict(n_periods=len(test))\n",
    "\n",
    "# Calcular el error\n",
    "error = np.sqrt(mean_squared_error(test, predictions))\n",
    "\n",
    "print(f'Predicción del siguiente valor: {model.predict(n_periods=1)[0]:.2f}')\n",
    "print(f'Error RMSE en conjunto de prueba: {error:.2f}')\n",
    "\n",
    "# Visualizar resultados\n",
    "plt.figure(figsize=(10, 6))\n",
    "plt.plot(data, label='Serie Original')\n",
    "plt.plot(np.arange(train_size, len(data)), predictions, label='Predicciones', linestyle='--')\n",
    "plt.title(f'AutoARIMA Prediction (RMSE={error:.2f})')\n",
    "plt.xlabel('Índice de Tiempo')\n",
    "plt.ylabel('Valor')\n",
    "plt.legend()\n",
    "plt.show()\n"
   ]
  },
  {
   "cell_type": "code",
   "execution_count": 38,
   "metadata": {},
   "outputs": [
    {
     "name": "stderr",
     "output_type": "stream",
     "text": [
      "WARNING: Please set an user agent if you interact with a Wikibase instance from the Wikimedia Foundation.\n",
      "More information in the README.md and https://meta.wikimedia.org/wiki/User-Agent_policy\n"
     ]
    },
    {
     "name": "stdout",
     "output_type": "stream",
     "text": [
      "['Q77455', 'Q1332724', 'Q2659453', 'Q298184', 'Q21191278', 'Q42411500', 'Q50415672', 'Q8964811', 'Q87619978', 'Q81286896', 'Q5883909', 'Q21191301', 'Q29973236', 'Q949186', 'Q12484448', 'Q23409545', 'Q51164287', 'Q17278972', 'Q1541089', 'Q4263705', 'Q100406802', 'Q3113033', 'Q9275303', 'Q5815276', 'Q5883906', 'Q114407253', 'Q91624405', 'Q79815742', 'Q105974299', 'Q82573131', 'Q75977148', 'Q1107779', 'Q10999642', 'Q5591490', 'Q87833261', 'Q56879336', 'Q99480594', 'Q90582084', 'Q44604015', 'Q28008877', 'Q11924793', 'Q17411336', 'Q3113031', 'Q1541099', 'Q99455491', 'Q10290814', 'Q1541090', 'Q113330531', 'Q75370901', 'Q104678736']\n",
      "Q77455\n"
     ]
    },
    {
     "name": "stderr",
     "output_type": "stream",
     "text": [
      "WARNING: Please set an user agent if you interact with a Wikibase instance from the Wikimedia Foundation.\n",
      "More information in the README.md and https://meta.wikimedia.org/wiki/User-Agent_policy\n"
     ]
    },
    {
     "name": "stdout",
     "output_type": "stream",
     "text": [
      "Gracia Baur\n",
      "['Q64124', 'Q3392791', 'Q66986999', 'Q4889303', 'Q108732146', 'Q47189057', 'Q17600426', 'Q11918160', 'Q19256539', 'Q67131254', 'Q115981143', 'Q11918158', 'Q1904302', 'Q20099098', 'Q3847485', 'Q3321844', 'Q11920733', 'Q68981546', 'Q55279282', 'Q5834070', 'Q8776333', 'Q5482860', 'Q8776339', 'Q67150494', 'Q8776336', 'Q5820524', 'Q111261074', 'Q69074307', 'Q69074141', 'Q17600429']\n",
      "Q64124\n"
     ]
    },
    {
     "name": "stderr",
     "output_type": "stream",
     "text": [
      "WARNING: Please set an user agent if you interact with a Wikibase instance from the Wikimedia Foundation.\n",
      "More information in the README.md and https://meta.wikimedia.org/wiki/User-Agent_policy\n"
     ]
    },
    {
     "name": "stdout",
     "output_type": "stream",
     "text": [
      "Eixample\n"
     ]
    },
    {
     "name": "stderr",
     "output_type": "stream",
     "text": [
      "WARNING: Please set an user agent if you interact with a Wikibase instance from the Wikimedia Foundation.\n",
      "More information in the README.md and https://meta.wikimedia.org/wiki/User-Agent_policy\n"
     ]
    },
    {
     "name": "stdout",
     "output_type": "stream",
     "text": [
      "None\n",
      "['Q1650230', 'Q2536679', 'Q20901382', 'Q18696827', 'Q99497873', 'Q23499070', 'Q11946896', 'Q67148832', 'Q18006589', 'Q18009255', 'Q107564263', 'Q18006588', 'Q73377806', 'Q107194046', 'Q106018731', 'Q107339929', 'Q107287161', 'Q107194053', 'Q109319784', 'Q107521775', 'Q12093', 'Q15634', 'Q13449', 'Q1086060', 'Q1085994', 'Q990510', 'Q13415262', 'Q7419074', 'Q13422369', 'Q4890579', 'Q21077402', 'Q11946913', 'Q18006599', 'Q18006598', 'Q11946909', 'Q11682874', 'Q19255339', 'Q18006614', 'Q6021306', 'Q5811797', 'Q10969861', 'Q21994878', 'Q449354', 'Q18006594', 'Q18006592', 'Q28711077', 'Q11946897', 'Q46464896', 'Q19255340', 'Q18006620']\n",
      "Q1650230\n"
     ]
    },
    {
     "name": "stderr",
     "output_type": "stream",
     "text": [
      "WARNING: Please set an user agent if you interact with a Wikibase instance from the Wikimedia Foundation.\n",
      "More information in the README.md and https://meta.wikimedia.org/wiki/User-Agent_policy\n"
     ]
    },
    {
     "name": "stdout",
     "output_type": "stream",
     "text": [
      "Sant Andreu\n",
      "['Q250935', 'Q2028238', 'Q593512', 'Q13452', 'Q375283', 'Q15966', 'Q13823', 'Q1089751', 'Q13458', 'Q1905529', 'Q13822', 'Q15964', 'Q18007032', 'Q20888340', 'Q23992390', 'Q18007041', 'Q73261439', 'Q20680172', 'Q18007075', 'Q20888339', 'Q11947191', 'Q475514', 'Q110061909', 'Q67150558', 'Q115995872', 'Q1017165', 'Q863574', 'Q623930', 'Q1016772', 'Q266217', 'Q468062', 'Q1469382', 'Q3773169', 'Q46125652', 'Q1106404', 'Q17184251', 'Q17184252', 'Q9073972', 'Q11947206', 'Q10971282', 'Q11031846', 'Q6381823', 'Q9073596', 'Q9333718', 'Q11682854', 'Q8841793', 'Q945571', 'Q9073592', 'Q21815385', 'Q18007065']\n",
      "Q250935\n"
     ]
    },
    {
     "name": "stderr",
     "output_type": "stream",
     "text": [
      "WARNING: Please set an user agent if you interact with a Wikibase instance from the Wikimedia Foundation.\n",
      "More information in the README.md and https://meta.wikimedia.org/wiki/User-Agent_policy\n"
     ]
    },
    {
     "name": "stdout",
     "output_type": "stream",
     "text": [
      "Sant Martí\n",
      "['Q1771488', 'Q116021692']\n",
      "Q1771488\n"
     ]
    },
    {
     "name": "stderr",
     "output_type": "stream",
     "text": [
      "WARNING: Please set an user agent if you interact with a Wikibase instance from the Wikimedia Foundation.\n",
      "More information in the README.md and https://meta.wikimedia.org/wiki/User-Agent_policy\n"
     ]
    },
    {
     "name": "stdout",
     "output_type": "stream",
     "text": [
      "Horta-Guinardó\n",
      "['Q959944', 'Q2734573', 'Q2180113', 'Q3296693', 'Q115990795', 'Q116019014', 'Q73262105', 'Q73417470', 'Q44083277', 'Q73394969', 'Q18696079', 'Q19594035', 'Q107035884', 'Q1820492', 'Q918580', 'Q2838250', 'Q62928838', 'Q85693375', 'Q61744125', 'Q31192850', 'Q12949402']\n",
      "Q959944\n"
     ]
    },
    {
     "name": "stderr",
     "output_type": "stream",
     "text": [
      "WARNING: Please set an user agent if you interact with a Wikibase instance from the Wikimedia Foundation.\n",
      "More information in the README.md and https://meta.wikimedia.org/wiki/User-Agent_policy\n"
     ]
    },
    {
     "name": "stdout",
     "output_type": "stream",
     "text": [
      "les Corts\n"
     ]
    },
    {
     "name": "stderr",
     "output_type": "stream",
     "text": [
      "WARNING: Please set an user agent if you interact with a Wikibase instance from the Wikimedia Foundation.\n",
      "More information in the README.md and https://meta.wikimedia.org/wiki/User-Agent_policy\n"
     ]
    },
    {
     "name": "stdout",
     "output_type": "stream",
     "text": [
      "None\n",
      "['Q941385', 'Q3392733', 'Q748211', 'Q213274', 'Q98851701', 'Q4115349', 'Q1165566', 'Q591133', 'Q1007576', 'Q910661', 'Q15728389', 'Q12386142', 'Q29513737', 'Q11913974', 'Q8560686']\n",
      "Q941385\n"
     ]
    },
    {
     "name": "stderr",
     "output_type": "stream",
     "text": [
      "WARNING: Please set an user agent if you interact with a Wikibase instance from the Wikimedia Foundation.\n",
      "More information in the README.md and https://meta.wikimedia.org/wiki/User-Agent_policy\n"
     ]
    },
    {
     "name": "stdout",
     "output_type": "stream",
     "text": [
      "Ciutat Vella\n",
      "['Q1641049', 'Q85693386']\n",
      "Q1641049\n"
     ]
    },
    {
     "name": "stderr",
     "output_type": "stream",
     "text": [
      "WARNING: Please set an user agent if you interact with a Wikibase instance from the Wikimedia Foundation.\n",
      "More information in the README.md and https://meta.wikimedia.org/wiki/User-Agent_policy\n"
     ]
    },
    {
     "name": "stdout",
     "output_type": "stream",
     "text": [
      "Nou Barris\n",
      "['Q17154']\n",
      "Q17154\n",
      "el Gòtic\n",
      "Original: Gracia_ -> Unificado: Gracia Baur\n",
      "Original: Eixample -> Unificado: Eixample\n",
      "Original: Sant Andreu -> Unificado: Sant Andreu\n",
      "Original: Sant Martí -> Unificado: Sant Martí\n",
      "Original: horta Guinardó -> Unificado: Horta-Guinardó\n",
      "Original: Les Corts -> Unificado: les Corts\n",
      "Original: Ciutat Vella -> Unificado: Ciutat Vella\n",
      "Original: Nou Barris -> Unificado: Nou Barris\n",
      "Original: Gothic Quarter -> Unificado: el Gòtic\n"
     ]
    }
   ],
   "source": [
    "from wikibaseintegrator.wbi_helpers import search_entities\n",
    "from wikidataintegrator.wdi_core import WDItemEngine\n",
    "import re\n",
    "from unidecode import unidecode\n",
    "\n",
    "# Función para buscar y recuperar entidades por etiqueta en Wikidata\n",
    "def search_entities_by_label(label, language='en'):\n",
    "    results = search_entities(label, language=language)\n",
    "    if results:\n",
    "        print(results)\n",
    "        return results[0]  # Devuelve el ID de la primera entidad encontrada\n",
    "    return None\n",
    "\n",
    "def normalize_text(text):\n",
    "    # Eliminar puntuación y caracteres especiales y guión\n",
    "    normalized_text = re.sub(r'[^\\w\\s]', '', text)\n",
    "    # Convertir a minúsculas y aplicar transliteración de caracteres especiales\n",
    "    normalized_text = unidecode(normalized_text.lower())\n",
    "    return normalized_text\n",
    "\n",
    "\n",
    "# Lista de nombres de barrios de Barcelona con variantes en catalán, inglés, etc.\n",
    "barrios_barcelona = ['Gracia_', 'Eixample', 'Sants-Montjuïc', 'Sant Andreu', \n",
    "                     'Sant Martí', 'horta Guinardó', 'Les Corts', 'Sarrià-Sant Gervasi', \n",
    "                     'Ciutat Vella', 'Nou Barris', 'Gothic Quarter']\n",
    "\n",
    "# Diccionario para almacenar los nombres unificados\n",
    "barrios_unificados = {}\n",
    "\n",
    "# Buscar y unificar nombres de barrios en Wikidata\n",
    "for barrio in barrios_barcelona:\n",
    "    entity_id = search_entities_by_label(normalize_text(barrio))\n",
    "    print(entity_id)\n",
    "    if entity_id:\n",
    "        # Obtener información de la entidad desde Wikidata\n",
    "        wd_item = WDItemEngine(wd_item_id=entity_id)\n",
    "        print(wd_item.get_label(lang='ca'))\n",
    "        labels = wd_item.get_label(lang='ca')\n",
    "        barrios_unificados[barrio] = labels\n",
    "\n",
    "# Mostrar nombres unificados de barrios\n",
    "for original_name, unified_name in barrios_unificados.items():\n",
    "    print(f\"Original: {original_name} -> Unificado: {unified_name}\")\n"
   ]
  },
  {
   "cell_type": "code",
   "execution_count": 19,
   "metadata": {},
   "outputs": [
    {
     "data": {
      "text/plain": [
       "{'Gràcia': 'G',\n",
       " 'Eixample': 'E',\n",
       " 'Sants-Montjuïc': 'S',\n",
       " 'Sant Andreu': 'S',\n",
       " 'Sant Martí': 'S',\n",
       " 'Horta-Guinardó': 'H',\n",
       " 'Les Corts': 'L',\n",
       " 'Sarrià-Sant Gervasi': 'S',\n",
       " 'Ciutat Vella': 'C',\n",
       " 'Nou Barris': 'N'}"
      ]
     },
     "execution_count": 19,
     "metadata": {},
     "output_type": "execute_result"
    }
   ],
   "source": [
    "barrios_unificados"
   ]
  },
  {
   "cell_type": "code",
   "execution_count": 13,
   "metadata": {},
   "outputs": [
    {
     "name": "stdout",
     "output_type": "stream",
     "text": [
      "Collecting wikibaseintegrator\n",
      "  Downloading wikibaseintegrator-0.12.5-py3-none-any.whl.metadata (32 kB)\n",
      "Requirement already satisfied: backoff<3.0.0,>=2.2.1 in /Library/Frameworks/Python.framework/Versions/3.10/lib/python3.10/site-packages (from wikibaseintegrator) (2.2.1)\n",
      "Requirement already satisfied: mwoauth<0.5.0,>=0.4.0 in /Library/Frameworks/Python.framework/Versions/3.10/lib/python3.10/site-packages (from wikibaseintegrator) (0.4.0)\n",
      "Requirement already satisfied: oauthlib<4.0.0,>=3.2.2 in /Library/Frameworks/Python.framework/Versions/3.10/lib/python3.10/site-packages (from wikibaseintegrator) (3.2.2)\n",
      "Requirement already satisfied: requests<3.0.0,>=2.31.0 in /Library/Frameworks/Python.framework/Versions/3.10/lib/python3.10/site-packages (from wikibaseintegrator) (2.31.0)\n",
      "Requirement already satisfied: requests-oauthlib<2.0.0,>=1.3.1 in /Library/Frameworks/Python.framework/Versions/3.10/lib/python3.10/site-packages (from wikibaseintegrator) (1.3.1)\n",
      "Collecting ujson<6.0.0,>=5.9.0 (from wikibaseintegrator)\n",
      "  Downloading ujson-5.9.0-cp310-cp310-macosx_11_0_arm64.whl.metadata (8.7 kB)\n",
      "Requirement already satisfied: PyJWT>=1.0.1 in /Library/Frameworks/Python.framework/Versions/3.10/lib/python3.10/site-packages (from mwoauth<0.5.0,>=0.4.0->wikibaseintegrator) (2.8.0)\n",
      "Requirement already satisfied: charset-normalizer<4,>=2 in /Library/Frameworks/Python.framework/Versions/3.10/lib/python3.10/site-packages (from requests<3.0.0,>=2.31.0->wikibaseintegrator) (2.1.1)\n",
      "Requirement already satisfied: idna<4,>=2.5 in /Library/Frameworks/Python.framework/Versions/3.10/lib/python3.10/site-packages (from requests<3.0.0,>=2.31.0->wikibaseintegrator) (2.8)\n",
      "Requirement already satisfied: urllib3<3,>=1.21.1 in /Library/Frameworks/Python.framework/Versions/3.10/lib/python3.10/site-packages (from requests<3.0.0,>=2.31.0->wikibaseintegrator) (2.2.0)\n",
      "Requirement already satisfied: certifi>=2017.4.17 in /Library/Frameworks/Python.framework/Versions/3.10/lib/python3.10/site-packages (from requests<3.0.0,>=2.31.0->wikibaseintegrator) (2023.7.22)\n",
      "Downloading wikibaseintegrator-0.12.5-py3-none-any.whl (81 kB)\n",
      "\u001b[2K   \u001b[90m━━━━━━━━━━━━━━━━━━━━━━━━━━━━━━━━━━━━━━━━\u001b[0m \u001b[32m81.8/81.8 kB\u001b[0m \u001b[31m2.6 MB/s\u001b[0m eta \u001b[36m0:00:00\u001b[0m\n",
      "\u001b[?25hDownloading ujson-5.9.0-cp310-cp310-macosx_11_0_arm64.whl (54 kB)\n",
      "\u001b[2K   \u001b[90m━━━━━━━━━━━━━━━━━━━━━━━━━━━━━━━━━━━━━━━━\u001b[0m \u001b[32m54.1/54.1 kB\u001b[0m \u001b[31m1.5 MB/s\u001b[0m eta \u001b[36m0:00:00\u001b[0m\n",
      "\u001b[?25hInstalling collected packages: ujson, wikibaseintegrator\n",
      "Successfully installed ujson-5.9.0 wikibaseintegrator-0.12.5\n",
      "\n",
      "\u001b[1m[\u001b[0m\u001b[34;49mnotice\u001b[0m\u001b[1;39;49m]\u001b[0m\u001b[39;49m A new release of pip is available: \u001b[0m\u001b[31;49m23.3.1\u001b[0m\u001b[39;49m -> \u001b[0m\u001b[32;49m24.0\u001b[0m\n",
      "\u001b[1m[\u001b[0m\u001b[34;49mnotice\u001b[0m\u001b[1;39;49m]\u001b[0m\u001b[39;49m To update, run: \u001b[0m\u001b[32;49mpip install --upgrade pip\u001b[0m\n",
      "Note: you may need to restart the kernel to use updated packages.\n"
     ]
    }
   ],
   "source": [
    "pip install wikibaseintegrator"
   ]
  }
 ],
 "metadata": {
  "kernelspec": {
   "display_name": "Python 3",
   "language": "python",
   "name": "python3"
  },
  "language_info": {
   "codemirror_mode": {
    "name": "ipython",
    "version": 3
   },
   "file_extension": ".py",
   "mimetype": "text/x-python",
   "name": "python",
   "nbconvert_exporter": "python",
   "pygments_lexer": "ipython3",
   "version": "3.10.7"
  }
 },
 "nbformat": 4,
 "nbformat_minor": 2
}
