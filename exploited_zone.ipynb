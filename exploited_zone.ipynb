{
 "cells": [
  {
   "cell_type": "code",
   "execution_count": 1,
   "metadata": {},
   "outputs": [],
   "source": [
    "from pyspark.sql import SparkSession\n",
    "import pyspark.sql.functions as F\n",
    "from pyspark.sql.functions import col, expr, lit, min, max, mean"
   ]
  },
  {
   "cell_type": "code",
   "execution_count": 2,
   "metadata": {},
   "outputs": [
    {
     "name": "stderr",
     "output_type": "stream",
     "text": [
      "24/04/24 14:16:39 WARN NativeCodeLoader: Unable to load native-hadoop library for your platform... using builtin-java classes where applicable\n",
      "Setting default log level to \"WARN\".\n",
      "To adjust logging level use sc.setLogLevel(newLevel). For SparkR, use setLogLevel(newLevel).\n"
     ]
    }
   ],
   "source": [
    "spark = SparkSession.builder\\\n",
    "    .config(\"spark.jars\", \"duckdb.jar\") \\\n",
    "    .getOrCreate()"
   ]
  },
  {
   "cell_type": "code",
   "execution_count": 18,
   "metadata": {},
   "outputs": [],
   "source": [
    "DF = spark.read \\\n",
    "    .format(\"jdbc\") \\\n",
    "    .option(\"url\", \"jdbc:duckdb:trusted_zone/freshdata_trusted.db\") \\\n",
    "    .option(\"driver\", \"org.duckdb.DuckDBDriver\") \\\n",
    "    .option(\"query\", '''\n",
    "        SELECT a.\"Import_Euros_Escalat\", b.Price_Escalat\n",
    "        FROM renda a, rent_price b\n",
    "        WHERE b.Year > 2014\n",
    "        AND a.\"Average _rent\" = 'average rent (euro/month)'\n",
    "          AND b.\"Average _rent\" = 'average rent (euro/month)'\n",
    "    ''') \\\n",
    "    .load()\n"
   ]
  },
  {
   "cell_type": "code",
   "execution_count": 19,
   "metadata": {},
   "outputs": [
    {
     "name": "stdout",
     "output_type": "stream",
     "text": [
      "+--------------------+------+\n",
      "|Import_Euros_Escalat| Price|\n",
      "+--------------------+------+\n",
      "|   0.132503408292824|601.31|\n",
      "| 0.06539790958040129|601.31|\n",
      "| 0.10665546635085449|601.31|\n",
      "| 0.13531266783260118|601.31|\n",
      "|  0.0675737086357189|601.31|\n",
      "| 0.11421567952407838|601.31|\n",
      "| 0.11983419860363276|601.31|\n",
      "| 0.05691504744068193|601.31|\n",
      "| 0.09079141247917154|601.31|\n",
      "| 0.08816117438065467|601.31|\n",
      "| 0.04949254306842751|601.31|\n",
      "| 0.11522095377115552|601.31|\n",
      "| 0.15716705454645608|601.31|\n",
      "| 0.12660947161133068|601.31|\n",
      "| 0.12042634644780148|601.31|\n",
      "| 0.11124116942313783|601.31|\n",
      "| 0.10668300811104837|601.31|\n",
      "|   0.122368040541471|601.31|\n",
      "|  0.0862057094068882|601.31|\n",
      "| 0.22354269661374057|601.31|\n",
      "+--------------------+------+\n",
      "only showing top 20 rows\n",
      "\n"
     ]
    }
   ],
   "source": [
    "DF.show()"
   ]
  }
 ],
 "metadata": {
  "kernelspec": {
   "display_name": "Python 3",
   "language": "python",
   "name": "python3"
  },
  "language_info": {
   "codemirror_mode": {
    "name": "ipython",
    "version": 3
   },
   "file_extension": ".py",
   "mimetype": "text/x-python",
   "name": "python",
   "nbconvert_exporter": "python",
   "pygments_lexer": "ipython3",
   "version": "3.10.7"
  }
 },
 "nbformat": 4,
 "nbformat_minor": 2
}
