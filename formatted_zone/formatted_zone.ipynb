{
 "cells": [
  {
   "cell_type": "code",
   "execution_count": 1,
   "metadata": {},
   "outputs": [],
   "source": [
    "# !curl -o duckdb.jar \"https://repo1.maven.org/maven2/org/duckdb/duckdb_jdbc/0.10.1/duckdb_jdbc-0.10.1.jar\""
   ]
  },
  {
   "cell_type": "code",
   "execution_count": 2,
   "metadata": {},
   "outputs": [
    {
     "name": "stderr",
     "output_type": "stream",
     "text": [
      "24/04/24 14:23:04 WARN Utils: Your hostname, MacBook-Air-de-Olivia.local resolves to a loopback address: 127.0.0.1; using 10.192.23.148 instead (on interface en0)\n",
      "24/04/24 14:23:04 WARN Utils: Set SPARK_LOCAL_IP if you need to bind to another address\n",
      "24/04/24 14:23:06 WARN NativeCodeLoader: Unable to load native-hadoop library for your platform... using builtin-java classes where applicable\n",
      "Setting default log level to \"WARN\".\n",
      "To adjust logging level use sc.setLogLevel(newLevel). For SparkR, use setLogLevel(newLevel).\n"
     ]
    }
   ],
   "source": [
    "import duckdb\n",
    "import pyspark\n",
    "from pyspark.sql import SparkSession\n",
    "\n",
    "sc = SparkSession.builder\\\n",
    "    .config(\"spark.jars\", \"duckdb.jar\") \\\n",
    "    .getOrCreate()"
   ]
  },
  {
   "cell_type": "code",
   "execution_count": 3,
   "metadata": {},
   "outputs": [],
   "source": [
    "paths = ['../data_lake/compravenda_sup.parquet', '../data_lake/rent_price.parquet', '../data_lake/renda.parquet']"
   ]
  },
  {
   "cell_type": "code",
   "execution_count": 5,
   "metadata": {},
   "outputs": [
    {
     "name": "stderr",
     "output_type": "stream",
     "text": [
      "                                                                                \r"
     ]
    }
   ],
   "source": [
    "for path in paths:\n",
    "    RDD = sc.read.parquet(path)\n",
    "    path = path.split('/')[-1].split('.')[0]\n",
    "    # conn = duckdb.connect(path)\n",
    "    # conn.close()\n",
    "    RDD.write \\\n",
    "        .format(\"jdbc\") \\\n",
    "        .option(\"url\", f\"jdbc:duckdb:freshdata.db\") \\\n",
    "        .option(\"dbtable\", f\"{path}\") \\\n",
    "        .option(\"driver\", \"org.duckdb.DuckDBDriver\") \\\n",
    "        .mode(\"overwrite\") \\\n",
    "        .save()"
   ]
  }
 ],
 "metadata": {
  "kernelspec": {
   "display_name": "Python 3",
   "language": "python",
   "name": "python3"
  },
  "language_info": {
   "codemirror_mode": {
    "name": "ipython",
    "version": 3
   },
   "file_extension": ".py",
   "mimetype": "text/x-python",
   "name": "python",
   "nbconvert_exporter": "python",
   "pygments_lexer": "ipython3",
   "version": "3.9.6"
  },
  "orig_nbformat": 4
 },
 "nbformat": 4,
 "nbformat_minor": 2
}
