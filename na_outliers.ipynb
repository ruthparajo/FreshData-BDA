{
 "cells": [
  {
   "cell_type": "markdown",
   "metadata": {},
   "source": [
    "## Comprovació absència NA i Outliers df"
   ]
  },
  {
   "cell_type": "code",
   "execution_count": 25,
   "metadata": {},
   "outputs": [],
   "source": [
    "import pyspark\n",
    "from pyspark.sql import SparkSession\n",
    "import pyspark.sql.functions as F\n",
    "from pyspark.sql.functions import col, expr, lit\n",
    "\n",
    "sc = SparkSession.builder.getOrCreate()"
   ]
  },
  {
   "cell_type": "code",
   "execution_count": 21,
   "metadata": {},
   "outputs": [],
   "source": [
    "paths = ['data_lake/compravenda_sup.parquet', 'data_lake/rent_price.parquet', 'data_lake/renda.parquet']\n",
    "col_numeriques = {'data_lake/compravenda_sup.parquet': ['Nombre']\n",
    "                  , 'data_lake/renda.parquet': ['Import_Euros']\n",
    "                , 'data_lake/rent_price.parquet': ['Price']}"
   ]
  },
  {
   "cell_type": "code",
   "execution_count": 31,
   "metadata": {},
   "outputs": [
    {
     "name": "stdout",
     "output_type": "stream",
     "text": [
      "No hi ha valors NA al DataFrame data_lake/compravenda_sup.parquet\n",
      "Hi ha 0 valors duplicats al DataFrame data_lake/compravenda_sup.parquet de 876 valors totals\n",
      "El DataFrame data_lake/compravenda_sup.parquet ha passat de tenir 876 a 518 valors sense outliers\n",
      "No hi ha valors NA al DataFrame data_lake/rent_price.parquet\n",
      "Hi ha 0 valors duplicats al DataFrame data_lake/rent_price.parquet de 4622 valors totals\n",
      "El DataFrame data_lake/rent_price.parquet ha passat de tenir 4622 a 4617 valors sense outliers\n",
      "No hi ha valors NA al DataFrame data_lake/renda.parquet\n",
      "Hi ha 0 valors duplicats al DataFrame data_lake/renda.parquet de 1068 valors totals\n",
      "El DataFrame data_lake/renda.parquet ha passat de tenir 1068 a 1001 valors sense outliers\n"
     ]
    }
   ],
   "source": [
    "for path in paths:\n",
    "    RDD = sc.read.parquet(path)\n",
    "    \n",
    "    # Verificar si hi ha valors NA\n",
    "    na_count = RDD.na.drop().count()\n",
    "    if na_count == RDD.count():\n",
    "        print(f\"No hi ha valors NA al DataFrame {path}\")\n",
    "    else:\n",
    "        print(f\"Hi ha {RDD.count() - na_count} valors NA al DataFrame {path}\")\n",
    "\n",
    "    # Verificar si hi ha valors duplicats\n",
    "    RDD.distinct()\n",
    "    print(f\"Hi ha {RDD.count() - RDD.distinct().count()} valors duplicats al DataFrame {path} de {RDD.count()} valors totals\")\n",
    "    \n",
    "    for columna in col_numeriques[path]:\n",
    "        valor_min = RDD.rdd.filter(lambda f: '-' not in str(f[columna]))\\\n",
    "            .map(lambda x: (1, x[columna]))\\\n",
    "            .mapValues(lambda x: float(x) if type(x) == str else x)\\\n",
    "            .reduceByKey(lambda x, y: min(x,y)).collect()[0][1]\n",
    "        valor_max = RDD.rdd.filter(lambda f: '-' not in str(f[columna]))\\\n",
    "            .map(lambda x: (1, float(x[columna])))\\\n",
    "            .reduceByKey(lambda x, y: max(x,y)).collect()[0][1]\n",
    "        \n",
    "        RDD = RDD.withColumn(columna, (RDD[columna] - valor_min)/ (valor_max - valor_min))\n",
    "        \n",
    "        # IQR método\n",
    "        IQR = RDD.approxQuantile(columna, [0.25, 0.75], 0.001)\n",
    "        IQR_values = IQR[1] - IQR[0]\n",
    "        \n",
    "        RDD = RDD.withColumn('IQR', lit(IQR_values))\n",
    "                \n",
    "        outliersremoved = RDD.filter(col(columna) >= IQR[0] - 1.5 * IQR_values)\\\n",
    "            .filter(col(columna) <= IQR[1] + 1.5 * IQR_values)\n",
    "        print(f\"El DataFrame {path} ha passat de tenir {RDD.count()} a {outliersremoved.count()} valors sense outliers\")\n",
    "    #outliersremoved.write.db(\"ruta_de_salida/\" + path)"
   ]
  }
 ],
 "metadata": {
  "kernelspec": {
   "display_name": "Python 3",
   "language": "python",
   "name": "python3"
  },
  "language_info": {
   "codemirror_mode": {
    "name": "ipython",
    "version": 3
   },
   "file_extension": ".py",
   "mimetype": "text/x-python",
   "name": "python",
   "nbconvert_exporter": "python",
   "pygments_lexer": "ipython3",
   "version": "3.9.6"
  }
 },
 "nbformat": 4,
 "nbformat_minor": 2
}
