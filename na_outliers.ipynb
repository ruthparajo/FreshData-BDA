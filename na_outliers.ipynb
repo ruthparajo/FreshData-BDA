{
 "cells": [
  {
   "cell_type": "markdown",
   "metadata": {},
   "source": [
    "## Comprovació absència NA i Outliers df"
   ]
  },
  {
   "cell_type": "code",
   "execution_count": 2,
   "metadata": {},
   "outputs": [
    {
     "name": "stderr",
     "output_type": "stream",
     "text": [
      "Setting default log level to \"WARN\".\n",
      "To adjust logging level use sc.setLogLevel(newLevel). For SparkR, use setLogLevel(newLevel).\n",
      "24/04/12 11:03:41 WARN NativeCodeLoader: Unable to load native-hadoop library for your platform... using builtin-java classes where applicable\n"
     ]
    }
   ],
   "source": [
    "import pyspark\n",
    "from pyspark.sql import SparkSession\n",
    "import pyspark.sql.functions as F\n",
    "from pyspark.sql.functions import col\n",
    "\n",
    "sc = SparkSession.builder.getOrCreate()"
   ]
  },
  {
   "cell_type": "code",
   "execution_count": 3,
   "metadata": {},
   "outputs": [],
   "source": [
    "paths = ['data_lake/compravenda_sup.parquet', 'data_lake/rent_price.parquet', 'data_lake/renda.parquet']\n",
    "col_numeriques = {'data_lake/compravenda_sup.parquet': ['Nombre']\n",
    "                  , 'data_lake/renda.parquet': ['Import_Euros']\n",
    "                , 'data_lake/rent_price.parquet': ['Price']}"
   ]
  },
  {
   "cell_type": "code",
   "execution_count": 11,
   "metadata": {},
   "outputs": [
    {
     "name": "stdout",
     "output_type": "stream",
     "text": [
      "Hay valores NA en el DataFrame data_lake/compravenda_sup.parquet\n",
      "+----+---------+--------------+-------------------+----------+--------------------+----------------------------------+-------------------+\n",
      "| Any|Trimestre|Codi_Districte|      Nom_Districte|Codi_Barri|           Nom_Barri|Superfície_mitjana_(m2_construïts)|             Nombre|\n",
      "+----+---------+--------------+-------------------+----------+--------------------+----------------------------------+-------------------+\n",
      "|2023|        1|             2|           Eixample|         7|la Dreta de l'Eix...|                             Total|               0.22|\n",
      "|2023|        1|            10|         Sant Martí|        72|Sant Martí de Pro...|                    Habitatge usat|0.11129411764705882|\n",
      "|2023|        2|             3|     Sants-Montjuïc|        12|la Marina del Pra...|                             Total|0.15764705882352942|\n",
      "|2023|        2|             8|         Nou Barris|        46| el Turó de la Peira|                    Habitatge usat|0.09788235294117646|\n",
      "|2023|        3|            10|         Sant Martí|        72|Sant Martí de Pro...|                    Habitatge usat|0.11788235294117645|\n",
      "|2023|        1|             1|       Ciutat Vella|         2|      el Barri Gòtic|                    Habitatge usat|0.14258823529411763|\n",
      "|2023|        2|             6|             Gràcia|        30|            la Salut|                    Habitatge usat|0.15435294117647058|\n",
      "|2023|        2|             8|         Nou Barris|        50|        les Roquetes|                    Habitatge usat|0.07223529411764706|\n",
      "|2023|        3|            10|         Sant Martí|        64|el Camp de l'Arpa...|              Habitatge nou lliure|                0.0|\n",
      "|2023|        2|             5|Sarrià-Sant Gervasi|        22|Vallvidrera, el T...|                             Total| 0.6211764705882353|\n",
      "|2023|        3|             7|     Horta-Guinardó|        37|           el Carmel|                             Total|0.08541176470588234|\n",
      "|2023|        3|             3|     Sants-Montjuïc|        15|         Hostafrancs|              Habitatge nou lliure|0.09905882352941175|\n",
      "|2023|        1|            10|         Sant Martí|        71|Provençals del Po...|              Habitatge nou pro...|0.12423529411764705|\n",
      "|2023|        2|             5|Sarrià-Sant Gervasi|        23|              Sarrià|              Habitatge nou lliure| 0.1635294117647059|\n",
      "|2023|        3|             7|     Horta-Guinardó|        38|        la Teixonera|                    Habitatge usat|0.09176470588235294|\n",
      "|2023|        3|            10|         Sant Martí|        65|             el Clot|                             Total|0.11105882352941177|\n",
      "|2023|        3|            10|         Sant Martí|        65|             el Clot|              Habitatge nou lliure| 0.0611764705882353|\n",
      "|2023|        3|             4|          Les Corts|        20|la Maternitat i S...|                    Habitatge usat|0.11647058823529412|\n",
      "|2023|        1|            10|         Sant Martí|        64|el Camp de l'Arpa...|                    Habitatge usat|0.10800000000000001|\n",
      "|2023|        3|             5|Sarrià-Sant Gervasi|        23|              Sarrià|                    Habitatge usat|0.18188235294117647|\n",
      "+----+---------+--------------+-------------------+----------+--------------------+----------------------------------+-------------------+\n",
      "only showing top 20 rows\n",
      "\n",
      "El número de filas distintas en el DataFrame data_lake/compravenda_sup.parquet es 876 de un total de 876 filas\n",
      "No hay valores NA en el DataFrame data_lake/rent_price.parquet\n",
      "+----+---------+-------------------+--------------------+--------------------+--------------------+\n",
      "|Year|Trimester|           District|       Neighbourhood|       Average _rent|               Price|\n",
      "+----+---------+-------------------+--------------------+--------------------+--------------------+\n",
      "|2014|        1|       Ciutat Vella|      la Barceloneta|average rent (eur...|  0.2646861858756562|\n",
      "|2014|        3|         Sant Marti|el Camp de l'Arpa...|average rent (eur...| 0.29625963896357144|\n",
      "|2015|        3|           Eixample|l'Antiga Esquerra...|average rent (eur...| 0.45440757920445934|\n",
      "|2015|        2|             Gracia|el Camp d'en Gras...|average rent per ...|0.003806344235333511|\n",
      "|2015|        2|     Horta-Guinardo|    la Vall d'Hebron|average rent per ...|0.003304084064565053|\n",
      "|2016|        1|     Sants-Montjuic|la Font de la Gua...|average rent (eur...| 0.31295240346264075|\n",
      "|2016|        2|        Sant Andreu|   la Trinitat Vella|average rent per ...|0.002619631478909997|\n",
      "|2016|        2|         Sant Marti|             el Clot|average rent per ...|0.004023005485468924|\n",
      "|2017|        1|         Nou Barris|        la Guineueta|average rent (eur...| 0.31088919746703303|\n",
      "|2017|        2|         Sant Marti|el Besos i el Mar...|average rent (eur...|  0.2971361322027556|\n",
      "|2017|        3|           Eixample|la Dreta de l'Eix...|average rent (eur...|  0.5790419633448557|\n",
      "|2017|        2|         Nou Barris|            Vallbona|average rent per ...|6.253631537999429E-4|\n",
      "|2018|        4|     Sants-Montjuic|       Sants - Badal|average rent (eur...| 0.40772200391959906|\n",
      "|2018|        4|         Nou Barris|        les Roquetes|average rent (eur...|  0.2918180833357954|\n",
      "|2018|        1|         Nou Barris| el Turo de la Peira|average rent per ...|0.004067322559360259|\n",
      "|2018|        2|         Nou Barris|Vilapicina i la T...|average rent per ...|0.003909750741079958|\n",
      "|2018|        4|     Horta-Guinardo|        la Teixonera|average rent per ...|0.004426783269812194|\n",
      "|2019|        2|        Sant Andreu|       el Bon Pastor|average rent per ...|  0.0034074905703115|\n",
      "|2019|        3|     Horta-Guinardo|            Can Baro|average rent per ...|0.005081691139539693|\n",
      "|2020|        1|Sarria-Sant Gervasi|el Putxet i el Farro|average rent (eur...|   0.517387065323367|\n",
      "+----+---------+-------------------+--------------------+--------------------+--------------------+\n",
      "only showing top 20 rows\n",
      "\n",
      "El número de filas distintas en el DataFrame data_lake/rent_price.parquet es 4622 de un total de 4622 filas\n",
      "No hay valores NA en el DataFrame data_lake/renda.parquet\n",
      "+----+--------------+-------------------+----------+--------------------+-------------+-------------------+\n",
      "| Any|Codi_Districte|      Nom_Districte|Codi_Barri|           Nom_Barri|Seccio_Censal|       Import_Euros|\n",
      "+----+--------------+-------------------+----------+--------------------+-------------+-------------------+\n",
      "|2021|             2|         L'Eixample|         5|       el Fort Pienc|           20|0.21315579147376834|\n",
      "|2021|             5|Sarrià-Sant Gervasi|        22|Vallvidrera, el T...|            1| 0.3294376668224933|\n",
      "|2021|             5|Sarrià-Sant Gervasi|        25|Sant Gervasi- la ...|           38|0.47921222083151116|\n",
      "|2021|             5|Sarrià-Sant Gervasi|        26|Sant Gervasi- Gal...|           51| 0.8608266855669325|\n",
      "|2021|             8|         Nou Barris|        49|           Canyelles|           61|0.14633631414654744|\n",
      "|2021|            10|         Sant Martí|        68|         el Poblenou|           67| 0.5806402967743881|\n",
      "|2021|             1|       Ciutat Vella|         1|            el Raval|            9|0.04522491819100327|\n",
      "|2021|             2|         L'Eixample|         6|  la Sagrada Família|           51| 0.1982416720703331|\n",
      "|2021|             7|     Horta-Guinardó|        43|               Horta|          107| 0.3452415061903398|\n",
      "|2021|             9|        Sant Andreu|        60|         Sant Andreu|           37|0.17479227300830907|\n",
      "|2021|             2|         L'Eixample|        10|         Sant Antoni|          171|0.21973067121077317|\n",
      "|2021|             7|     Horta-Guinardó|        33|    el Baix Guinardó|           19| 0.2612609895495604|\n",
      "|2021|             7|     Horta-Guinardó|        37|           el Carmel|           59|0.11926771522929139|\n",
      "|2021|             7|     Horta-Guinardó|        37|           el Carmel|           63|0.08895691644172334|\n",
      "|2021|             7|     Horta-Guinardó|        43|               Horta|          113| 0.1896008324159667|\n",
      "|2021|             8|         Nou Barris|        55|    Ciutat Meridiana|          114|0.08321143667154253|\n",
      "|2021|             2|         L'Eixample|         8|l'Antiga Esquerra...|           84| 0.3732601450695942|\n",
      "|2021|             3|     Sants-Montjuïc|        18|               Sants|          114|  0.396121424155143|\n",
      "|2021|             4|          Les Corts|        20|la Maternitat i S...|           46| 0.6478669340853226|\n",
      "|2021|             5|Sarrià-Sant Gervasi|        26|Sant Gervasi- Gal...|           49| 0.9650596413976144|\n",
      "+----+--------------+-------------------+----------+--------------------+-------------+-------------------+\n",
      "only showing top 20 rows\n",
      "\n",
      "El número de filas distintas en el DataFrame data_lake/renda.parquet es 1068 de un total de 1068 filas\n"
     ]
    }
   ],
   "source": [
    "for path in paths:\n",
    "    RDD = sc.read.parquet(path)\n",
    "    for columna in col_numeriques[path]:\n",
    "        valor_min = RDD.rdd.filter(lambda f: '-' not in str(f[columna]))\\\n",
    "            .map(lambda x: (1, x[columna]))\\\n",
    "            .mapValues(lambda x: float(x) if type(x) == str else x)\\\n",
    "            .reduceByKey(lambda x, y: min(x,y)).collect()[0][1]\n",
    "        valor_max = RDD.rdd.filter(lambda f: '-' not in str(f[columna]))\\\n",
    "            .map(lambda x: (1, float(x[columna])))\\\n",
    "            .reduceByKey(lambda x, y: max(x,y)).collect()[0][1]\n",
    "        \n",
    "        RDD = RDD.withColumn(columna, (RDD[columna] - valor_min)/ (valor_max - valor_min))\n",
    "\n",
    "    # Verificar si hay valores NA\n",
    "    na_count = RDD.na.drop().count()\n",
    "    if na_count == RDD.count():\n",
    "        print(f\"No hay valores NA en el DataFrame {path}\")\n",
    "    else:\n",
    "        print(f\"Hay valores NA en el DataFrame {path}\")\n",
    "\n",
    "    RDD.distinct().show()\n",
    "    print(f\"El número de filas distintas en el DataFrame {path} es {RDD.distinct().count()} de un total de {RDD.count()} filas\")\n",
    "\n",
    "    # falta el RDD.write"
   ]
  },
  {
   "cell_type": "code",
   "execution_count": 7,
   "metadata": {},
   "outputs": [
    {
     "ename": "IllegalArgumentException",
     "evalue": "requirement failed: Quantile calculation for column Nombre with data type StringType is not supported.",
     "output_type": "error",
     "traceback": [
      "\u001b[0;31m---------------------------------------------------------------------------\u001b[0m",
      "\u001b[0;31mIllegalArgumentException\u001b[0m                  Traceback (most recent call last)",
      "Cell \u001b[0;32mIn[7], line 4\u001b[0m\n\u001b[1;32m      2\u001b[0m RDD \u001b[38;5;241m=\u001b[39m sc\u001b[38;5;241m.\u001b[39mread\u001b[38;5;241m.\u001b[39mparquet(path)\n\u001b[1;32m      3\u001b[0m \u001b[38;5;28;01mfor\u001b[39;00m columna \u001b[38;5;129;01min\u001b[39;00m col_numeriques[path]:\n\u001b[0;32m----> 4\u001b[0m     \u001b[43mRDD\u001b[49m\u001b[38;5;241;43m.\u001b[39;49m\u001b[43mapproxQuantile\u001b[49m\u001b[43m(\u001b[49m\u001b[43mcolumna\u001b[49m\u001b[43m,\u001b[49m\u001b[43m \u001b[49m\u001b[43m[\u001b[49m\u001b[38;5;241;43m0.25\u001b[39;49m\u001b[43m,\u001b[49m\u001b[43m \u001b[49m\u001b[38;5;241;43m0.5\u001b[39;49m\u001b[43m,\u001b[49m\u001b[43m \u001b[49m\u001b[38;5;241;43m0.75\u001b[39;49m\u001b[43m]\u001b[49m\u001b[43m,\u001b[49m\u001b[43m \u001b[49m\u001b[38;5;241;43m0\u001b[39;49m\u001b[43m)\u001b[49m\n",
      "File \u001b[0;32m~/Library/Python/3.9/lib/python/site-packages/pyspark/sql/dataframe.py:4845\u001b[0m, in \u001b[0;36mDataFrame.approxQuantile\u001b[0;34m(self, col, probabilities, relativeError)\u001b[0m\n\u001b[1;32m   4836\u001b[0m     \u001b[38;5;28;01mraise\u001b[39;00m PySparkValueError(\n\u001b[1;32m   4837\u001b[0m         error_class\u001b[38;5;241m=\u001b[39m\u001b[38;5;124m\"\u001b[39m\u001b[38;5;124mNEGATIVE_VALUE\u001b[39m\u001b[38;5;124m\"\u001b[39m,\n\u001b[1;32m   4838\u001b[0m         message_parameters\u001b[38;5;241m=\u001b[39m{\n\u001b[0;32m   (...)\u001b[0m\n\u001b[1;32m   4841\u001b[0m         },\n\u001b[1;32m   4842\u001b[0m     )\n\u001b[1;32m   4843\u001b[0m relativeError \u001b[38;5;241m=\u001b[39m \u001b[38;5;28mfloat\u001b[39m(relativeError)\n\u001b[0;32m-> 4845\u001b[0m jaq \u001b[38;5;241m=\u001b[39m \u001b[38;5;28;43mself\u001b[39;49m\u001b[38;5;241;43m.\u001b[39;49m\u001b[43m_jdf\u001b[49m\u001b[38;5;241;43m.\u001b[39;49m\u001b[43mstat\u001b[49m\u001b[43m(\u001b[49m\u001b[43m)\u001b[49m\u001b[38;5;241;43m.\u001b[39;49m\u001b[43mapproxQuantile\u001b[49m\u001b[43m(\u001b[49m\u001b[43mcol\u001b[49m\u001b[43m,\u001b[49m\u001b[43m \u001b[49m\u001b[43mprobabilities\u001b[49m\u001b[43m,\u001b[49m\u001b[43m \u001b[49m\u001b[43mrelativeError\u001b[49m\u001b[43m)\u001b[49m\n\u001b[1;32m   4846\u001b[0m jaq_list \u001b[38;5;241m=\u001b[39m [\u001b[38;5;28mlist\u001b[39m(j) \u001b[38;5;28;01mfor\u001b[39;00m j \u001b[38;5;129;01min\u001b[39;00m jaq]\n\u001b[1;32m   4847\u001b[0m \u001b[38;5;28;01mreturn\u001b[39;00m jaq_list[\u001b[38;5;241m0\u001b[39m] \u001b[38;5;28;01mif\u001b[39;00m isStr \u001b[38;5;28;01melse\u001b[39;00m jaq_list\n",
      "File \u001b[0;32m~/Library/Python/3.9/lib/python/site-packages/py4j/java_gateway.py:1322\u001b[0m, in \u001b[0;36mJavaMember.__call__\u001b[0;34m(self, *args)\u001b[0m\n\u001b[1;32m   1316\u001b[0m command \u001b[38;5;241m=\u001b[39m proto\u001b[38;5;241m.\u001b[39mCALL_COMMAND_NAME \u001b[38;5;241m+\u001b[39m\\\n\u001b[1;32m   1317\u001b[0m     \u001b[38;5;28mself\u001b[39m\u001b[38;5;241m.\u001b[39mcommand_header \u001b[38;5;241m+\u001b[39m\\\n\u001b[1;32m   1318\u001b[0m     args_command \u001b[38;5;241m+\u001b[39m\\\n\u001b[1;32m   1319\u001b[0m     proto\u001b[38;5;241m.\u001b[39mEND_COMMAND_PART\n\u001b[1;32m   1321\u001b[0m answer \u001b[38;5;241m=\u001b[39m \u001b[38;5;28mself\u001b[39m\u001b[38;5;241m.\u001b[39mgateway_client\u001b[38;5;241m.\u001b[39msend_command(command)\n\u001b[0;32m-> 1322\u001b[0m return_value \u001b[38;5;241m=\u001b[39m \u001b[43mget_return_value\u001b[49m\u001b[43m(\u001b[49m\n\u001b[1;32m   1323\u001b[0m \u001b[43m    \u001b[49m\u001b[43manswer\u001b[49m\u001b[43m,\u001b[49m\u001b[43m \u001b[49m\u001b[38;5;28;43mself\u001b[39;49m\u001b[38;5;241;43m.\u001b[39;49m\u001b[43mgateway_client\u001b[49m\u001b[43m,\u001b[49m\u001b[43m \u001b[49m\u001b[38;5;28;43mself\u001b[39;49m\u001b[38;5;241;43m.\u001b[39;49m\u001b[43mtarget_id\u001b[49m\u001b[43m,\u001b[49m\u001b[43m \u001b[49m\u001b[38;5;28;43mself\u001b[39;49m\u001b[38;5;241;43m.\u001b[39;49m\u001b[43mname\u001b[49m\u001b[43m)\u001b[49m\n\u001b[1;32m   1325\u001b[0m \u001b[38;5;28;01mfor\u001b[39;00m temp_arg \u001b[38;5;129;01min\u001b[39;00m temp_args:\n\u001b[1;32m   1326\u001b[0m     \u001b[38;5;28;01mif\u001b[39;00m \u001b[38;5;28mhasattr\u001b[39m(temp_arg, \u001b[38;5;124m\"\u001b[39m\u001b[38;5;124m_detach\u001b[39m\u001b[38;5;124m\"\u001b[39m):\n",
      "File \u001b[0;32m~/Library/Python/3.9/lib/python/site-packages/pyspark/errors/exceptions/captured.py:185\u001b[0m, in \u001b[0;36mcapture_sql_exception.<locals>.deco\u001b[0;34m(*a, **kw)\u001b[0m\n\u001b[1;32m    181\u001b[0m converted \u001b[38;5;241m=\u001b[39m convert_exception(e\u001b[38;5;241m.\u001b[39mjava_exception)\n\u001b[1;32m    182\u001b[0m \u001b[38;5;28;01mif\u001b[39;00m \u001b[38;5;129;01mnot\u001b[39;00m \u001b[38;5;28misinstance\u001b[39m(converted, UnknownException):\n\u001b[1;32m    183\u001b[0m     \u001b[38;5;66;03m# Hide where the exception came from that shows a non-Pythonic\u001b[39;00m\n\u001b[1;32m    184\u001b[0m     \u001b[38;5;66;03m# JVM exception message.\u001b[39;00m\n\u001b[0;32m--> 185\u001b[0m     \u001b[38;5;28;01mraise\u001b[39;00m converted \u001b[38;5;28;01mfrom\u001b[39;00m \u001b[38;5;28;01mNone\u001b[39;00m\n\u001b[1;32m    186\u001b[0m \u001b[38;5;28;01melse\u001b[39;00m:\n\u001b[1;32m    187\u001b[0m     \u001b[38;5;28;01mraise\u001b[39;00m\n",
      "\u001b[0;31mIllegalArgumentException\u001b[0m: requirement failed: Quantile calculation for column Nombre with data type StringType is not supported."
     ]
    }
   ],
   "source": [
    "for path in paths:\n",
    "    RDD = sc.read.parquet(path)\n",
    "    for columna in col_numeriques[path]:\n",
    "        RDD.approxQuantile(columna, [0.25, 0.5, 0.75], 0)"
   ]
  },
  {
   "cell_type": "code",
   "execution_count": 5,
   "metadata": {},
   "outputs": [
    {
     "ename": "AnalysisException",
     "evalue": "[UNRESOLVED_COLUMN.WITH_SUGGESTION] A column or function parameter with name `columna` cannot be resolved. Did you mean one of the following? [`Any`, `Nombre`, `Codi_Barri`, `Nom_Barri`, `Trimestre`].; line 1 pos 11;\n'Aggregate [Nombre#145], [Nombre#145, 'percentile('columna, array(0.25))[0] AS lower_quartile#162, 'percentile('columna, array(0.75))[0] AS upper_quartile#163, 'percentile('columna, array(0.5))[0] AS duration_median#164]\n+- Relation [Any#138L,Trimestre#139L,Codi_Districte#140L,Nom_Districte#141,Codi_Barri#142L,Nom_Barri#143,Superfície_mitjana_(m2_construïts)#144,Nombre#145] parquet\n",
     "output_type": "error",
     "traceback": [
      "\u001b[0;31m---------------------------------------------------------------------------\u001b[0m",
      "\u001b[0;31mAnalysisException\u001b[0m                         Traceback (most recent call last)",
      "Cell \u001b[0;32mIn[5], line 4\u001b[0m\n\u001b[1;32m      2\u001b[0m     RDD \u001b[38;5;241m=\u001b[39m sc\u001b[38;5;241m.\u001b[39mread\u001b[38;5;241m.\u001b[39mparquet(path)\n\u001b[1;32m      3\u001b[0m     \u001b[38;5;28;01mfor\u001b[39;00m columna \u001b[38;5;129;01min\u001b[39;00m col_numeriques[path]:\n\u001b[0;32m----> 4\u001b[0m         IQRdf \u001b[38;5;241m=\u001b[39m \u001b[43mRDD\u001b[49m\u001b[38;5;241;43m.\u001b[39;49m\u001b[43mgroupby\u001b[49m\u001b[43m(\u001b[49m\u001b[43mcolumna\u001b[49m\u001b[43m)\u001b[49m\u001b[43m\\\u001b[49m\n\u001b[1;32m      5\u001b[0m \u001b[43m            \u001b[49m\u001b[38;5;241;43m.\u001b[39;49m\u001b[43magg\u001b[49m\u001b[43m(\u001b[49m\u001b[43mF\u001b[49m\u001b[38;5;241;43m.\u001b[39;49m\u001b[43mexpr\u001b[49m\u001b[43m(\u001b[49m\u001b[38;5;124;43m'\u001b[39;49m\u001b[38;5;124;43mpercentile(columna, array(0.25))\u001b[39;49m\u001b[38;5;124;43m'\u001b[39;49m\u001b[43m)\u001b[49m\u001b[43m[\u001b[49m\u001b[38;5;241;43m0\u001b[39;49m\u001b[43m]\u001b[49m\u001b[38;5;241;43m.\u001b[39;49m\u001b[43malias\u001b[49m\u001b[43m(\u001b[49m\u001b[38;5;124;43m'\u001b[39;49m\u001b[38;5;124;43mlower_quartile\u001b[39;49m\u001b[38;5;124;43m'\u001b[39;49m\u001b[43m)\u001b[49m\u001b[43m,\u001b[49m\u001b[43m \u001b[49m\u001b[43mF\u001b[49m\u001b[38;5;241;43m.\u001b[39;49m\u001b[43mexpr\u001b[49m\u001b[43m(\u001b[49m\u001b[38;5;124;43m'\u001b[39;49m\u001b[38;5;124;43mpercentile(columna, array(0.75))\u001b[39;49m\u001b[38;5;124;43m'\u001b[39;49m\u001b[43m)\u001b[49m\u001b[43m[\u001b[49m\u001b[38;5;241;43m0\u001b[39;49m\u001b[43m]\u001b[49m\u001b[38;5;241;43m.\u001b[39;49m\u001b[43malias\u001b[49m\u001b[43m(\u001b[49m\u001b[38;5;124;43m'\u001b[39;49m\u001b[38;5;124;43mupper_quartile\u001b[39;49m\u001b[38;5;124;43m'\u001b[39;49m\u001b[43m)\u001b[49m\u001b[43m,\u001b[49m\u001b[43m \u001b[49m\u001b[43mF\u001b[49m\u001b[38;5;241;43m.\u001b[39;49m\u001b[43mexpr\u001b[49m\u001b[43m(\u001b[49m\u001b[38;5;124;43m'\u001b[39;49m\u001b[38;5;124;43mpercentile(columna, array(0.5))\u001b[39;49m\u001b[38;5;124;43m'\u001b[39;49m\u001b[43m)\u001b[49m\u001b[43m[\u001b[49m\u001b[38;5;241;43m0\u001b[39;49m\u001b[43m]\u001b[49m\u001b[38;5;241;43m.\u001b[39;49m\u001b[43malias\u001b[49m\u001b[43m(\u001b[49m\u001b[38;5;124;43m'\u001b[39;49m\u001b[38;5;124;43mduration_median\u001b[39;49m\u001b[38;5;124;43m'\u001b[39;49m\u001b[43m)\u001b[49m\u001b[43m)\u001b[49m\\\n\u001b[1;32m      6\u001b[0m             \u001b[38;5;241m.\u001b[39mwithColumn(\u001b[38;5;124m\"\u001b[39m\u001b[38;5;124mquartile_deviation\u001b[39m\u001b[38;5;124m\"\u001b[39m, (F\u001b[38;5;241m.\u001b[39mcol(\u001b[38;5;124m\"\u001b[39m\u001b[38;5;124mupper_quartile\u001b[39m\u001b[38;5;124m\"\u001b[39m) \u001b[38;5;241m-\u001b[39m F\u001b[38;5;241m.\u001b[39mcol(\u001b[38;5;124m\"\u001b[39m\u001b[38;5;124mlower_quartile\u001b[39m\u001b[38;5;124m\"\u001b[39m))\u001b[38;5;241m/\u001b[39m\u001b[38;5;241m2\u001b[39m)\n\u001b[1;32m      8\u001b[0m outliersremoved \u001b[38;5;241m=\u001b[39m RDD\u001b[38;5;241m.\u001b[39mjoin(IQRdf, on\u001b[38;5;241m=\u001b[39mcolumna, how\u001b[38;5;241m=\u001b[39m\u001b[38;5;124m'\u001b[39m\u001b[38;5;124minner\u001b[39m\u001b[38;5;124m'\u001b[39m)\\\n\u001b[1;32m      9\u001b[0m     \u001b[38;5;241m.\u001b[39mwhere(col(columna) \u001b[38;5;241m>\u001b[39m col(\u001b[38;5;124m\"\u001b[39m\u001b[38;5;124mlower_quartile\u001b[39m\u001b[38;5;124m\"\u001b[39m) \u001b[38;5;241m-\u001b[39m \u001b[38;5;241m1.5\u001b[39m\u001b[38;5;241m*\u001b[39mcol(\u001b[38;5;124m\"\u001b[39m\u001b[38;5;124mquartile_deviation\u001b[39m\u001b[38;5;124m\"\u001b[39m)) \u001b[38;5;241m&\u001b[39m (col(columna) \u001b[38;5;241m<\u001b[39m col(\u001b[38;5;124m\"\u001b[39m\u001b[38;5;124mupper_quartile\u001b[39m\u001b[38;5;124m\"\u001b[39m) \u001b[38;5;241m+\u001b[39m \u001b[38;5;241m1.5\u001b[39m\u001b[38;5;241m*\u001b[39mcol(\u001b[38;5;124m\"\u001b[39m\u001b[38;5;124mquartile_deviation\u001b[39m\u001b[38;5;124m\"\u001b[39m))\n",
      "File \u001b[0;32m~/Library/Python/3.9/lib/python/site-packages/pyspark/sql/group.py:186\u001b[0m, in \u001b[0;36mGroupedData.agg\u001b[0;34m(self, *exprs)\u001b[0m\n\u001b[1;32m    184\u001b[0m     \u001b[38;5;28;01massert\u001b[39;00m \u001b[38;5;28mall\u001b[39m(\u001b[38;5;28misinstance\u001b[39m(c, Column) \u001b[38;5;28;01mfor\u001b[39;00m c \u001b[38;5;129;01min\u001b[39;00m exprs), \u001b[38;5;124m\"\u001b[39m\u001b[38;5;124mall exprs should be Column\u001b[39m\u001b[38;5;124m\"\u001b[39m\n\u001b[1;32m    185\u001b[0m     exprs \u001b[38;5;241m=\u001b[39m cast(Tuple[Column, \u001b[38;5;241m.\u001b[39m\u001b[38;5;241m.\u001b[39m\u001b[38;5;241m.\u001b[39m], exprs)\n\u001b[0;32m--> 186\u001b[0m     jdf \u001b[38;5;241m=\u001b[39m \u001b[38;5;28;43mself\u001b[39;49m\u001b[38;5;241;43m.\u001b[39;49m\u001b[43m_jgd\u001b[49m\u001b[38;5;241;43m.\u001b[39;49m\u001b[43magg\u001b[49m\u001b[43m(\u001b[49m\u001b[43mexprs\u001b[49m\u001b[43m[\u001b[49m\u001b[38;5;241;43m0\u001b[39;49m\u001b[43m]\u001b[49m\u001b[38;5;241;43m.\u001b[39;49m\u001b[43m_jc\u001b[49m\u001b[43m,\u001b[49m\u001b[43m \u001b[49m\u001b[43m_to_seq\u001b[49m\u001b[43m(\u001b[49m\u001b[38;5;28;43mself\u001b[39;49m\u001b[38;5;241;43m.\u001b[39;49m\u001b[43msession\u001b[49m\u001b[38;5;241;43m.\u001b[39;49m\u001b[43m_sc\u001b[49m\u001b[43m,\u001b[49m\u001b[43m \u001b[49m\u001b[43m[\u001b[49m\u001b[43mc\u001b[49m\u001b[38;5;241;43m.\u001b[39;49m\u001b[43m_jc\u001b[49m\u001b[43m \u001b[49m\u001b[38;5;28;43;01mfor\u001b[39;49;00m\u001b[43m \u001b[49m\u001b[43mc\u001b[49m\u001b[43m \u001b[49m\u001b[38;5;129;43;01min\u001b[39;49;00m\u001b[43m \u001b[49m\u001b[43mexprs\u001b[49m\u001b[43m[\u001b[49m\u001b[38;5;241;43m1\u001b[39;49m\u001b[43m:\u001b[49m\u001b[43m]\u001b[49m\u001b[43m]\u001b[49m\u001b[43m)\u001b[49m\u001b[43m)\u001b[49m\n\u001b[1;32m    187\u001b[0m \u001b[38;5;28;01mreturn\u001b[39;00m DataFrame(jdf, \u001b[38;5;28mself\u001b[39m\u001b[38;5;241m.\u001b[39msession)\n",
      "File \u001b[0;32m~/Library/Python/3.9/lib/python/site-packages/py4j/java_gateway.py:1322\u001b[0m, in \u001b[0;36mJavaMember.__call__\u001b[0;34m(self, *args)\u001b[0m\n\u001b[1;32m   1316\u001b[0m command \u001b[38;5;241m=\u001b[39m proto\u001b[38;5;241m.\u001b[39mCALL_COMMAND_NAME \u001b[38;5;241m+\u001b[39m\\\n\u001b[1;32m   1317\u001b[0m     \u001b[38;5;28mself\u001b[39m\u001b[38;5;241m.\u001b[39mcommand_header \u001b[38;5;241m+\u001b[39m\\\n\u001b[1;32m   1318\u001b[0m     args_command \u001b[38;5;241m+\u001b[39m\\\n\u001b[1;32m   1319\u001b[0m     proto\u001b[38;5;241m.\u001b[39mEND_COMMAND_PART\n\u001b[1;32m   1321\u001b[0m answer \u001b[38;5;241m=\u001b[39m \u001b[38;5;28mself\u001b[39m\u001b[38;5;241m.\u001b[39mgateway_client\u001b[38;5;241m.\u001b[39msend_command(command)\n\u001b[0;32m-> 1322\u001b[0m return_value \u001b[38;5;241m=\u001b[39m \u001b[43mget_return_value\u001b[49m\u001b[43m(\u001b[49m\n\u001b[1;32m   1323\u001b[0m \u001b[43m    \u001b[49m\u001b[43manswer\u001b[49m\u001b[43m,\u001b[49m\u001b[43m \u001b[49m\u001b[38;5;28;43mself\u001b[39;49m\u001b[38;5;241;43m.\u001b[39;49m\u001b[43mgateway_client\u001b[49m\u001b[43m,\u001b[49m\u001b[43m \u001b[49m\u001b[38;5;28;43mself\u001b[39;49m\u001b[38;5;241;43m.\u001b[39;49m\u001b[43mtarget_id\u001b[49m\u001b[43m,\u001b[49m\u001b[43m \u001b[49m\u001b[38;5;28;43mself\u001b[39;49m\u001b[38;5;241;43m.\u001b[39;49m\u001b[43mname\u001b[49m\u001b[43m)\u001b[49m\n\u001b[1;32m   1325\u001b[0m \u001b[38;5;28;01mfor\u001b[39;00m temp_arg \u001b[38;5;129;01min\u001b[39;00m temp_args:\n\u001b[1;32m   1326\u001b[0m     \u001b[38;5;28;01mif\u001b[39;00m \u001b[38;5;28mhasattr\u001b[39m(temp_arg, \u001b[38;5;124m\"\u001b[39m\u001b[38;5;124m_detach\u001b[39m\u001b[38;5;124m\"\u001b[39m):\n",
      "File \u001b[0;32m~/Library/Python/3.9/lib/python/site-packages/pyspark/errors/exceptions/captured.py:185\u001b[0m, in \u001b[0;36mcapture_sql_exception.<locals>.deco\u001b[0;34m(*a, **kw)\u001b[0m\n\u001b[1;32m    181\u001b[0m converted \u001b[38;5;241m=\u001b[39m convert_exception(e\u001b[38;5;241m.\u001b[39mjava_exception)\n\u001b[1;32m    182\u001b[0m \u001b[38;5;28;01mif\u001b[39;00m \u001b[38;5;129;01mnot\u001b[39;00m \u001b[38;5;28misinstance\u001b[39m(converted, UnknownException):\n\u001b[1;32m    183\u001b[0m     \u001b[38;5;66;03m# Hide where the exception came from that shows a non-Pythonic\u001b[39;00m\n\u001b[1;32m    184\u001b[0m     \u001b[38;5;66;03m# JVM exception message.\u001b[39;00m\n\u001b[0;32m--> 185\u001b[0m     \u001b[38;5;28;01mraise\u001b[39;00m converted \u001b[38;5;28;01mfrom\u001b[39;00m \u001b[38;5;28;01mNone\u001b[39;00m\n\u001b[1;32m    186\u001b[0m \u001b[38;5;28;01melse\u001b[39;00m:\n\u001b[1;32m    187\u001b[0m     \u001b[38;5;28;01mraise\u001b[39;00m\n",
      "\u001b[0;31mAnalysisException\u001b[0m: [UNRESOLVED_COLUMN.WITH_SUGGESTION] A column or function parameter with name `columna` cannot be resolved. Did you mean one of the following? [`Any`, `Nombre`, `Codi_Barri`, `Nom_Barri`, `Trimestre`].; line 1 pos 11;\n'Aggregate [Nombre#145], [Nombre#145, 'percentile('columna, array(0.25))[0] AS lower_quartile#162, 'percentile('columna, array(0.75))[0] AS upper_quartile#163, 'percentile('columna, array(0.5))[0] AS duration_median#164]\n+- Relation [Any#138L,Trimestre#139L,Codi_Districte#140L,Nom_Districte#141,Codi_Barri#142L,Nom_Barri#143,Superfície_mitjana_(m2_construïts)#144,Nombre#145] parquet\n"
     ]
    }
   ],
   "source": [
    "for path in paths:\n",
    "    RDD = sc.read.parquet(path)\n",
    "    for columna in col_numeriques[path]:\n",
    "        IQRdf = RDD.groupby(columna)\\\n",
    "            .agg(F.expr('percentile(columna, array(0.25))')[0].alias('lower_quartile'), F.expr('percentile(columna, array(0.75))')[0].alias('upper_quartile'), F.expr('percentile(columna, array(0.5))')[0].alias('duration_median'))\\\n",
    "            .withColumn(\"quartile_deviation\", (F.col(\"upper_quartile\") - F.col(\"lower_quartile\"))/2)\n",
    "\n",
    "outliersremoved = RDD.join(IQRdf, on=columna, how='inner')\\\n",
    "    .where(col(columna) > col(\"lower_quartile\") - 1.5*col(\"quartile_deviation\")) & (col(columna) < col(\"upper_quartile\") + 1.5*col(\"quartile_deviation\"))"
   ]
  }
 ],
 "metadata": {
  "kernelspec": {
   "display_name": "Python 3",
   "language": "python",
   "name": "python3"
  },
  "language_info": {
   "codemirror_mode": {
    "name": "ipython",
    "version": 3
   },
   "file_extension": ".py",
   "mimetype": "text/x-python",
   "name": "python",
   "nbconvert_exporter": "python",
   "pygments_lexer": "ipython3",
   "version": "3.9.6"
  }
 },
 "nbformat": 4,
 "nbformat_minor": 2
}
