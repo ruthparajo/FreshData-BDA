{
 "cells": [
  {
   "cell_type": "markdown",
   "metadata": {},
   "source": [
    "## Comprovació absència NA i Outliers df"
   ]
  },
  {
   "cell_type": "code",
   "execution_count": 1,
   "metadata": {},
   "outputs": [
    {
     "name": "stderr",
     "output_type": "stream",
     "text": [
      "Setting default log level to \"WARN\".\n",
      "To adjust logging level use sc.setLogLevel(newLevel). For SparkR, use setLogLevel(newLevel).\n",
      "24/04/10 10:14:30 WARN NativeCodeLoader: Unable to load native-hadoop library for your platform... using builtin-java classes where applicable\n"
     ]
    }
   ],
   "source": [
    "import pyspark\n",
    "from pyspark.sql import SparkSession\n",
    "from pyspark.sql.functions import col\n",
    "\n",
    "sc = SparkSession.builder.getOrCreate()"
   ]
  },
  {
   "cell_type": "code",
   "execution_count": 11,
   "metadata": {},
   "outputs": [],
   "source": [
    "paths = ['data_lake/compravenda_sup.parquet', 'data_lake/rent_price.parquet', 'data_lake/renda.parquet']\n",
    "col_numeriques = {'data_lake/compravenda_sup.parquet': ['Nombre']\n",
    "                  , 'data_lake/renda.parquet': ['Import_Euros']\n",
    "                , 'data_lake/rent_price.parquet': ['Price']}"
   ]
  },
  {
   "cell_type": "code",
   "execution_count": 15,
   "metadata": {},
   "outputs": [
    {
     "name": "stdout",
     "output_type": "stream",
     "text": [
      "No hay valores NA en el DataFrame data_lake/compravenda_sup.parquet\n",
      "No hay valores NA en el DataFrame data_lake/rent_price.parquet\n",
      "No hay valores NA en el DataFrame data_lake/renda.parquet\n"
     ]
    }
   ],
   "source": [
    "for path in paths:\n",
    "    df = sc.read.parquet(path)\n",
    "    \n",
    "    # Verificar si hay valores NA\n",
    "    na_count = df.na.drop().count()\n",
    "    if na_count == df.count():\n",
    "        print(f\"No hay valores NA en el DataFrame {path}\")\n",
    "    else:\n",
    "        print(f\"Hay valores NA en el DataFrame {path}\")"
   ]
  },
  {
   "cell_type": "code",
   "execution_count": 17,
   "metadata": {},
   "outputs": [],
   "source": [
    "from pyspark.sql.types import IntegerType"
   ]
  },
  {
   "cell_type": "code",
   "execution_count": 22,
   "metadata": {},
   "outputs": [
    {
     "data": {
      "text/plain": [
       "{'data_lake/compravenda_sup.parquet': ['Nombre'],\n",
       " 'data_lake/renda.parquet': ['Import_Euros'],\n",
       " 'data_lake/rent_price.parquet': ['Price']}"
      ]
     },
     "execution_count": 22,
     "metadata": {},
     "output_type": "execute_result"
    }
   ],
   "source": [
    "col_numeriques"
   ]
  },
  {
   "cell_type": "code",
   "execution_count": null,
   "metadata": {},
   "outputs": [],
   "source": [
    "for path in paths:\n",
    "    dfs = sc.read.parquet(path)\\\n",
    "        .reduce(lambda x, y: x.union(y))\n",
    "    for column, data_type in dfs.dtypes:\n",
    "        if data_type != 'string':\n",
    "            numeric_columns = dfs.select(column).filter(col(column).cast(IntegerType()).isNull()).count()\\\n",
    "                .describe(numeric_columns)\n",
    "\n",
    "# Calcular límites para detectar outliers\n",
    "outliers = {}\n",
    "for column in numeric_columns:\n",
    "    quantiles = merged_df.approxQuantile(column, [0.25, 0.75], 0.05)\n",
    "    IQR = quantiles[1] - quantiles[0]\n",
    "    lower_bound = quantiles[0] - 1.5 * IQR\n",
    "    upper_bound = quantiles[1] + 1.5 * IQR\n",
    "    outliers[column] = (lower_bound, upper_bound)\n",
    "\n",
    "# Filtrar outliers\n",
    "filtered_df = merged_df\n",
    "for column, (lower_bound, upper_bound) in outliers.items():\n",
    "    filtered_df = filtered_df.filter((col(column) >= lower_bound) & (col(column) <= upper_bound))\n",
    "\n",
    "# Mostrar los outliers detectados\n",
    "filtered_df.show()"
   ]
  },
  {
   "cell_type": "code",
   "execution_count": 51,
   "metadata": {},
   "outputs": [],
   "source": [
    "numeric_columns = []\n",
    "for column in col_numeriques:\n",
    "    df = sc.read.parquet(column)\n",
    "    for col_name in col_numeriques[column]:\n",
    "        df = df.withColumn(col_name, col(col_name).cast(IntegerType()))\n",
    "        \n",
    "        if df.select(col_name).dtypes[0][1] == 'int':\n",
    "                numeric_columns.append(col_name)\n",
    "        else:\n",
    "            pass"
   ]
  }
 ],
 "metadata": {
  "kernelspec": {
   "display_name": "Python 3",
   "language": "python",
   "name": "python3"
  },
  "language_info": {
   "codemirror_mode": {
    "name": "ipython",
    "version": 3
   },
   "file_extension": ".py",
   "mimetype": "text/x-python",
   "name": "python",
   "nbconvert_exporter": "python",
   "pygments_lexer": "ipython3",
   "version": "3.9.6"
  }
 },
 "nbformat": 4,
 "nbformat_minor": 2
}
