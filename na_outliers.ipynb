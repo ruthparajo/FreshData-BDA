{
 "cells": [
  {
   "cell_type": "markdown",
   "metadata": {},
   "source": [
    "## Comprovació absència NA i Outliers df"
   ]
  },
  {
   "cell_type": "code",
   "execution_count": 1,
   "metadata": {},
   "outputs": [],
   "source": [
    "import pyspark\n",
    "from pyspark.sql import SparkSession\n",
    "import pyspark.sql.functions as F\n",
    "from pyspark.sql.functions import col, expr, lit\n",
    "import duckdb"
   ]
  },
  {
   "cell_type": "code",
   "execution_count": null,
   "metadata": {},
   "outputs": [],
   "source": [
    "sc = SparkSession.builder.getOrCreate()"
   ]
  },
  {
   "cell_type": "code",
   "execution_count": 21,
   "metadata": {},
   "outputs": [],
   "source": [
    "paths = ['data_lake/compravenda_sup.parquet', 'data_lake/rent_price.parquet', 'data_lake/renda.parquet']\n",
    "col_numeriques = {'data_lake/compravenda_sup.parquet': ['Nombre']\n",
    "                  , 'data_lake/renda.parquet': ['Import_Euros']\n",
    "                , 'data_lake/rent_price.parquet': ['Price']}"
   ]
  },
  {
   "cell_type": "code",
   "execution_count": 31,
   "metadata": {},
   "outputs": [
    {
     "name": "stdout",
     "output_type": "stream",
     "text": [
      "No hi ha valors NA al DataFrame data_lake/compravenda_sup.parquet\n",
      "Hi ha 0 valors duplicats al DataFrame data_lake/compravenda_sup.parquet de 876 valors totals\n",
      "El DataFrame data_lake/compravenda_sup.parquet ha passat de tenir 876 a 518 valors sense outliers\n",
      "No hi ha valors NA al DataFrame data_lake/rent_price.parquet\n",
      "Hi ha 0 valors duplicats al DataFrame data_lake/rent_price.parquet de 4622 valors totals\n",
      "El DataFrame data_lake/rent_price.parquet ha passat de tenir 4622 a 4617 valors sense outliers\n",
      "No hi ha valors NA al DataFrame data_lake/renda.parquet\n",
      "Hi ha 0 valors duplicats al DataFrame data_lake/renda.parquet de 1068 valors totals\n",
      "El DataFrame data_lake/renda.parquet ha passat de tenir 1068 a 1001 valors sense outliers\n"
     ]
    }
   ],
   "source": [
    "for path in paths:\n",
    "    RDD = sc.read.parquet(path)\n",
    "    \n",
    "    # Verificar si hi ha valors NA\n",
    "    na_count = RDD.na.drop().count()\n",
    "    if na_count == RDD.count():\n",
    "        print(f\"No hi ha valors NA al DataFrame {path}\")\n",
    "    else:\n",
    "        print(f\"Hi ha {RDD.count() - na_count} valors NA al DataFrame {path}\")\n",
    "\n",
    "    # Verificar si hi ha valors duplicats\n",
    "    RDD.distinct()\n",
    "    print(f\"Hi ha {RDD.count() - RDD.distinct().count()} valors duplicats al DataFrame {path} de {RDD.count()} valors totals\")\n",
    "    \n",
    "    for columna in col_numeriques[path]:\n",
    "        valor_min = RDD.rdd.filter(lambda f: '-' not in str(f[columna]))\\\n",
    "            .map(lambda x: (1, x[columna]))\\\n",
    "            .mapValues(lambda x: float(x) if type(x) == str else x)\\\n",
    "            .reduceByKey(lambda x, y: min(x,y)).collect()[0][1]\n",
    "        valor_max = RDD.rdd.filter(lambda f: '-' not in str(f[columna]))\\\n",
    "            .map(lambda x: (1, float(x[columna])))\\\n",
    "            .reduceByKey(lambda x, y: max(x,y)).collect()[0][1]\n",
    "        \n",
    "        RDD = RDD.withColumn(columna, (RDD[columna] - valor_min)/ (valor_max - valor_min))\n",
    "        \n",
    "        # IQR método\n",
    "        IQR = RDD.approxQuantile(columna, [0.25, 0.75], 0.001)\n",
    "        IQR_values = IQR[1] - IQR[0]\n",
    "        \n",
    "        RDD = RDD.withColumn('IQR', lit(IQR_values))\n",
    "                \n",
    "        outliersremoved = RDD.filter(col(columna) >= IQR[0] - 1.5 * IQR_values)\\\n",
    "            .filter(col(columna) <= IQR[1] + 1.5 * IQR_values)\n",
    "        print(f\"El DataFrame {path} ha passat de tenir {RDD.count()} a {outliersremoved.count()} valors sense outliers\")\n",
    "    #outliersremoved.write.db(\"ruta_de_salida/\" + path)"
   ]
  },
  {
   "cell_type": "code",
   "execution_count": 3,
   "metadata": {},
   "outputs": [
    {
     "name": "stderr",
     "output_type": "stream",
     "text": [
      "24/04/16 15:58:18 WARN NativeCodeLoader: Unable to load native-hadoop library for your platform... using builtin-java classes where applicable\n",
      "Setting default log level to \"WARN\".\n",
      "To adjust logging level use sc.setLogLevel(newLevel). For SparkR, use setLogLevel(newLevel).\n"
     ]
    }
   ],
   "source": [
    "spark = SparkSession.builder\\\n",
    "    .config(\"spark.jars\", \"duckdb.jar\") \\\n",
    "    .getOrCreate()"
   ]
  },
  {
   "cell_type": "code",
   "execution_count": 82,
   "metadata": {},
   "outputs": [
    {
     "name": "stdout",
     "output_type": "stream",
     "text": [
      "Hi ha 0 valors duplicats al DataFrame 'formatted_zone/rent_price.db' de 4622 valors totals\n",
      "Hi ha 0 NAs\n"
     ]
    }
   ],
   "source": [
    "# rent_price\n",
    "DF = spark.read \\\n",
    "  .format(\"jdbc\") \\\n",
    "  .option(\"url\", \"jdbc:duckdb:formatted_zone/rent_price.db\") \\\n",
    "  .option(\"driver\", \"org.duckdb.DuckDBDriver\") \\\n",
    "  .option(\"query\", \"SELECT * FROM RDD\") \\\n",
    "  .load()\n",
    "\n",
    "# verificar duplicats\n",
    "print(f\"Hi ha {DF.count() - DF.distinct().count()} valors duplicats al DataFrame 'formatted_zone/rent_price.db' de {DF.count()} valors totals\")\n",
    "\n",
    "# verificar NA\n",
    "print(f'Hi ha {DF.count() - DF.na.drop().count()} NAs')\n",
    "\n",
    "# escalar obteninint mínim i màxims via query en funció de la unitat\n",
    "min_max = spark.read \\\n",
    "  .format(\"jdbc\") \\\n",
    "  .option(\"url\", \"jdbc:duckdb:formatted_zone/rent_price.db\") \\\n",
    "  .option(\"driver\", \"org.duckdb.DuckDBDriver\") \\\n",
    "  .option(\"query\", 'SELECT \"Average _rent\", min(Price) AS min_price , max(Price) AS max_price FROM RDD GROUP BY \"Average _rent\"') \\\n",
    "  .load().collect()\n",
    "\n",
    "DF = DF.withColumn('Price', F.when(DF['Average _rent'] == min_max[0][0], (DF['Price'] - min_max[0].min_price)/(min_max[0].max_price - min_max[0].min_price)).otherwise((DF['Price'] - min_max[1].min_price)/(min_max[1].max_price - min_max[1].min_price)))\n",
    "\n",
    "# outliers\n",
    "IQR = DF.approxQuantile('Price', [0.25, 0.75], 0.001)\n",
    "IQR_values = IQR[1] - IQR[0]\n",
    "        \n",
    "DF = DF.withColumn('IQR', lit(IQR_values))\n",
    "                \n",
    "not_outliers = DF.filter(col('Price') >= IQR[0] - 1.5 * IQR_values)\\\n",
    "            .filter(col('Price') <= IQR[1] + 1.5 * IQR_values)\n",
    "\n",
    "outliers = DF.subtract(not_outliers)\n",
    "print(f\"Hi ha {DF.count()} a {not_outliers.count()} valors sense outliers\")"
   ]
  },
  {
   "cell_type": "code",
   "execution_count": 90,
   "metadata": {},
   "outputs": [
    {
     "data": {
      "text/plain": [
       "36"
      ]
     },
     "execution_count": 90,
     "metadata": {},
     "output_type": "execute_result"
    }
   ],
   "source": [
    "DF.subtract(outliersremoved).count()"
   ]
  },
  {
   "cell_type": "code",
   "execution_count": 50,
   "metadata": {},
   "outputs": [
    {
     "ename": "TypeError",
     "evalue": "unhashable type: 'Column'",
     "output_type": "error",
     "traceback": [
      "\u001b[0;31m---------------------------------------------------------------------------\u001b[0m",
      "\u001b[0;31mTypeError\u001b[0m                                 Traceback (most recent call last)",
      "Cell \u001b[0;32mIn [50], line 1\u001b[0m\n\u001b[0;32m----> 1\u001b[0m DF \u001b[38;5;241m=\u001b[39m DF\u001b[38;5;241m.\u001b[39mwithColumn(\u001b[38;5;124m'\u001b[39m\u001b[38;5;124mPrice\u001b[39m\u001b[38;5;124m'\u001b[39m, (DF[\u001b[38;5;124m'\u001b[39m\u001b[38;5;124mPrice\u001b[39m\u001b[38;5;124m'\u001b[39m] \u001b[38;5;241m-\u001b[39m \u001b[43munitat\u001b[49m\u001b[43m[\u001b[49m\u001b[43mDF\u001b[49m\u001b[43m[\u001b[49m\u001b[38;5;124;43m'\u001b[39;49m\u001b[38;5;124;43mAverage _rent\u001b[39;49m\u001b[38;5;124;43m'\u001b[39;49m\u001b[43m]\u001b[49m\u001b[43m]\u001b[49m[\u001b[38;5;241m0\u001b[39m])\u001b[38;5;241m/\u001b[39m (unitat[DF[\u001b[38;5;124m'\u001b[39m\u001b[38;5;124mAverage _rent\u001b[39m\u001b[38;5;124m'\u001b[39m]][\u001b[38;5;241m0\u001b[39m][\u001b[38;5;241m1\u001b[39m] \u001b[38;5;241m-\u001b[39m unitat[DF[\u001b[38;5;124m'\u001b[39m\u001b[38;5;124mAverage _rent\u001b[39m\u001b[38;5;124m'\u001b[39m]][\u001b[38;5;241m0\u001b[39m]))\n",
      "\u001b[0;31mTypeError\u001b[0m: unhashable type: 'Column'"
     ]
    }
   ],
   "source": [
    "DF = DF.withColumn('Price', (DF['Price'] - unitat[DF['Average _rent']][0])/ (unitat[DF['Average _rent']][0][1] - unitat[DF['Average _rent']][0]))"
   ]
  },
  {
   "cell_type": "code",
   "execution_count": 40,
   "metadata": {},
   "outputs": [],
   "source": [
    "test = spark.read \\\n",
    "  .format(\"jdbc\") \\\n",
    "  .option(\"url\", \"jdbc:duckdb:formatted_zone/rent_price.db\") \\\n",
    "  .option(\"driver\", \"org.duckdb.DuckDBDriver\") \\\n",
    "  .option(\"query\", 'SELECT \"Average _rent\", min(Price) AS min_price , max(Price) AS max_price FROM RDD GROUP BY \"Average _rent\"') \\\n",
    "  .load()"
   ]
  },
  {
   "cell_type": "code",
   "execution_count": 52,
   "metadata": {},
   "outputs": [
    {
     "name": "stdout",
     "output_type": "stream",
     "text": [
      "+--------------------+---------+---------+\n",
      "|       Average _rent|min_price|max_price|\n",
      "+--------------------+---------+---------+\n",
      "|average rent per ...|     3.18|     21.3|\n",
      "|average rent (eur...|   142.34|   2034.0|\n",
      "+--------------------+---------+---------+\n",
      "\n"
     ]
    }
   ],
   "source": [
    "test.show()"
   ]
  }
 ],
 "metadata": {
  "kernelspec": {
   "display_name": "Python 3",
   "language": "python",
   "name": "python3"
  },
  "language_info": {
   "codemirror_mode": {
    "name": "ipython",
    "version": 3
   },
   "file_extension": ".py",
   "mimetype": "text/x-python",
   "name": "python",
   "nbconvert_exporter": "python",
   "pygments_lexer": "ipython3",
   "version": "3.10.7"
  }
 },
 "nbformat": 4,
 "nbformat_minor": 2
}
