{
 "cells": [
  {
   "cell_type": "code",
   "execution_count": 1,
   "metadata": {},
   "outputs": [],
   "source": [
    "import pyspark\n",
    "from pyspark.sql import SparkSession\n",
    "import pyspark.sql.functions as F\n",
    "from pyspark.sql.functions import col, expr, lit\n",
    "from pyspark.sql.window import Window\n",
    "import duckdb"
   ]
  },
  {
   "cell_type": "code",
   "execution_count": 2,
   "metadata": {},
   "outputs": [
    {
     "name": "stderr",
     "output_type": "stream",
     "text": [
      "24/04/16 18:31:50 WARN NativeCodeLoader: Unable to load native-hadoop library for your platform... using builtin-java classes where applicable\n",
      "Setting default log level to \"WARN\".\n",
      "To adjust logging level use sc.setLogLevel(newLevel). For SparkR, use setLogLevel(newLevel).\n"
     ]
    }
   ],
   "source": [
    "spark = SparkSession.builder\\\n",
    "    .config(\"spark.jars\", \"duckdb.jar\") \\\n",
    "    .getOrCreate()"
   ]
  },
  {
   "cell_type": "code",
   "execution_count": 3,
   "metadata": {},
   "outputs": [
    {
     "name": "stderr",
     "output_type": "stream",
     "text": [
      "                                                                                \r"
     ]
    },
    {
     "name": "stdout",
     "output_type": "stream",
     "text": [
      "Hi ha 0 valors duplicats al DataFrame 'formatted_zone/compravenda_sup.db' de 876 valors totals\n",
      "Hi ha 290 NAs\n",
      "Hi ha 12 NAs en barri\n",
      "Hi ha 12 NAs en districte\n",
      "+-------------+---------+---+---------+--------------+----------+----------------------------------+------+---------------------+-------------------------+\n",
      "|Nom_Districte|Nom_Barri|Any|Trimestre|Codi_Districte|Codi_Barri|Superfície_mitjana_(m2_construïts)|Nombre|mean_nombre_nom_barri|mean_nombre_nom_districte|\n",
      "+-------------+---------+---+---------+--------------+----------+----------------------------------+------+---------------------+-------------------------+\n",
      "+-------------+---------+---+---------+--------------+----------+----------------------------------+------+---------------------+-------------------------+\n",
      "\n"
     ]
    },
    {
     "name": "stderr",
     "output_type": "stream",
     "text": [
      "                                                                                \r"
     ]
    },
    {
     "name": "stdout",
     "output_type": "stream",
     "text": [
      "Hi ha 79 outliers detectats per quartils\n"
     ]
    }
   ],
   "source": [
    "# compravenda_sup\n",
    "DF = spark.read \\\n",
    "    .format(\"jdbc\") \\\n",
    "    .option(\"url\", \"jdbc:duckdb:formatted_zone/compravenda_sup.db\") \\\n",
    "    .option(\"driver\", \"org.duckdb.DuckDBDriver\") \\\n",
    "    .option(\"query\", \"SELECT * FROM RDD\") \\\n",
    "    .load()\n",
    "\n",
    "# verificar duplicats\n",
    "print(f\"Hi ha {DF.count() - DF.distinct().count()} valors duplicats al DataFrame 'formatted_zone/compravenda_sup.db' de {DF.count()} valors totals\")\n",
    "\n",
    "# substituir \"--\" por NA\n",
    "DF = DF.withColumn('Nombre', F.when(col('Nombre') == '--', None).otherwise(col('Nombre')))\n",
    "# verificar NA\n",
    "print(f'Hi ha {DF.count() - DF.na.drop().count()} NAs')\n",
    "# imprimir toda la informació que té un NA\n",
    "valorsnull = DF.filter(DF.Nombre.isNull())\n",
    "\n",
    "# passar a numeric\n",
    "DF = DF.withColumn('Nombre', DF['Nombre'].cast('float'))\n",
    "\n",
    "# Imputar NA de Nombre amb la mitjana de \"Nombre\" per \"Nom_barri\"\n",
    "mean_nombre_nom_barri = DF.groupBy('Nom_barri').agg(F.mean('Nombre').alias('mean_nombre_nom_barri'))\n",
    "\n",
    "DF = DF.join(mean_nombre_nom_barri, on='Nom_barri', how='left')\n",
    "DF = DF.withColumn('Nombre', F.when(DF['Nombre'].isNull(), DF['mean_nombre_nom_barri']).otherwise(DF['Nombre']))\n",
    "# Verificar NAs després de la imputació per barri\n",
    "print(f'Hi ha {DF.count() - DF.na.drop().count()} NAs en barri')\n",
    "\n",
    "# Imputar NA de Nombre amb la mitjana de \"Nombre\" per \"Nom_districte\"\n",
    "mean_nombre_nom_districte = DF.groupBy('Nom_Districte').agg(F.mean('Nombre').alias('mean_nombre_nom_districte'))\n",
    "\n",
    "DF = DF.join(mean_nombre_nom_districte, on='Nom_Districte', how='left')\n",
    "DF = DF.withColumn('Nombre', F.when(DF['Nombre'].isNull(), DF['mean_nombre_nom_districte']).otherwise(DF['Nombre']))\n",
    "\n",
    "# Verificar NAs després de la imputació per districte\n",
    "print(f'Hi ha {DF.count() - DF.na.drop().count()} NAs en districte')\n",
    "\n",
    "# Imprimir totes les files amb NA a la columna \"Nombre\"\n",
    "DF.filter(DF.Nombre.isNull()).show()\n",
    "\n",
    "min_value = DF.groupBy('Superfície_mitjana_(m2_construïts)').agg(F.min('Nombre').alias('min_value'))\n",
    "max_value = DF.groupBy('Superfície_mitjana_(m2_construïts)').agg(F.max('Nombre').alias('max_value'))\n",
    "\n",
    "DF = DF.join(min_value, on='Superfície_mitjana_(m2_construïts)', how='left')\n",
    "DF = DF.join(max_value, on='Superfície_mitjana_(m2_construïts)', how='left')\n",
    "\n",
    "DF = DF.withColumn('Nombre', F.when(DF['Superfície_mitjana_(m2_construïts)'] == 0, 0).otherwise(DF['Nombre']-DF['min_value'])/(DF['max_value']-DF['min_value']))\n",
    "\n",
    "# outliers\n",
    "IQR = DF.approxQuantile('Nombre', [0.25, 0.75], 0.001)\n",
    "IQR_values = IQR[1] - IQR[0]\n",
    "        \n",
    "DF = DF.withColumn('IQR', lit(IQR_values))\n",
    "                \n",
    "not_outliers = DF.filter(col('Nombre') >= IQR[0] - 1.5 * IQR_values)\\\n",
    "            .filter(col('Nombre') <= IQR[1] + 1.5 * IQR_values)\n",
    "\n",
    "outliers = DF.subtract(not_outliers)\n",
    "print(f\"Hi ha {outliers.count()} outliers detectats per quartils\")\n",
    "  \n",
    "# eliminar columnes auxiliars\n",
    "DF = DF.drop('min_value', 'max_value', 'mean_nombre_nom_barri', 'mean_nombre_nom_districte', 'IQR')\n",
    "  "
   ]
  },
  {
   "cell_type": "code",
   "execution_count": 4,
   "metadata": {},
   "outputs": [
    {
     "name": "stdout",
     "output_type": "stream",
     "text": [
      "+----------------------------------+--------------+--------------------+----+---------+--------------+----------+-------------------+\n",
      "|Superfície_mitjana_(m2_construïts)| Nom_Districte|           Nom_Barri| Any|Trimestre|Codi_Districte|Codi_Barri|             Nombre|\n",
      "+----------------------------------+--------------+--------------------+----+---------+--------------+----------+-------------------+\n",
      "|                             Total|     Les Corts|           les Corts|2023|        1|             4|        19|0.16117216998719475|\n",
      "|                             Total|     Les Corts|la Maternitat i S...|2023|        1|             4|        20|0.20227920475625832|\n",
      "|                             Total|     Les Corts|           Pedralbes|2023|        1|             4|        21|0.42328043749190036|\n",
      "|                             Total|Sants-Montjuïc|   la Marina de Port|2023|        1|             3|        13|0.11477411752288869|\n",
      "|                             Total|Sants-Montjuïc|la Marina del Pra...|2023|        1|             3|        12| 0.1522181424299895|\n",
      "|                             Total|Sants-Montjuïc|       Sants - Badal|2023|        1|             3|        17|0.08791209695460624|\n",
      "|                             Total|Sants-Montjuïc|la Font de la Gua...|2023|        1|             3|        14|0.15140415403918295|\n",
      "|                             Total|Sants-Montjuïc|        el Poble Sec|2023|        1|             3|        11|0.08262107925936372|\n",
      "|                             Total|Sants-Montjuïc|          la Bordeta|2023|        1|             3|        16| 0.1522181424299895|\n",
      "|                             Total|Sants-Montjuïc|         Hostafrancs|2023|        1|             3|        15|0.10663410940815662|\n",
      "|                             Total|Sants-Montjuïc|               Sants|2023|        1|             3|        18| 0.1298331201144763|\n",
      "|                             Total|      Eixample|la Dreta de l'Eix...|2023|        1|             2|         7|0.30606430821909203|\n",
      "|                             Total|      Eixample|l'Antiga Esquerra...|2023|        1|             2|         8|0.23687423924386955|\n",
      "|                             Total|      Eixample|         Sant Antoni|2023|        1|             2|        10| 0.1628001778204745|\n",
      "|                             Total|      Eixample|la Nova Esquerra ...|2023|        1|             2|         9|0.13593812620052537|\n",
      "|                             Total|      Eixample|       el Fort Pienc|2023|        1|             2|         5|0.15995115634931828|\n",
      "|                             Total|      Eixample|  la Sagrada Família|2023|        1|             2|         6|0.12657713549958352|\n",
      "|                             Total|  Ciutat Vella|      el Barri Gòtic|2023|        1|             1|         2| 0.1693121781019268|\n",
      "|                             Total|  Ciutat Vella|Sant Pere, Santa ...|2023|        1|             1|         4|0.12047212941353447|\n",
      "|                             Total|  Ciutat Vella|            el Raval|2023|        1|             1|         1|0.09157509129073566|\n",
      "+----------------------------------+--------------+--------------------+----+---------+--------------+----------+-------------------+\n",
      "only showing top 20 rows\n",
      "\n"
     ]
    }
   ],
   "source": [
    "DF.show()"
   ]
  },
  {
   "cell_type": "code",
   "execution_count": 5,
   "metadata": {},
   "outputs": [],
   "source": [
    "spark.stop()"
   ]
  },
  {
   "cell_type": "code",
   "execution_count": null,
   "metadata": {},
   "outputs": [],
   "source": []
  }
 ],
 "metadata": {
  "kernelspec": {
   "display_name": "Python 3",
   "language": "python",
   "name": "python3"
  },
  "language_info": {
   "codemirror_mode": {
    "name": "ipython",
    "version": 3
   },
   "file_extension": ".py",
   "mimetype": "text/x-python",
   "name": "python",
   "nbconvert_exporter": "python",
   "pygments_lexer": "ipython3",
   "version": "3.9.6"
  }
 },
 "nbformat": 4,
 "nbformat_minor": 2
}
