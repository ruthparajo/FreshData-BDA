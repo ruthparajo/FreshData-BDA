{
 "cells": [
  {
   "cell_type": "code",
   "execution_count": 17,
   "metadata": {},
   "outputs": [],
   "source": [
    "import pyspark\n",
    "from pyspark.sql import SparkSession\n",
    "import pyspark.sql.functions as F\n",
    "from pyspark.sql.functions import col, expr, lit\n",
    "from pyspark.sql.window import Window\n",
    "import duckdb"
   ]
  },
  {
   "cell_type": "code",
   "execution_count": 2,
   "metadata": {},
   "outputs": [
    {
     "name": "stderr",
     "output_type": "stream",
     "text": [
      "24/04/16 16:16:02 WARN NativeCodeLoader: Unable to load native-hadoop library for your platform... using builtin-java classes where applicable\n",
      "Setting default log level to \"WARN\".\n",
      "To adjust logging level use sc.setLogLevel(newLevel). For SparkR, use setLogLevel(newLevel).\n"
     ]
    }
   ],
   "source": [
    "spark = SparkSession.builder\\\n",
    "    .config(\"spark.jars\", \"duckdb.jar\") \\\n",
    "    .getOrCreate()"
   ]
  },
  {
   "cell_type": "code",
   "execution_count": 37,
   "metadata": {},
   "outputs": [
    {
     "name": "stdout",
     "output_type": "stream",
     "text": [
      "Hi ha 0 valors duplicats al DataFrame 'formatted_zone/compravenda_sup.db' de 876 valors totals\n",
      "Hi ha 290 NAs\n",
      "+----+---------+--------------+-------------------+----------+--------------------+----------------------------------+------+\n",
      "| Any|Trimestre|Codi_Districte|      Nom_Districte|Codi_Barri|           Nom_Barri|Superfície_mitjana_(m2_construïts)|Nombre|\n",
      "+----+---------+--------------+-------------------+----------+--------------------+----------------------------------+------+\n",
      "|2023|        1|             7|     Horta-Guinardó|        42|            la Clota|                             Total|  NULL|\n",
      "|2023|        1|             8|         Nou Barris|        56|            Vallbona|                             Total|  NULL|\n",
      "|2023|        1|             1|       Ciutat Vella|         1|            el Raval|              Habitatge nou lliure|  NULL|\n",
      "|2023|        1|             2|           Eixample|         5|       el Fort Pienc|              Habitatge nou lliure|  NULL|\n",
      "|2023|        1|             2|           Eixample|        10|         Sant Antoni|              Habitatge nou lliure|  NULL|\n",
      "|2023|        1|             3|     Sants-Montjuïc|        11|        el Poble Sec|              Habitatge nou lliure|  NULL|\n",
      "|2023|        1|             3|     Sants-Montjuïc|        12|la Marina del Pra...|              Habitatge nou lliure|  NULL|\n",
      "|2023|        1|             3|     Sants-Montjuïc|        13|   la Marina de Port|              Habitatge nou lliure|  NULL|\n",
      "|2023|        1|             3|     Sants-Montjuïc|        17|       Sants - Badal|              Habitatge nou lliure|  NULL|\n",
      "|2023|        1|             5|Sarrià-Sant Gervasi|        24|     les Tres Torres|              Habitatge nou lliure|  NULL|\n",
      "|2023|        1|             6|             Gràcia|        32|el Camp d'en Gras...|              Habitatge nou lliure|  NULL|\n",
      "|2023|        1|             7|     Horta-Guinardó|        34|            Can Baró|              Habitatge nou lliure|  NULL|\n",
      "|2023|        1|             7|     Horta-Guinardó|        41|    la Vall d'Hebron|              Habitatge nou lliure|  NULL|\n",
      "|2023|        1|             7|     Horta-Guinardó|        42|            la Clota|              Habitatge nou lliure|  NULL|\n",
      "|2023|        1|             8|         Nou Barris|        46| el Turó de la Peira|              Habitatge nou lliure|  NULL|\n",
      "|2023|        1|             8|         Nou Barris|        48|        la Guineueta|              Habitatge nou lliure|  NULL|\n",
      "|2023|        1|             8|         Nou Barris|        49|           Canyelles|              Habitatge nou lliure|  NULL|\n",
      "|2023|        1|             8|         Nou Barris|        50|        les Roquetes|              Habitatge nou lliure|  NULL|\n",
      "|2023|        1|             8|         Nou Barris|        53|    la Trinitat Nova|              Habitatge nou lliure|  NULL|\n",
      "|2023|        1|             8|         Nou Barris|        54|          Torre Baró|              Habitatge nou lliure|  NULL|\n",
      "+----+---------+--------------+-------------------+----------+--------------------+----------------------------------+------+\n",
      "only showing top 20 rows\n",
      "\n",
      "+--------------------+----+---------+--------------+--------------+----------+----------------------------------+------------------+---------------------+\n",
      "|           Nom_Barri| Any|Trimestre|Codi_Districte| Nom_Districte|Codi_Barri|Superfície_mitjana_(m2_construïts)|            Nombre|mean_nombre_nom_barri|\n",
      "+--------------------+----+---------+--------------+--------------+----------+----------------------------------+------------------+---------------------+\n",
      "|la Dreta de l'Eix...|2023|        1|             2|      Eixample|         7|                             Total|             116.5|    114.2000003390842|\n",
      "|      el Barri Gòtic|2023|        1|             1|  Ciutat Vella|         2|                             Total|  82.9000015258789|     77.7999996609158|\n",
      "|l'Antiga Esquerra...|2023|        1|             2|      Eixample|         8|                             Total|              99.5|    99.86666531032986|\n",
      "|   la Marina de Port|2023|        1|             3|Sants-Montjuïc|        13|                             Total|              69.5|     66.4874997138977|\n",
      "|la Marina del Pra...|2023|        1|             3|Sants-Montjuïc|        12|                             Total| 78.69999694824219|    82.89999898274739|\n",
      "|         Sant Antoni|2023|        1|             2|      Eixample|        10|                             Total| 81.30000305175781|   118.23000106811523|\n",
      "|Sant Pere, Santa ...|2023|        1|             1|  Ciutat Vella|         4|                             Total|  70.9000015258789|    75.47777811686198|\n",
      "|       Sants - Badal|2023|        1|             3|Sants-Montjuïc|        17|                             Total|62.900001525878906|    77.07500123977661|\n",
      "|la Nova Esquerra ...|2023|        1|             2|      Eixample|         9|                             Total| 74.69999694824219|    78.82500012715657|\n",
      "|           les Corts|2023|        1|             4|     Les Corts|        19|                             Total|  80.9000015258789|     89.3000022040473|\n",
      "|la Font de la Gua...|2023|        1|             3|Sants-Montjuïc|        14|                             Total|              78.5|    76.53750038146973|\n",
      "|        el Poble Sec|2023|        1|             3|Sants-Montjuïc|        11|                             Total|61.599998474121094|    64.87142835344586|\n",
      "|la Maternitat i S...|2023|        1|             4|     Les Corts|        20|                             Total|              91.0|    91.34285627092633|\n",
      "|       el Fort Pienc|2023|        1|             2|      Eixample|         5|                             Total|  80.5999984741211|    81.85714285714286|\n",
      "|          la Bordeta|2023|        1|             3|Sants-Montjuïc|        16|                             Total| 78.69999694824219|    75.73749923706055|\n",
      "|         Hostafrancs|2023|        1|             3|Sants-Montjuïc|        15|                             Total|              67.5|    67.07777743869357|\n",
      "|           Pedralbes|2023|        1|             4|     Les Corts|        21|                             Total| 145.3000030517578|   139.72500038146973|\n",
      "|            el Raval|2023|        1|             1|  Ciutat Vella|         1|                             Total| 63.79999923706055|    67.46999931335449|\n",
      "|               Sants|2023|        1|             3|Sants-Montjuïc|        18|                             Total| 73.19999694824219|    70.07777743869357|\n",
      "|      la Barceloneta|2023|        1|             1|  Ciutat Vella|         3|                             Total| 41.29999923706055|    48.29999961853027|\n",
      "+--------------------+----+---------+--------------+--------------+----------+----------------------------------+------------------+---------------------+\n",
      "only showing top 20 rows\n",
      "\n"
     ]
    }
   ],
   "source": [
    "# compravenda_sup\n",
    "DF = spark.read \\\n",
    "    .format(\"jdbc\") \\\n",
    "    .option(\"url\", \"jdbc:duckdb:formatted_zone/compravenda_sup.db\") \\\n",
    "    .option(\"driver\", \"org.duckdb.DuckDBDriver\") \\\n",
    "    .option(\"query\", \"SELECT * FROM RDD\") \\\n",
    "    .load()\n",
    "\n",
    "# verificar duplicats\n",
    "print(f\"Hi ha {DF.count() - DF.distinct().count()} valors duplicats al DataFrame 'formatted_zone/compravenda_sup.db' de {DF.count()} valors totals\")\n",
    "\n",
    "# substituir \"--\" por NA\n",
    "DF = DF.withColumn('Nombre', F.when(col('Nombre') == '--', None).otherwise(col('Nombre')))\n",
    "# verificar NA\n",
    "print(f'Hi ha {DF.count() - DF.na.drop().count()} NAs')\n",
    "# imprimir toda la informació que té un NA\n",
    "valorsnull = DF.filter(DF.Nombre.isNull()).show()\n",
    "\n",
    "# passar a numeric\n",
    "DF = DF.withColumn('Nombre', DF['Nombre'].cast('float'))\n",
    "\n",
    "# Imputar NA de Nombre amb la mitjana de \"Nombre\" per \"Nom_barri\"\n",
    "mean_nombre_nom_barri = DF.groupBy('Nom_barri').agg(F.mean('Nombre').alias('mean_nombre_nom_barri'))\n",
    "\n",
    "DF = DF.join(mean_nombre_nom_barri, on='Nom_barri', how='left')\n",
    "DF = DF.withColumn('Nombre', F.when(DF['Nombre'].isNull(), DF['mean_nombre_nom_barri']).otherwise(DF['Nombre']))\n",
    "\n",
    "DF.show()\n",
    "\n",
    "# escalar\n",
    "min_max = spark.read \\\n",
    "  .format(\"jdbc\") \\\n",
    "  .option(\"url\", \"jdbc:duckdb:formatted_zone/rent_price.db\") \\\n",
    "  .option(\"driver\", \"org.duckdb.DuckDBDriver\") \\\n",
    "  .option(\"query\", \"SELECT min(Price), max(Price) FROM RDD\") \\\n",
    "  .load()\n",
    "  \n",
    "  "
   ]
  },
  {
   "cell_type": "code",
   "execution_count": null,
   "metadata": {},
   "outputs": [],
   "source": []
  }
 ],
 "metadata": {
  "kernelspec": {
   "display_name": "Python 3",
   "language": "python",
   "name": "python3"
  },
  "language_info": {
   "codemirror_mode": {
    "name": "ipython",
    "version": 3
   },
   "file_extension": ".py",
   "mimetype": "text/x-python",
   "name": "python",
   "nbconvert_exporter": "python",
   "pygments_lexer": "ipython3",
   "version": "3.9.6"
  }
 },
 "nbformat": 4,
 "nbformat_minor": 2
}
